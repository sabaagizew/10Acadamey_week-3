{
  "nbformat": 4,
  "nbformat_minor": 5,
  "metadata": {
    "kernelspec": {
      "display_name": "Python 3",
      "language": "python",
      "name": "python3"
    },
    "language_info": {
      "codemirror_mode": {
        "name": "ipython",
        "version": 3
      },
      "file_extension": ".py",
      "mimetype": "text/x-python",
      "name": "python",
      "nbconvert_exporter": "python",
      "pygments_lexer": "ipython3",
      "version": "3.8.3"
    },
    "colab": {
      "name": "week3_sales_pridict_prophet.ipynb",
      "provenance": [],
      "include_colab_link": true
    }
  },
  "cells": [
    {
      "cell_type": "markdown",
      "metadata": {
        "id": "view-in-github",
        "colab_type": "text"
      },
      "source": [
        "<a href=\"https://colab.research.google.com/github/sabaagizew/10Acadamey_week-3/blob/main/week3_sales_pridict_prophet.ipynb\" target=\"_parent\"><img src=\"https://colab.research.google.com/assets/colab-badge.svg\" alt=\"Open In Colab\"/></a>"
      ]
    },
    {
      "cell_type": "code",
      "metadata": {
        "id": "53f39cc0"
      },
      "source": [
        "%load_ext autoreload\n",
        "%autoreload 2"
      ],
      "id": "53f39cc0",
      "execution_count": 2,
      "outputs": []
    },
    {
      "cell_type": "code",
      "metadata": {
        "colab": {
          "base_uri": "https://localhost:8080/"
        },
        "id": "SLBoa-Nejjen",
        "outputId": "d54684de-b256-4255-82c6-f846c9b5e4d4"
      },
      "source": [
        "!pip install django-model-utils"
      ],
      "id": "SLBoa-Nejjen",
      "execution_count": 3,
      "outputs": [
        {
          "output_type": "stream",
          "text": [
            "Requirement already satisfied: django-model-utils in /usr/local/lib/python3.7/dist-packages (4.1.1)\n",
            "Requirement already satisfied: Django>=2.0.1 in /usr/local/lib/python3.7/dist-packages (from django-model-utils) (3.2.5)\n",
            "Requirement already satisfied: sqlparse>=0.2.2 in /usr/local/lib/python3.7/dist-packages (from Django>=2.0.1->django-model-utils) (0.4.1)\n",
            "Requirement already satisfied: pytz in /usr/local/lib/python3.7/dist-packages (from Django>=2.0.1->django-model-utils) (2018.9)\n",
            "Requirement already satisfied: asgiref<4,>=3.3.2 in /usr/local/lib/python3.7/dist-packages (from Django>=2.0.1->django-model-utils) (3.4.1)\n",
            "Requirement already satisfied: typing-extensions in /usr/local/lib/python3.7/dist-packages (from asgiref<4,>=3.3.2->Django>=2.0.1->django-model-utils) (3.7.4.3)\n"
          ],
          "name": "stdout"
        }
      ]
    },
    {
      "cell_type": "code",
      "metadata": {
        "id": "yqRGI4LpigHE"
      },
      "source": [
        "import warnings\n",
        "warnings.filterwarnings(\"ignore\")\n",
        "\n",
        "import os\n",
        "import logging\n",
        "logging.basicConfig(level=os.environ.get(\"LOGLEVEL\", \"INFO\"))\n",
        "\n",
        "# loading packages\n",
        "# basic + dates \n",
        "import pandas as pd\n",
        "from pandas import datetime\n",
        "\n",
        "# data visualization\n",
        "import matplotlib.pyplot as plt\n",
        "import seaborn as sns # advanced vizs\n",
        "%matplotlib inline\n",
        "import sys, os\n",
        "import json\n",
        "import requests\n",
        "import time\n",
        "import datetime as dt\n",
        "from datetime import date, timedelta, datetime\n",
        "\n",
        "from itertools import repeat\n",
        "import itertools\n",
        "\n",
        "import numpy as np\n",
        "import pandas as pd\n",
        "import statistics as st\n",
        "import scipy.stats as ss\n",
        "from random import randint\n",
        "\n",
        "import matplotlib.pyplot as plt\n",
        "import seaborn as sns\n",
        "\n"
      ],
      "id": "yqRGI4LpigHE",
      "execution_count": 4,
      "outputs": []
    },
    {
      "cell_type": "code",
      "metadata": {
        "colab": {
          "base_uri": "https://localhost:8080/"
        },
        "id": "Bon_Rz1KgjXP",
        "outputId": "9c0f7a2d-e8d1-424f-92fc-6f0b0f547211"
      },
      "source": [
        "from google.colab import drive\n",
        "drive.mount('/content/drive')"
      ],
      "id": "Bon_Rz1KgjXP",
      "execution_count": 5,
      "outputs": [
        {
          "output_type": "stream",
          "text": [
            "Drive already mounted at /content/drive; to attempt to forcibly remount, call drive.mount(\"/content/drive\", force_remount=True).\n"
          ],
          "name": "stdout"
        }
      ]
    },
    {
      "cell_type": "code",
      "metadata": {
        "colab": {
          "base_uri": "https://localhost:8080/"
        },
        "id": "58hS80OCnYvZ",
        "outputId": "98f81e3f-e160-48a2-9f1a-9eae2f6acbee"
      },
      "source": [
        "log = logging.getLogger()\n",
        "log.info('check')"
      ],
      "id": "58hS80OCnYvZ",
      "execution_count": 6,
      "outputs": [
        {
          "output_type": "stream",
          "text": [
            "INFO:root:check\n"
          ],
          "name": "stderr"
        }
      ]
    },
    {
      "cell_type": "code",
      "metadata": {
        "id": "B4U6vVEUndU_"
      },
      "source": [
        "# Read Datas\n",
        "\n",
        "store_file = '../data/store.csv'\n",
        "test_file = '../data/test.csv'\n",
        "train_file = '../data/train.csv'"
      ],
      "id": "B4U6vVEUndU_",
      "execution_count": 7,
      "outputs": []
    },
    {
      "cell_type": "code",
      "metadata": {
        "id": "5rThe1T2nnWv"
      },
      "source": [
        " store_file= pd.read_csv('drive/MyDrive/main/store.csv')"
      ],
      "id": "5rThe1T2nnWv",
      "execution_count": 8,
      "outputs": []
    },
    {
      "cell_type": "code",
      "metadata": {
        "id": "H9CzEk_bqOXd"
      },
      "source": [
        "test_file= pd.read_csv('drive/MyDrive/main/test.csv')"
      ],
      "id": "H9CzEk_bqOXd",
      "execution_count": 9,
      "outputs": []
    },
    {
      "cell_type": "code",
      "metadata": {
        "id": "Rw7SEF-sqOa2"
      },
      "source": [
        "train_file=pd.read_csv('drive/MyDrive/main/train.csv')"
      ],
      "id": "Rw7SEF-sqOa2",
      "execution_count": 10,
      "outputs": []
    },
    {
      "cell_type": "code",
      "metadata": {
        "colab": {
          "base_uri": "https://localhost:8080/"
        },
        "id": "gQ-U7hjKq1aV",
        "outputId": "1d846cdd-8da1-4c07-f1ed-d48d6967b906"
      },
      "source": [
        "test_file.info()"
      ],
      "id": "gQ-U7hjKq1aV",
      "execution_count": 11,
      "outputs": [
        {
          "output_type": "stream",
          "text": [
            "<class 'pandas.core.frame.DataFrame'>\n",
            "RangeIndex: 41088 entries, 0 to 41087\n",
            "Data columns (total 8 columns):\n",
            " #   Column         Non-Null Count  Dtype  \n",
            "---  ------         --------------  -----  \n",
            " 0   Id             41088 non-null  int64  \n",
            " 1   Store          41088 non-null  int64  \n",
            " 2   DayOfWeek      41088 non-null  int64  \n",
            " 3   Date           41088 non-null  object \n",
            " 4   Open           41077 non-null  float64\n",
            " 5   Promo          41088 non-null  int64  \n",
            " 6   StateHoliday   41088 non-null  object \n",
            " 7   SchoolHoliday  41088 non-null  int64  \n",
            "dtypes: float64(1), int64(5), object(2)\n",
            "memory usage: 2.5+ MB\n"
          ],
          "name": "stdout"
        }
      ]
    },
    {
      "cell_type": "code",
      "metadata": {
        "id": "EiHarxPoQYMF",
        "outputId": "d8928548-b10a-4a00-ea64-e02f0fc79803",
        "colab": {
          "base_uri": "https://localhost:8080/"
        }
      },
      "source": [
        "train_file['Date'] = pd.to_datetime(train_file['Date'])\n",
        "train_file.info()"
      ],
      "id": "EiHarxPoQYMF",
      "execution_count": 12,
      "outputs": [
        {
          "output_type": "stream",
          "text": [
            "<class 'pandas.core.frame.DataFrame'>\n",
            "RangeIndex: 1017209 entries, 0 to 1017208\n",
            "Data columns (total 9 columns):\n",
            " #   Column         Non-Null Count    Dtype         \n",
            "---  ------         --------------    -----         \n",
            " 0   Store          1017209 non-null  int64         \n",
            " 1   DayOfWeek      1017209 non-null  int64         \n",
            " 2   Date           1017209 non-null  datetime64[ns]\n",
            " 3   Sales          1017209 non-null  int64         \n",
            " 4   Customers      1017209 non-null  int64         \n",
            " 5   Open           1017209 non-null  int64         \n",
            " 6   Promo          1017209 non-null  int64         \n",
            " 7   StateHoliday   1017209 non-null  object        \n",
            " 8   SchoolHoliday  1017209 non-null  int64         \n",
            "dtypes: datetime64[ns](1), int64(7), object(1)\n",
            "memory usage: 69.8+ MB\n"
          ],
          "name": "stdout"
        }
      ]
    },
    {
      "cell_type": "code",
      "metadata": {
        "colab": {
          "base_uri": "https://localhost:8080/",
          "height": 439
        },
        "id": "rdP29NWxq1m2",
        "outputId": "56bea22a-2d1f-48ab-ea4a-396627d0d022"
      },
      "source": [
        "store_file"
      ],
      "id": "rdP29NWxq1m2",
      "execution_count": 13,
      "outputs": [
        {
          "output_type": "execute_result",
          "data": {
            "text/html": [
              "<div>\n",
              "<style scoped>\n",
              "    .dataframe tbody tr th:only-of-type {\n",
              "        vertical-align: middle;\n",
              "    }\n",
              "\n",
              "    .dataframe tbody tr th {\n",
              "        vertical-align: top;\n",
              "    }\n",
              "\n",
              "    .dataframe thead th {\n",
              "        text-align: right;\n",
              "    }\n",
              "</style>\n",
              "<table border=\"1\" class=\"dataframe\">\n",
              "  <thead>\n",
              "    <tr style=\"text-align: right;\">\n",
              "      <th></th>\n",
              "      <th>Store</th>\n",
              "      <th>StoreType</th>\n",
              "      <th>Assortment</th>\n",
              "      <th>CompetitionDistance</th>\n",
              "      <th>CompetitionOpenSinceMonth</th>\n",
              "      <th>CompetitionOpenSinceYear</th>\n",
              "      <th>Promo2</th>\n",
              "      <th>Promo2SinceWeek</th>\n",
              "      <th>Promo2SinceYear</th>\n",
              "      <th>PromoInterval</th>\n",
              "    </tr>\n",
              "  </thead>\n",
              "  <tbody>\n",
              "    <tr>\n",
              "      <th>0</th>\n",
              "      <td>1</td>\n",
              "      <td>c</td>\n",
              "      <td>a</td>\n",
              "      <td>1270.0</td>\n",
              "      <td>9.0</td>\n",
              "      <td>2008.0</td>\n",
              "      <td>0</td>\n",
              "      <td>NaN</td>\n",
              "      <td>NaN</td>\n",
              "      <td>NaN</td>\n",
              "    </tr>\n",
              "    <tr>\n",
              "      <th>1</th>\n",
              "      <td>2</td>\n",
              "      <td>a</td>\n",
              "      <td>a</td>\n",
              "      <td>570.0</td>\n",
              "      <td>11.0</td>\n",
              "      <td>2007.0</td>\n",
              "      <td>1</td>\n",
              "      <td>13.0</td>\n",
              "      <td>2010.0</td>\n",
              "      <td>Jan,Apr,Jul,Oct</td>\n",
              "    </tr>\n",
              "    <tr>\n",
              "      <th>2</th>\n",
              "      <td>3</td>\n",
              "      <td>a</td>\n",
              "      <td>a</td>\n",
              "      <td>14130.0</td>\n",
              "      <td>12.0</td>\n",
              "      <td>2006.0</td>\n",
              "      <td>1</td>\n",
              "      <td>14.0</td>\n",
              "      <td>2011.0</td>\n",
              "      <td>Jan,Apr,Jul,Oct</td>\n",
              "    </tr>\n",
              "    <tr>\n",
              "      <th>3</th>\n",
              "      <td>4</td>\n",
              "      <td>c</td>\n",
              "      <td>c</td>\n",
              "      <td>620.0</td>\n",
              "      <td>9.0</td>\n",
              "      <td>2009.0</td>\n",
              "      <td>0</td>\n",
              "      <td>NaN</td>\n",
              "      <td>NaN</td>\n",
              "      <td>NaN</td>\n",
              "    </tr>\n",
              "    <tr>\n",
              "      <th>4</th>\n",
              "      <td>5</td>\n",
              "      <td>a</td>\n",
              "      <td>a</td>\n",
              "      <td>29910.0</td>\n",
              "      <td>4.0</td>\n",
              "      <td>2015.0</td>\n",
              "      <td>0</td>\n",
              "      <td>NaN</td>\n",
              "      <td>NaN</td>\n",
              "      <td>NaN</td>\n",
              "    </tr>\n",
              "    <tr>\n",
              "      <th>...</th>\n",
              "      <td>...</td>\n",
              "      <td>...</td>\n",
              "      <td>...</td>\n",
              "      <td>...</td>\n",
              "      <td>...</td>\n",
              "      <td>...</td>\n",
              "      <td>...</td>\n",
              "      <td>...</td>\n",
              "      <td>...</td>\n",
              "      <td>...</td>\n",
              "    </tr>\n",
              "    <tr>\n",
              "      <th>1110</th>\n",
              "      <td>1111</td>\n",
              "      <td>a</td>\n",
              "      <td>a</td>\n",
              "      <td>1900.0</td>\n",
              "      <td>6.0</td>\n",
              "      <td>2014.0</td>\n",
              "      <td>1</td>\n",
              "      <td>31.0</td>\n",
              "      <td>2013.0</td>\n",
              "      <td>Jan,Apr,Jul,Oct</td>\n",
              "    </tr>\n",
              "    <tr>\n",
              "      <th>1111</th>\n",
              "      <td>1112</td>\n",
              "      <td>c</td>\n",
              "      <td>c</td>\n",
              "      <td>1880.0</td>\n",
              "      <td>4.0</td>\n",
              "      <td>2006.0</td>\n",
              "      <td>0</td>\n",
              "      <td>NaN</td>\n",
              "      <td>NaN</td>\n",
              "      <td>NaN</td>\n",
              "    </tr>\n",
              "    <tr>\n",
              "      <th>1112</th>\n",
              "      <td>1113</td>\n",
              "      <td>a</td>\n",
              "      <td>c</td>\n",
              "      <td>9260.0</td>\n",
              "      <td>NaN</td>\n",
              "      <td>NaN</td>\n",
              "      <td>0</td>\n",
              "      <td>NaN</td>\n",
              "      <td>NaN</td>\n",
              "      <td>NaN</td>\n",
              "    </tr>\n",
              "    <tr>\n",
              "      <th>1113</th>\n",
              "      <td>1114</td>\n",
              "      <td>a</td>\n",
              "      <td>c</td>\n",
              "      <td>870.0</td>\n",
              "      <td>NaN</td>\n",
              "      <td>NaN</td>\n",
              "      <td>0</td>\n",
              "      <td>NaN</td>\n",
              "      <td>NaN</td>\n",
              "      <td>NaN</td>\n",
              "    </tr>\n",
              "    <tr>\n",
              "      <th>1114</th>\n",
              "      <td>1115</td>\n",
              "      <td>d</td>\n",
              "      <td>c</td>\n",
              "      <td>5350.0</td>\n",
              "      <td>NaN</td>\n",
              "      <td>NaN</td>\n",
              "      <td>1</td>\n",
              "      <td>22.0</td>\n",
              "      <td>2012.0</td>\n",
              "      <td>Mar,Jun,Sept,Dec</td>\n",
              "    </tr>\n",
              "  </tbody>\n",
              "</table>\n",
              "<p>1115 rows × 10 columns</p>\n",
              "</div>"
            ],
            "text/plain": [
              "      Store StoreType  ... Promo2SinceYear     PromoInterval\n",
              "0         1         c  ...             NaN               NaN\n",
              "1         2         a  ...          2010.0   Jan,Apr,Jul,Oct\n",
              "2         3         a  ...          2011.0   Jan,Apr,Jul,Oct\n",
              "3         4         c  ...             NaN               NaN\n",
              "4         5         a  ...             NaN               NaN\n",
              "...     ...       ...  ...             ...               ...\n",
              "1110   1111         a  ...          2013.0   Jan,Apr,Jul,Oct\n",
              "1111   1112         c  ...             NaN               NaN\n",
              "1112   1113         a  ...             NaN               NaN\n",
              "1113   1114         a  ...             NaN               NaN\n",
              "1114   1115         d  ...          2012.0  Mar,Jun,Sept,Dec\n",
              "\n",
              "[1115 rows x 10 columns]"
            ]
          },
          "metadata": {
            "tags": []
          },
          "execution_count": 13
        }
      ]
    },
    {
      "cell_type": "code",
      "metadata": {
        "colab": {
          "base_uri": "https://localhost:8080/"
        },
        "id": "ypVPGEYUrnK2",
        "outputId": "1a597cdb-1cf7-448b-ed29-51e4a8ec740e"
      },
      "source": [
        "store_file.Promo2.value_counts()"
      ],
      "id": "ypVPGEYUrnK2",
      "execution_count": 14,
      "outputs": [
        {
          "output_type": "execute_result",
          "data": {
            "text/plain": [
              "1    571\n",
              "0    544\n",
              "Name: Promo2, dtype: int64"
            ]
          },
          "metadata": {
            "tags": []
          },
          "execution_count": 14
        }
      ]
    },
    {
      "cell_type": "code",
      "metadata": {
        "colab": {
          "base_uri": "https://localhost:8080/"
        },
        "id": "uo9Srnktrtre",
        "outputId": "bbcb185b-45af-41e2-92b9-86a5e68f87dc"
      },
      "source": [
        "train_file.head()\n",
        "train_file.Open.value_counts()"
      ],
      "id": "uo9Srnktrtre",
      "execution_count": 15,
      "outputs": [
        {
          "output_type": "execute_result",
          "data": {
            "text/plain": [
              "1    844392\n",
              "0    172817\n",
              "Name: Open, dtype: int64"
            ]
          },
          "metadata": {
            "tags": []
          },
          "execution_count": 15
        }
      ]
    },
    {
      "cell_type": "code",
      "metadata": {
        "colab": {
          "base_uri": "https://localhost:8080/",
          "height": 204
        },
        "id": "DUAlyKaDr4bU",
        "outputId": "d2d8afb1-1208-4e4a-ea6a-f718ea465aa7"
      },
      "source": [
        "test_file.head()"
      ],
      "id": "DUAlyKaDr4bU",
      "execution_count": 16,
      "outputs": [
        {
          "output_type": "execute_result",
          "data": {
            "text/html": [
              "<div>\n",
              "<style scoped>\n",
              "    .dataframe tbody tr th:only-of-type {\n",
              "        vertical-align: middle;\n",
              "    }\n",
              "\n",
              "    .dataframe tbody tr th {\n",
              "        vertical-align: top;\n",
              "    }\n",
              "\n",
              "    .dataframe thead th {\n",
              "        text-align: right;\n",
              "    }\n",
              "</style>\n",
              "<table border=\"1\" class=\"dataframe\">\n",
              "  <thead>\n",
              "    <tr style=\"text-align: right;\">\n",
              "      <th></th>\n",
              "      <th>Id</th>\n",
              "      <th>Store</th>\n",
              "      <th>DayOfWeek</th>\n",
              "      <th>Date</th>\n",
              "      <th>Open</th>\n",
              "      <th>Promo</th>\n",
              "      <th>StateHoliday</th>\n",
              "      <th>SchoolHoliday</th>\n",
              "    </tr>\n",
              "  </thead>\n",
              "  <tbody>\n",
              "    <tr>\n",
              "      <th>0</th>\n",
              "      <td>1</td>\n",
              "      <td>1</td>\n",
              "      <td>4</td>\n",
              "      <td>2015-09-17</td>\n",
              "      <td>1.0</td>\n",
              "      <td>1</td>\n",
              "      <td>0</td>\n",
              "      <td>0</td>\n",
              "    </tr>\n",
              "    <tr>\n",
              "      <th>1</th>\n",
              "      <td>2</td>\n",
              "      <td>3</td>\n",
              "      <td>4</td>\n",
              "      <td>2015-09-17</td>\n",
              "      <td>1.0</td>\n",
              "      <td>1</td>\n",
              "      <td>0</td>\n",
              "      <td>0</td>\n",
              "    </tr>\n",
              "    <tr>\n",
              "      <th>2</th>\n",
              "      <td>3</td>\n",
              "      <td>7</td>\n",
              "      <td>4</td>\n",
              "      <td>2015-09-17</td>\n",
              "      <td>1.0</td>\n",
              "      <td>1</td>\n",
              "      <td>0</td>\n",
              "      <td>0</td>\n",
              "    </tr>\n",
              "    <tr>\n",
              "      <th>3</th>\n",
              "      <td>4</td>\n",
              "      <td>8</td>\n",
              "      <td>4</td>\n",
              "      <td>2015-09-17</td>\n",
              "      <td>1.0</td>\n",
              "      <td>1</td>\n",
              "      <td>0</td>\n",
              "      <td>0</td>\n",
              "    </tr>\n",
              "    <tr>\n",
              "      <th>4</th>\n",
              "      <td>5</td>\n",
              "      <td>9</td>\n",
              "      <td>4</td>\n",
              "      <td>2015-09-17</td>\n",
              "      <td>1.0</td>\n",
              "      <td>1</td>\n",
              "      <td>0</td>\n",
              "      <td>0</td>\n",
              "    </tr>\n",
              "  </tbody>\n",
              "</table>\n",
              "</div>"
            ],
            "text/plain": [
              "   Id  Store  DayOfWeek        Date  Open  Promo StateHoliday  SchoolHoliday\n",
              "0   1      1          4  2015-09-17   1.0      1            0              0\n",
              "1   2      3          4  2015-09-17   1.0      1            0              0\n",
              "2   3      7          4  2015-09-17   1.0      1            0              0\n",
              "3   4      8          4  2015-09-17   1.0      1            0              0\n",
              "4   5      9          4  2015-09-17   1.0      1            0              0"
            ]
          },
          "metadata": {
            "tags": []
          },
          "execution_count": 16
        }
      ]
    },
    {
      "cell_type": "code",
      "metadata": {
        "id": "Vsv5B0c0Fnul",
        "outputId": "eeccd80b-2c2a-4761-a0bf-35c2f6f20fd8",
        "colab": {
          "base_uri": "https://localhost:8080/",
          "height": 419
        }
      },
      "source": [
        "train_file"
      ],
      "id": "Vsv5B0c0Fnul",
      "execution_count": 17,
      "outputs": [
        {
          "output_type": "execute_result",
          "data": {
            "text/html": [
              "<div>\n",
              "<style scoped>\n",
              "    .dataframe tbody tr th:only-of-type {\n",
              "        vertical-align: middle;\n",
              "    }\n",
              "\n",
              "    .dataframe tbody tr th {\n",
              "        vertical-align: top;\n",
              "    }\n",
              "\n",
              "    .dataframe thead th {\n",
              "        text-align: right;\n",
              "    }\n",
              "</style>\n",
              "<table border=\"1\" class=\"dataframe\">\n",
              "  <thead>\n",
              "    <tr style=\"text-align: right;\">\n",
              "      <th></th>\n",
              "      <th>Store</th>\n",
              "      <th>DayOfWeek</th>\n",
              "      <th>Date</th>\n",
              "      <th>Sales</th>\n",
              "      <th>Customers</th>\n",
              "      <th>Open</th>\n",
              "      <th>Promo</th>\n",
              "      <th>StateHoliday</th>\n",
              "      <th>SchoolHoliday</th>\n",
              "    </tr>\n",
              "  </thead>\n",
              "  <tbody>\n",
              "    <tr>\n",
              "      <th>0</th>\n",
              "      <td>1</td>\n",
              "      <td>5</td>\n",
              "      <td>2015-07-31</td>\n",
              "      <td>5263</td>\n",
              "      <td>555</td>\n",
              "      <td>1</td>\n",
              "      <td>1</td>\n",
              "      <td>0</td>\n",
              "      <td>1</td>\n",
              "    </tr>\n",
              "    <tr>\n",
              "      <th>1</th>\n",
              "      <td>2</td>\n",
              "      <td>5</td>\n",
              "      <td>2015-07-31</td>\n",
              "      <td>6064</td>\n",
              "      <td>625</td>\n",
              "      <td>1</td>\n",
              "      <td>1</td>\n",
              "      <td>0</td>\n",
              "      <td>1</td>\n",
              "    </tr>\n",
              "    <tr>\n",
              "      <th>2</th>\n",
              "      <td>3</td>\n",
              "      <td>5</td>\n",
              "      <td>2015-07-31</td>\n",
              "      <td>8314</td>\n",
              "      <td>821</td>\n",
              "      <td>1</td>\n",
              "      <td>1</td>\n",
              "      <td>0</td>\n",
              "      <td>1</td>\n",
              "    </tr>\n",
              "    <tr>\n",
              "      <th>3</th>\n",
              "      <td>4</td>\n",
              "      <td>5</td>\n",
              "      <td>2015-07-31</td>\n",
              "      <td>13995</td>\n",
              "      <td>1498</td>\n",
              "      <td>1</td>\n",
              "      <td>1</td>\n",
              "      <td>0</td>\n",
              "      <td>1</td>\n",
              "    </tr>\n",
              "    <tr>\n",
              "      <th>4</th>\n",
              "      <td>5</td>\n",
              "      <td>5</td>\n",
              "      <td>2015-07-31</td>\n",
              "      <td>4822</td>\n",
              "      <td>559</td>\n",
              "      <td>1</td>\n",
              "      <td>1</td>\n",
              "      <td>0</td>\n",
              "      <td>1</td>\n",
              "    </tr>\n",
              "    <tr>\n",
              "      <th>...</th>\n",
              "      <td>...</td>\n",
              "      <td>...</td>\n",
              "      <td>...</td>\n",
              "      <td>...</td>\n",
              "      <td>...</td>\n",
              "      <td>...</td>\n",
              "      <td>...</td>\n",
              "      <td>...</td>\n",
              "      <td>...</td>\n",
              "    </tr>\n",
              "    <tr>\n",
              "      <th>1017204</th>\n",
              "      <td>1111</td>\n",
              "      <td>2</td>\n",
              "      <td>2013-01-01</td>\n",
              "      <td>0</td>\n",
              "      <td>0</td>\n",
              "      <td>0</td>\n",
              "      <td>0</td>\n",
              "      <td>a</td>\n",
              "      <td>1</td>\n",
              "    </tr>\n",
              "    <tr>\n",
              "      <th>1017205</th>\n",
              "      <td>1112</td>\n",
              "      <td>2</td>\n",
              "      <td>2013-01-01</td>\n",
              "      <td>0</td>\n",
              "      <td>0</td>\n",
              "      <td>0</td>\n",
              "      <td>0</td>\n",
              "      <td>a</td>\n",
              "      <td>1</td>\n",
              "    </tr>\n",
              "    <tr>\n",
              "      <th>1017206</th>\n",
              "      <td>1113</td>\n",
              "      <td>2</td>\n",
              "      <td>2013-01-01</td>\n",
              "      <td>0</td>\n",
              "      <td>0</td>\n",
              "      <td>0</td>\n",
              "      <td>0</td>\n",
              "      <td>a</td>\n",
              "      <td>1</td>\n",
              "    </tr>\n",
              "    <tr>\n",
              "      <th>1017207</th>\n",
              "      <td>1114</td>\n",
              "      <td>2</td>\n",
              "      <td>2013-01-01</td>\n",
              "      <td>0</td>\n",
              "      <td>0</td>\n",
              "      <td>0</td>\n",
              "      <td>0</td>\n",
              "      <td>a</td>\n",
              "      <td>1</td>\n",
              "    </tr>\n",
              "    <tr>\n",
              "      <th>1017208</th>\n",
              "      <td>1115</td>\n",
              "      <td>2</td>\n",
              "      <td>2013-01-01</td>\n",
              "      <td>0</td>\n",
              "      <td>0</td>\n",
              "      <td>0</td>\n",
              "      <td>0</td>\n",
              "      <td>a</td>\n",
              "      <td>1</td>\n",
              "    </tr>\n",
              "  </tbody>\n",
              "</table>\n",
              "<p>1017209 rows × 9 columns</p>\n",
              "</div>"
            ],
            "text/plain": [
              "         Store  DayOfWeek       Date  ...  Promo  StateHoliday  SchoolHoliday\n",
              "0            1          5 2015-07-31  ...      1             0              1\n",
              "1            2          5 2015-07-31  ...      1             0              1\n",
              "2            3          5 2015-07-31  ...      1             0              1\n",
              "3            4          5 2015-07-31  ...      1             0              1\n",
              "4            5          5 2015-07-31  ...      1             0              1\n",
              "...        ...        ...        ...  ...    ...           ...            ...\n",
              "1017204   1111          2 2013-01-01  ...      0             a              1\n",
              "1017205   1112          2 2013-01-01  ...      0             a              1\n",
              "1017206   1113          2 2013-01-01  ...      0             a              1\n",
              "1017207   1114          2 2013-01-01  ...      0             a              1\n",
              "1017208   1115          2 2013-01-01  ...      0             a              1\n",
              "\n",
              "[1017209 rows x 9 columns]"
            ]
          },
          "metadata": {
            "tags": []
          },
          "execution_count": 17
        }
      ]
    },
    {
      "cell_type": "code",
      "metadata": {
        "id": "1-zernxxsFQi"
      },
      "source": [
        "# data extraction\n",
        "# !!!!! HOW !!!!!\n",
        "# train_file['Date'] = pd.to_datetime(train_file['Date'])\n",
        "# train_file['Year'] = train_file['Date'].dt.year\n",
        "# train_file['Month'] = train_file.index.month\n",
        "# train_file['Day'] = train_file.index.day\n",
        "# train_file['WeekOfYear'] = train_file.index.weekofyear\n",
        "# len(train_file.index.week)\n",
        "# train_file.index.week"
      ],
      "id": "1-zernxxsFQi",
      "execution_count": 18,
      "outputs": []
    },
    {
      "cell_type": "code",
      "metadata": {
        "id": "mY2JPNvAS8uC",
        "outputId": "6e00aa01-982f-48e9-dafd-4433b071bcb8",
        "colab": {
          "base_uri": "https://localhost:8080/"
        }
      },
      "source": [
        "store_file.info()"
      ],
      "id": "mY2JPNvAS8uC",
      "execution_count": 19,
      "outputs": [
        {
          "output_type": "stream",
          "text": [
            "<class 'pandas.core.frame.DataFrame'>\n",
            "RangeIndex: 1115 entries, 0 to 1114\n",
            "Data columns (total 10 columns):\n",
            " #   Column                     Non-Null Count  Dtype  \n",
            "---  ------                     --------------  -----  \n",
            " 0   Store                      1115 non-null   int64  \n",
            " 1   StoreType                  1115 non-null   object \n",
            " 2   Assortment                 1115 non-null   object \n",
            " 3   CompetitionDistance        1112 non-null   float64\n",
            " 4   CompetitionOpenSinceMonth  761 non-null    float64\n",
            " 5   CompetitionOpenSinceYear   761 non-null    float64\n",
            " 6   Promo2                     1115 non-null   int64  \n",
            " 7   Promo2SinceWeek            571 non-null    float64\n",
            " 8   Promo2SinceYear            571 non-null    float64\n",
            " 9   PromoInterval              571 non-null    object \n",
            "dtypes: float64(5), int64(2), object(3)\n",
            "memory usage: 87.2+ KB\n"
          ],
          "name": "stdout"
        }
      ]
    },
    {
      "cell_type": "code",
      "metadata": {
        "id": "VmJsxMQuTTWC",
        "outputId": "d5914c44-ee8b-48aa-c16c-8c9ffab51354",
        "colab": {
          "base_uri": "https://localhost:8080/"
        }
      },
      "source": [
        "store_file.isna().any()"
      ],
      "id": "VmJsxMQuTTWC",
      "execution_count": 20,
      "outputs": [
        {
          "output_type": "execute_result",
          "data": {
            "text/plain": [
              "Store                        False\n",
              "StoreType                    False\n",
              "Assortment                   False\n",
              "CompetitionDistance           True\n",
              "CompetitionOpenSinceMonth     True\n",
              "CompetitionOpenSinceYear      True\n",
              "Promo2                       False\n",
              "Promo2SinceWeek               True\n",
              "Promo2SinceYear               True\n",
              "PromoInterval                 True\n",
              "dtype: bool"
            ]
          },
          "metadata": {
            "tags": []
          },
          "execution_count": 20
        }
      ]
    },
    {
      "cell_type": "code",
      "metadata": {
        "id": "bdk0TO3HTtDQ",
        "outputId": "bf8f4f3e-aea0-4fa6-ce4e-56a4c1b79e4a",
        "colab": {
          "base_uri": "https://localhost:8080/"
        }
      },
      "source": [
        "store_file.isna().any() # is null"
      ],
      "id": "bdk0TO3HTtDQ",
      "execution_count": 21,
      "outputs": [
        {
          "output_type": "execute_result",
          "data": {
            "text/plain": [
              "Store                        False\n",
              "StoreType                    False\n",
              "Assortment                   False\n",
              "CompetitionDistance           True\n",
              "CompetitionOpenSinceMonth     True\n",
              "CompetitionOpenSinceYear      True\n",
              "Promo2                       False\n",
              "Promo2SinceWeek               True\n",
              "Promo2SinceYear               True\n",
              "PromoInterval                 True\n",
              "dtype: bool"
            ]
          },
          "metadata": {
            "tags": []
          },
          "execution_count": 21
        }
      ]
    },
    {
      "cell_type": "code",
      "metadata": {
        "id": "g4V3SlXlT-Dh",
        "outputId": "c61789d6-9cdc-4462-8996-30739031b945",
        "colab": {
          "base_uri": "https://localhost:8080/"
        }
      },
      "source": [
        "store_file.info()"
      ],
      "id": "g4V3SlXlT-Dh",
      "execution_count": 22,
      "outputs": [
        {
          "output_type": "stream",
          "text": [
            "<class 'pandas.core.frame.DataFrame'>\n",
            "RangeIndex: 1115 entries, 0 to 1114\n",
            "Data columns (total 10 columns):\n",
            " #   Column                     Non-Null Count  Dtype  \n",
            "---  ------                     --------------  -----  \n",
            " 0   Store                      1115 non-null   int64  \n",
            " 1   StoreType                  1115 non-null   object \n",
            " 2   Assortment                 1115 non-null   object \n",
            " 3   CompetitionDistance        1112 non-null   float64\n",
            " 4   CompetitionOpenSinceMonth  761 non-null    float64\n",
            " 5   CompetitionOpenSinceYear   761 non-null    float64\n",
            " 6   Promo2                     1115 non-null   int64  \n",
            " 7   Promo2SinceWeek            571 non-null    float64\n",
            " 8   Promo2SinceYear            571 non-null    float64\n",
            " 9   PromoInterval              571 non-null    object \n",
            "dtypes: float64(5), int64(2), object(3)\n",
            "memory usage: 87.2+ KB\n"
          ],
          "name": "stdout"
        }
      ]
    },
    {
      "cell_type": "code",
      "metadata": {
        "colab": {
          "base_uri": "https://localhost:8080/"
        },
        "id": "oaA7TFGN00Is",
        "outputId": "2e8a5427-25af-4748-ab78-0c03ec69de5b"
      },
      "source": [
        "store_file.isnull().sum() / store_file.shape[0] * 100.00"
      ],
      "id": "oaA7TFGN00Is",
      "execution_count": 23,
      "outputs": [
        {
          "output_type": "stream",
          "text": [
            "INFO:numexpr.utils:NumExpr defaulting to 2 threads.\n"
          ],
          "name": "stderr"
        },
        {
          "output_type": "execute_result",
          "data": {
            "text/plain": [
              "Store                         0.000000\n",
              "StoreType                     0.000000\n",
              "Assortment                    0.000000\n",
              "CompetitionDistance           0.269058\n",
              "CompetitionOpenSinceMonth    31.748879\n",
              "CompetitionOpenSinceYear     31.748879\n",
              "Promo2                        0.000000\n",
              "Promo2SinceWeek              48.789238\n",
              "Promo2SinceYear              48.789238\n",
              "PromoInterval                48.789238\n",
              "dtype: float64"
            ]
          },
          "metadata": {
            "tags": []
          },
          "execution_count": 23
        }
      ]
    },
    {
      "cell_type": "code",
      "metadata": {
        "id": "CfIY4Y_C1Us1"
      },
      "source": [
        "# No particular pattern observed. In this case, it makes a complete sense to replace NaN with the median values\n",
        "store_file['CompetitionDistance'].fillna(store_file['CompetitionDistance'].median(), inplace = True)"
      ],
      "id": "CfIY4Y_C1Us1",
      "execution_count": 24,
      "outputs": []
    },
    {
      "cell_type": "code",
      "metadata": {
        "colab": {
          "base_uri": "https://localhost:8080/"
        },
        "id": "yJ1NQ3oQ2QB7",
        "outputId": "33e124be-5585-4f1f-8cee-acacb64a9c62"
      },
      "source": [
        "store_file.fillna(0, inplace = True)\n",
        "store_file.isnull().sum()"
      ],
      "id": "yJ1NQ3oQ2QB7",
      "execution_count": 25,
      "outputs": [
        {
          "output_type": "execute_result",
          "data": {
            "text/plain": [
              "Store                        0\n",
              "StoreType                    0\n",
              "Assortment                   0\n",
              "CompetitionDistance          0\n",
              "CompetitionOpenSinceMonth    0\n",
              "CompetitionOpenSinceYear     0\n",
              "Promo2                       0\n",
              "Promo2SinceWeek              0\n",
              "Promo2SinceYear              0\n",
              "PromoInterval                0\n",
              "dtype: int64"
            ]
          },
          "metadata": {
            "tags": []
          },
          "execution_count": 25
        }
      ]
    },
    {
      "cell_type": "code",
      "metadata": {
        "colab": {
          "base_uri": "https://localhost:8080/"
        },
        "id": "zqKvSPxzT13R",
        "outputId": "7107b2b8-2c3d-49c3-f836-6730493c303e"
      },
      "source": [
        "# To see the percentage of missing values of every columns\n",
        "def every_column_percent_missing(df):\n",
        "    percent_missing = df.isnull().sum() * 100 / len(df)\n",
        "    missing_value_df = pd.DataFrame({'column_name': df.columns,\n",
        "                                     'percent_missing': percent_missing})\n",
        "\n",
        "    missing_value_df.sort_values('percent_missing', inplace=True)\n",
        "\n",
        "    print(missing_value_df)\n",
        "\n",
        "\n",
        "every_column_percent_missing(store_file)"
      ],
      "id": "zqKvSPxzT13R",
      "execution_count": 26,
      "outputs": [
        {
          "output_type": "stream",
          "text": [
            "                                         column_name  percent_missing\n",
            "Store                                          Store              0.0\n",
            "StoreType                                  StoreType              0.0\n",
            "Assortment                                Assortment              0.0\n",
            "CompetitionDistance              CompetitionDistance              0.0\n",
            "CompetitionOpenSinceMonth  CompetitionOpenSinceMonth              0.0\n",
            "CompetitionOpenSinceYear    CompetitionOpenSinceYear              0.0\n",
            "Promo2                                        Promo2              0.0\n",
            "Promo2SinceWeek                      Promo2SinceWeek              0.0\n",
            "Promo2SinceYear                      Promo2SinceYear              0.0\n",
            "PromoInterval                          PromoInterval              0.0\n"
          ],
          "name": "stdout"
        }
      ]
    },
    {
      "cell_type": "code",
      "metadata": {
        "id": "rJ6CwdoTX1Dd",
        "outputId": "653f5067-d3fd-4d15-d477-3520d70c6553",
        "colab": {
          "base_uri": "https://localhost:8080/",
          "height": 609
        }
      },
      "source": [
        "## Store and Train\n",
        "train_store = pd.merge(train_file, store_file, how='inner', on='Store')\n",
        "train_store['StateHoliday'] = train_store['StateHoliday'].apply(lambda x: str(x))\n",
        "train_store"
      ],
      "id": "rJ6CwdoTX1Dd",
      "execution_count": 27,
      "outputs": [
        {
          "output_type": "execute_result",
          "data": {
            "text/html": [
              "<div>\n",
              "<style scoped>\n",
              "    .dataframe tbody tr th:only-of-type {\n",
              "        vertical-align: middle;\n",
              "    }\n",
              "\n",
              "    .dataframe tbody tr th {\n",
              "        vertical-align: top;\n",
              "    }\n",
              "\n",
              "    .dataframe thead th {\n",
              "        text-align: right;\n",
              "    }\n",
              "</style>\n",
              "<table border=\"1\" class=\"dataframe\">\n",
              "  <thead>\n",
              "    <tr style=\"text-align: right;\">\n",
              "      <th></th>\n",
              "      <th>Store</th>\n",
              "      <th>DayOfWeek</th>\n",
              "      <th>Date</th>\n",
              "      <th>Sales</th>\n",
              "      <th>Customers</th>\n",
              "      <th>Open</th>\n",
              "      <th>Promo</th>\n",
              "      <th>StateHoliday</th>\n",
              "      <th>SchoolHoliday</th>\n",
              "      <th>StoreType</th>\n",
              "      <th>Assortment</th>\n",
              "      <th>CompetitionDistance</th>\n",
              "      <th>CompetitionOpenSinceMonth</th>\n",
              "      <th>CompetitionOpenSinceYear</th>\n",
              "      <th>Promo2</th>\n",
              "      <th>Promo2SinceWeek</th>\n",
              "      <th>Promo2SinceYear</th>\n",
              "      <th>PromoInterval</th>\n",
              "    </tr>\n",
              "  </thead>\n",
              "  <tbody>\n",
              "    <tr>\n",
              "      <th>0</th>\n",
              "      <td>1</td>\n",
              "      <td>5</td>\n",
              "      <td>2015-07-31</td>\n",
              "      <td>5263</td>\n",
              "      <td>555</td>\n",
              "      <td>1</td>\n",
              "      <td>1</td>\n",
              "      <td>0</td>\n",
              "      <td>1</td>\n",
              "      <td>c</td>\n",
              "      <td>a</td>\n",
              "      <td>1270.0</td>\n",
              "      <td>9.0</td>\n",
              "      <td>2008.0</td>\n",
              "      <td>0</td>\n",
              "      <td>0.0</td>\n",
              "      <td>0.0</td>\n",
              "      <td>0</td>\n",
              "    </tr>\n",
              "    <tr>\n",
              "      <th>1</th>\n",
              "      <td>1</td>\n",
              "      <td>4</td>\n",
              "      <td>2015-07-30</td>\n",
              "      <td>5020</td>\n",
              "      <td>546</td>\n",
              "      <td>1</td>\n",
              "      <td>1</td>\n",
              "      <td>0</td>\n",
              "      <td>1</td>\n",
              "      <td>c</td>\n",
              "      <td>a</td>\n",
              "      <td>1270.0</td>\n",
              "      <td>9.0</td>\n",
              "      <td>2008.0</td>\n",
              "      <td>0</td>\n",
              "      <td>0.0</td>\n",
              "      <td>0.0</td>\n",
              "      <td>0</td>\n",
              "    </tr>\n",
              "    <tr>\n",
              "      <th>2</th>\n",
              "      <td>1</td>\n",
              "      <td>3</td>\n",
              "      <td>2015-07-29</td>\n",
              "      <td>4782</td>\n",
              "      <td>523</td>\n",
              "      <td>1</td>\n",
              "      <td>1</td>\n",
              "      <td>0</td>\n",
              "      <td>1</td>\n",
              "      <td>c</td>\n",
              "      <td>a</td>\n",
              "      <td>1270.0</td>\n",
              "      <td>9.0</td>\n",
              "      <td>2008.0</td>\n",
              "      <td>0</td>\n",
              "      <td>0.0</td>\n",
              "      <td>0.0</td>\n",
              "      <td>0</td>\n",
              "    </tr>\n",
              "    <tr>\n",
              "      <th>3</th>\n",
              "      <td>1</td>\n",
              "      <td>2</td>\n",
              "      <td>2015-07-28</td>\n",
              "      <td>5011</td>\n",
              "      <td>560</td>\n",
              "      <td>1</td>\n",
              "      <td>1</td>\n",
              "      <td>0</td>\n",
              "      <td>1</td>\n",
              "      <td>c</td>\n",
              "      <td>a</td>\n",
              "      <td>1270.0</td>\n",
              "      <td>9.0</td>\n",
              "      <td>2008.0</td>\n",
              "      <td>0</td>\n",
              "      <td>0.0</td>\n",
              "      <td>0.0</td>\n",
              "      <td>0</td>\n",
              "    </tr>\n",
              "    <tr>\n",
              "      <th>4</th>\n",
              "      <td>1</td>\n",
              "      <td>1</td>\n",
              "      <td>2015-07-27</td>\n",
              "      <td>6102</td>\n",
              "      <td>612</td>\n",
              "      <td>1</td>\n",
              "      <td>1</td>\n",
              "      <td>0</td>\n",
              "      <td>1</td>\n",
              "      <td>c</td>\n",
              "      <td>a</td>\n",
              "      <td>1270.0</td>\n",
              "      <td>9.0</td>\n",
              "      <td>2008.0</td>\n",
              "      <td>0</td>\n",
              "      <td>0.0</td>\n",
              "      <td>0.0</td>\n",
              "      <td>0</td>\n",
              "    </tr>\n",
              "    <tr>\n",
              "      <th>...</th>\n",
              "      <td>...</td>\n",
              "      <td>...</td>\n",
              "      <td>...</td>\n",
              "      <td>...</td>\n",
              "      <td>...</td>\n",
              "      <td>...</td>\n",
              "      <td>...</td>\n",
              "      <td>...</td>\n",
              "      <td>...</td>\n",
              "      <td>...</td>\n",
              "      <td>...</td>\n",
              "      <td>...</td>\n",
              "      <td>...</td>\n",
              "      <td>...</td>\n",
              "      <td>...</td>\n",
              "      <td>...</td>\n",
              "      <td>...</td>\n",
              "      <td>...</td>\n",
              "    </tr>\n",
              "    <tr>\n",
              "      <th>1017204</th>\n",
              "      <td>1115</td>\n",
              "      <td>6</td>\n",
              "      <td>2013-01-05</td>\n",
              "      <td>4771</td>\n",
              "      <td>339</td>\n",
              "      <td>1</td>\n",
              "      <td>0</td>\n",
              "      <td>0</td>\n",
              "      <td>1</td>\n",
              "      <td>d</td>\n",
              "      <td>c</td>\n",
              "      <td>5350.0</td>\n",
              "      <td>0.0</td>\n",
              "      <td>0.0</td>\n",
              "      <td>1</td>\n",
              "      <td>22.0</td>\n",
              "      <td>2012.0</td>\n",
              "      <td>Mar,Jun,Sept,Dec</td>\n",
              "    </tr>\n",
              "    <tr>\n",
              "      <th>1017205</th>\n",
              "      <td>1115</td>\n",
              "      <td>5</td>\n",
              "      <td>2013-01-04</td>\n",
              "      <td>4540</td>\n",
              "      <td>326</td>\n",
              "      <td>1</td>\n",
              "      <td>0</td>\n",
              "      <td>0</td>\n",
              "      <td>1</td>\n",
              "      <td>d</td>\n",
              "      <td>c</td>\n",
              "      <td>5350.0</td>\n",
              "      <td>0.0</td>\n",
              "      <td>0.0</td>\n",
              "      <td>1</td>\n",
              "      <td>22.0</td>\n",
              "      <td>2012.0</td>\n",
              "      <td>Mar,Jun,Sept,Dec</td>\n",
              "    </tr>\n",
              "    <tr>\n",
              "      <th>1017206</th>\n",
              "      <td>1115</td>\n",
              "      <td>4</td>\n",
              "      <td>2013-01-03</td>\n",
              "      <td>4297</td>\n",
              "      <td>300</td>\n",
              "      <td>1</td>\n",
              "      <td>0</td>\n",
              "      <td>0</td>\n",
              "      <td>1</td>\n",
              "      <td>d</td>\n",
              "      <td>c</td>\n",
              "      <td>5350.0</td>\n",
              "      <td>0.0</td>\n",
              "      <td>0.0</td>\n",
              "      <td>1</td>\n",
              "      <td>22.0</td>\n",
              "      <td>2012.0</td>\n",
              "      <td>Mar,Jun,Sept,Dec</td>\n",
              "    </tr>\n",
              "    <tr>\n",
              "      <th>1017207</th>\n",
              "      <td>1115</td>\n",
              "      <td>3</td>\n",
              "      <td>2013-01-02</td>\n",
              "      <td>3697</td>\n",
              "      <td>305</td>\n",
              "      <td>1</td>\n",
              "      <td>0</td>\n",
              "      <td>0</td>\n",
              "      <td>1</td>\n",
              "      <td>d</td>\n",
              "      <td>c</td>\n",
              "      <td>5350.0</td>\n",
              "      <td>0.0</td>\n",
              "      <td>0.0</td>\n",
              "      <td>1</td>\n",
              "      <td>22.0</td>\n",
              "      <td>2012.0</td>\n",
              "      <td>Mar,Jun,Sept,Dec</td>\n",
              "    </tr>\n",
              "    <tr>\n",
              "      <th>1017208</th>\n",
              "      <td>1115</td>\n",
              "      <td>2</td>\n",
              "      <td>2013-01-01</td>\n",
              "      <td>0</td>\n",
              "      <td>0</td>\n",
              "      <td>0</td>\n",
              "      <td>0</td>\n",
              "      <td>a</td>\n",
              "      <td>1</td>\n",
              "      <td>d</td>\n",
              "      <td>c</td>\n",
              "      <td>5350.0</td>\n",
              "      <td>0.0</td>\n",
              "      <td>0.0</td>\n",
              "      <td>1</td>\n",
              "      <td>22.0</td>\n",
              "      <td>2012.0</td>\n",
              "      <td>Mar,Jun,Sept,Dec</td>\n",
              "    </tr>\n",
              "  </tbody>\n",
              "</table>\n",
              "<p>1017209 rows × 18 columns</p>\n",
              "</div>"
            ],
            "text/plain": [
              "         Store  DayOfWeek  ... Promo2SinceYear     PromoInterval\n",
              "0            1          5  ...             0.0                 0\n",
              "1            1          4  ...             0.0                 0\n",
              "2            1          3  ...             0.0                 0\n",
              "3            1          2  ...             0.0                 0\n",
              "4            1          1  ...             0.0                 0\n",
              "...        ...        ...  ...             ...               ...\n",
              "1017204   1115          6  ...          2012.0  Mar,Jun,Sept,Dec\n",
              "1017205   1115          5  ...          2012.0  Mar,Jun,Sept,Dec\n",
              "1017206   1115          4  ...          2012.0  Mar,Jun,Sept,Dec\n",
              "1017207   1115          3  ...          2012.0  Mar,Jun,Sept,Dec\n",
              "1017208   1115          2  ...          2012.0  Mar,Jun,Sept,Dec\n",
              "\n",
              "[1017209 rows x 18 columns]"
            ]
          },
          "metadata": {
            "tags": []
          },
          "execution_count": 27
        }
      ]
    },
    {
      "cell_type": "code",
      "metadata": {
        "id": "n8A-PLW2bgwj"
      },
      "source": [
        "#Check for distribution in both training and test sets - are the promotions distributed similarly between these two groups\n"
      ],
      "id": "n8A-PLW2bgwj",
      "execution_count": 31,
      "outputs": []
    },
    {
      "cell_type": "code",
      "metadata": {
        "id": "4O-zueVLfjSv"
      },
      "source": [
        "mergetrainfile.isnull.sum()/mergetrainfile.shape[0]*100"
      ],
      "id": "4O-zueVLfjSv",
      "execution_count": null,
      "outputs": []
    },
    {
      "cell_type": "code",
      "metadata": {
        "id": "_hqyVqcRElom"
      },
      "source": [
        "from matplotlib.pyplot import *\n",
        "train_distribution = train_file.Promo.value_counts()\n",
        "test_distribution = test_file.Promo.value_counts()\n",
        "\n",
        "train_file.plot.bar()(train_distribution.index, train_distribution, \"Promo Distribution on Training Set\")\n",
        "test_file.plot.bar()(test_distribution.index, test_distribution, \"Promo Distribution on Testing Set\")\n",
        "\n",
        "\n"
      ],
      "id": "_hqyVqcRElom",
      "execution_count": null,
      "outputs": []
    },
    {
      "cell_type": "code",
      "metadata": {
        "id": "39863b95"
      },
      "source": [
        "import sys, os\n",
        "import json\n",
        "import requests\n",
        "import time\n",
        "import datetime as dt\n",
        "from datetime import date, timedelta, datetime\n",
        "\n",
        "from itertools import repeat\n",
        "import itertools\n",
        "\n",
        "import numpy as np\n",
        "import pandas as pd\n",
        "import statistics as st\n",
        "import scipy.stats as ss\n",
        "from random import randint\n",
        "\n",
        "import matplotlib.pyplot as plt\n",
        "import seaborn as sns\n",
        "\n",
        "from prophet import Prophet\n",
        "from prophet.plot import add_changepoints_to_plot, plot_cross_validation_metric\n",
        "from prophet.diagnostics import cross_validation, performance_metrics"
      ],
      "id": "39863b95",
      "execution_count": null,
      "outputs": []
    },
    {
      "cell_type": "code",
      "metadata": {
        "id": "219cb528"
      },
      "source": [
        ""
      ],
      "id": "219cb528",
      "execution_count": null,
      "outputs": []
    },
    {
      "cell_type": "code",
      "metadata": {
        "id": "1052d411"
      },
      "source": [
        "class FetchPrepareData():\n",
        "    def __init__(self):\n",
        "        self.dfdict = {}\n",
        "        self.dfdict['train'] = self.get_train_data()\n",
        "        self.dfdict['test'] = self.get_test_data()\n",
        "        self.dfdict['sample'] = self.get_sample_data()\n",
        "        self.dfdict['store'] = self.get_store_data()\n",
        "        \n",
        "    def get_train_data(self,name='train'):\n",
        "        filename = f'data/{name}.csv'        \n",
        "        return pd.read_csv(filename)\n",
        "    \n",
        "    def get_test_data(self,name='test'):\n",
        "        filename = f'data/{name}.csv'        \n",
        "        return pd.read_csv(filename)\n",
        "        \n",
        "    def get_store_data(self,name='store'):\n",
        "        filename = f'data/{name}.csv'        \n",
        "        return pd.read_csv(filename)  \n",
        "    \n",
        "    def get_sample_data(self,name='sample_submission'):\n",
        "        filename = f'data/{name}.csv'        \n",
        "        return pd.read_csv(filename)  \n",
        "        \n",
        "    def df_to_prophet(self,name='train', \n",
        "                timecol=\"Date\",\n",
        "                targetcol=\"Sales\",\n",
        "                ftransform=None, \n",
        "                prefilter={}, \n",
        "                postfilter={},\n",
        "                rs = '1D'):\n",
        "        '''\n",
        "        prepare data frame to prophet modelling\n",
        "            dfin - input data frame\n",
        "            timecol - the column name for time/date\n",
        "            prefilter - a dictionary that contains column_name:value\n",
        "            postfilter - a dictionary that contains column_name:value\n",
        "            ftransform - a function to apply after prefiltering takes dfin as input\n",
        "            rs - unit of time to resample time column \n",
        "        '''\n",
        "        if name in ['train','test','sample']:\n",
        "            df = self.dfdict[name].copy()\n",
        "        else:\n",
        "            print(\"only name=['train','test','sample'] are allowed\")\n",
        "            return pd.DataFrame()\n",
        "        \n",
        "        df['ts'] =  pd.to_datetime(df[timecol]).dt.tz_localize(None)\n",
        "        df['ts'] = df['ts'].dt.to_pydatetime()\n",
        "\n",
        "        #apply pre-filter\n",
        "        for k, v in prefilter.items():\n",
        "            print(f'Applying pre transform filter with column={k}, value={v}')\n",
        "            df = df[df[k]==v]\n",
        "\n",
        "        #transform\n",
        "        if ftransform is not None:\n",
        "            print(f'Applying functional transformation ..')\n",
        "            df = ftransform(df)\n",
        "\n",
        "        #apply post filter\n",
        "        for k, v in prefilter.items():\n",
        "            print(f'Applying post transform filter with column={k}, value={v}')\n",
        "            df = df[df[k]==v]\n",
        "\n",
        "        df = df.reset_index().set_index('ts').resample(rs).sum() \n",
        "        df = df.reset_index()\n",
        "\n",
        "        df = df[['ts', targetcol]]\n",
        "        df = df.rename(columns={\"ts\": \"ds\", targetcol: \"y\"})\n",
        "        df = df.dropna()\n",
        "        df.ds = pd.Series([v.to_pydatetime() for v in df.ds], dtype=object)\n",
        "        return df\n",
        "\n",
        "def plot_prophet(tsdf, \n",
        "                 changepoint_prior_scale=0.001, \n",
        "                 seasonality_prior_scale=1.0, \n",
        "                 periods=10, \n",
        "                 split=0.8 ):\n",
        "    \n",
        "    model = (Prophet(changepoint_prior_scale=changepoint_prior_scale, \n",
        "                    seasonality_prior_scale=seasonality_prior_scale, \n",
        "                    interval_width=0.95, \n",
        "                    daily_seasonality=True, \n",
        "                    weekly_seasonality=True, \n",
        "                    yearly_seasonality=False) \\\n",
        "            .add_seasonality(name='monthly', period=30.5, fourier_order=5) \\\n",
        "            .fit(tsdf)\n",
        "            )\n",
        "    \n",
        "    future = model.make_future_dataframe(periods)\n",
        "    forecast = model.predict(future)\n",
        "    components = model.plot_components(forecast)\n",
        "\n",
        "    forecast.ds = pd.Series([v.to_pydatetime() for v in forecast.ds], dtype=object)\n",
        "\n",
        "    split = 0.8\n",
        "    threshold_date_train = tsdf.ds[ int(len(tsdf.ds)*split) ]\n",
        "    threshold_date_forecast = forecast.ds[ int(len(forecast.ds)*split) ]\n",
        "\n",
        "    forecast_train = forecast[ threshold_date_forecast >= forecast.ds ]\n",
        "    forecast_test = forecast[ threshold_date_forecast < forecast.ds ]\n",
        "    df_train = tsdf[ threshold_date_train >= tsdf.ds ]\n",
        "    df_test = tsdf[ threshold_date_train < tsdf.ds ]\n",
        "\n",
        "    fig, ax = plt.subplots(figsize=(20,10))\n",
        "    sns.set_style('darkgrid', {'axes.facecolor': '.9'})\n",
        "    sns.set_palette(palette='deep')\n",
        "    sns_c = sns.color_palette(palette='deep')\n",
        "\n",
        "    ax.fill_between( x=forecast['ds'], y1=forecast['yhat_lower'], y2=forecast['yhat_upper'],\n",
        "        color=sns_c[2], alpha=0.25, label=r'0.95 credible_interval')\n",
        "\n",
        "    sns.scatterplot(x='ds', y='y', label='real historic data', data=df_train, ax=ax, color='black')\n",
        "    sns.scatterplot(x='ds', y='y', label='real test data', data=df_test, ax=ax, color = 'red')\n",
        "    sns.lineplot(x='ds', y='yhat', label='historic fit', data=forecast_train, ax=ax, color = 'blue')\n",
        "    sns.lineplot(x='ds', y='yhat', label='future prediction', data=forecast_test, ax=ax, color = 'orange')\n",
        "    ax.axvline(threshold_date_train, color=sns_c[3], linestyle='--', label='80% train-test data split')\n",
        "    ax.legend(loc='upper left')\n",
        "    ax.set_xlabel('Date')\n",
        "    ax.set_ylabel('Engagement rate')\n",
        "    ax.tick_params(axis='x', rotation=45)\n",
        "    ax.set(title='Engagement rate model fit & prediction for Campaign ID ')\n",
        "    \n",
        "    return fig, components\n",
        "    \n",
        "    \n",
        "#     model = Prophet(mcmc_samples=1000).fit(tsdf)\n",
        "    \n",
        "#     model = Prophet(seasonality_mode='multiplicative').add_seasonality('quarterly', period=91.25, fourier_order=8, \n",
        "#                        mode='additive').add_regressor('regressor', mode='additive').fit(tsdf)\n",
        "    \n",
        "#     model = Prophet(seasonality_mode='multiplicative').add_seasonality(name='monthly', period=30.5, fourier_order=5\n",
        "#             ).add_seasonality(name='weekly', period=7, fourier_order=3\n",
        "#             ).add_seasonality(name='daily', period=1, fourier_order=1\n",
        "#             ).fit(tsdf)"
      ],
      "id": "1052d411",
      "execution_count": null,
      "outputs": []
    },
    {
      "cell_type": "code",
      "metadata": {
        "id": "f2f29d64"
      },
      "source": [
        "rom.dfdict['train'].head()"
      ],
      "id": "f2f29d64",
      "execution_count": null,
      "outputs": []
    },
    {
      "cell_type": "code",
      "metadata": {
        "id": "7861ce36"
      },
      "source": [
        "rom = FetchPrepareData()\n",
        "tsdf = rom.df_to_prophet(name='train',prefilter={'Store':1})\n",
        "print(tsdf.shape)\n",
        "tsdf.head()"
      ],
      "id": "7861ce36",
      "execution_count": null,
      "outputs": []
    },
    {
      "cell_type": "code",
      "metadata": {
        "id": "9c45af4e"
      },
      "source": [
        "plot_prophet(tsdf, changepoint_prior_scale = 10,  periods = 5) \n",
        "#              seasonality_prior_scale = 0.05"
      ],
      "id": "9c45af4e",
      "execution_count": null,
      "outputs": []
    },
    {
      "cell_type": "code",
      "metadata": {
        "id": "431965f2"
      },
      "source": [
        "model = Prophet(changepoint_prior_scale=0.3, daily_seasonality=True, weekly_seasonality=True, yearly_seasonality=False).fit(tsdf)\n",
        "future = model.make_future_dataframe(periods=10)\n",
        "forecast = model.predict(future)"
      ],
      "id": "431965f2",
      "execution_count": null,
      "outputs": []
    },
    {
      "cell_type": "code",
      "metadata": {
        "id": "ed06b3ad"
      },
      "source": [
        "df_cv = cross_validation(model, initial='10 days', period = '2 days', horizon = '5 days',) \n",
        "#                          parallel=\"processes\")\n",
        "df_cv"
      ],
      "id": "ed06b3ad",
      "execution_count": null,
      "outputs": []
    },
    {
      "cell_type": "code",
      "metadata": {
        "id": "4c6af0cd"
      },
      "source": [
        "plot_prophet(tsdf2, changepoint_prior_scale = 10, periods = 1)"
      ],
      "id": "4c6af0cd",
      "execution_count": null,
      "outputs": []
    },
    {
      "cell_type": "code",
      "metadata": {
        "id": "bfdd2b7b"
      },
      "source": [
        "param_grid = {  \n",
        "    'changepoint_prior_scale': [0.0005, 0.001, 0.005, 0.01, 0.1, 0.5],\n",
        "    'seasonality_prior_scale': [0.005, 0.01, 0.05, 0.1, 1.0, 10.0],\n",
        "}\n",
        "\n",
        "# Generate all combinations of parameters\n",
        "all_params = [dict(zip(param_grid.keys(), v)) for v in itertools.product(*param_grid.values())]\n",
        "rmses = []  # Store the RMSEs for each params here\n",
        "\n",
        "# Use cross validation to evaluate all parameters\n",
        "for params in all_params:\n",
        "    m = Prophet(**params).fit(tsdf2)  # Fit model with given params\n",
        "    df_cv = cross_validation(m, horizon= '5 days', parallel=\"processes\")\n",
        "    df_p = performance_metrics(df_cv, rolling_window=1)\n",
        "    rmses.append(df_p['rmse'].values[0])\n",
        "\n",
        "# Find the best parameters\n",
        "tuning_results = pd.DataFrame(all_params)\n",
        "tuning_results['rmse'] = rmses\n",
        "print(tuning_results)\n",
        "\n",
        "best_params = all_params[np.argmin(rmses)]\n",
        "print(best_params)"
      ],
      "id": "bfdd2b7b",
      "execution_count": null,
      "outputs": []
    },
    {
      "cell_type": "code",
      "metadata": {
        "id": "73ee4b6a"
      },
      "source": [
        "split = 0.8\n",
        "# el = int(len(tsdf.ds)*split)\n",
        "threshold_date_train = tsdf.ds[ int(len(tsdf.ds)*split) ]\n",
        "threshold_date_forecast = forecast.ds[ int(len(forecast.ds)*split) ]\n",
        "\n",
        "forecast_train = forecast[ threshold_date_forecast >= forecast.ds ]\n",
        "forecast_test = forecast[ threshold_date_forecast < forecast.ds ]\n",
        "df_train = tsdf[ threshold_date_train >= tsdf.ds ]\n",
        "df_test = tsdf[ threshold_date_train < tsdf.ds ]"
      ],
      "id": "73ee4b6a",
      "execution_count": null,
      "outputs": []
    },
    {
      "cell_type": "code",
      "metadata": {
        "id": "881b7e21"
      },
      "source": [
        ""
      ],
      "id": "881b7e21",
      "execution_count": null,
      "outputs": []
    },
    {
      "cell_type": "code",
      "metadata": {
        "id": "7d1e709a"
      },
      "source": [
        "plot_prophet(tsdf2, changepoint_prior_scale = 0.5, seasonality_prior_scale = 0.005, periods = 5)"
      ],
      "id": "7d1e709a",
      "execution_count": null,
      "outputs": []
    },
    {
      "cell_type": "code",
      "metadata": {
        "id": "105e9fc6"
      },
      "source": [
        "fig, ax = plt.subplots(figsize=(20,10))\n",
        "# plt.figure()\n",
        "sns.set_style('darkgrid', {'axes.facecolor': '.9'})\n",
        "sns.set_palette(palette='deep')\n",
        "sns_c = sns.color_palette(palette='deep')\n",
        "\n",
        "ax.fill_between( x=forecast['ds'], y1=forecast['yhat_lower'], y2=forecast['yhat_upper'],\n",
        "    color=sns_c[2], alpha=0.25, label=r'0.95 credible_interval')\n",
        "\n",
        "sns.scatterplot(x='ds', y='y', label='real historic data', data=df_train, ax=ax, color='black')\n",
        "sns.lineplot(x='ds', y='y', label='model fit', data=df_test, ax=ax)\n",
        "sns.lineplot(x='ds', y='yhat', label='historic fit', data=forecast_train, ax=ax, color = 'blue')\n",
        "sns.lineplot(x='ds', y='yhat', label='future prediction', data=forecast_test, ax=ax, color = 'orange')\n",
        "ax.axvline(threshold_date, color=sns_c[3], linestyle='--', label='80% train-test data split')\n",
        "ax.legend(loc='upper left')\n",
        "ax.set_xlabel('Date')\n",
        "ax.set_ylabel('Engagement rate')\n",
        "ax.tick_params(axis='x', rotation=45)\n",
        "ax.set(title='Engagement rate model fit & prediction for Campaign ID ')"
      ],
      "id": "105e9fc6",
      "execution_count": null,
      "outputs": []
    },
    {
      "cell_type": "code",
      "metadata": {
        "id": "06351860"
      },
      "source": [
        ""
      ],
      "id": "06351860",
      "execution_count": null,
      "outputs": []
    }
  ]
}