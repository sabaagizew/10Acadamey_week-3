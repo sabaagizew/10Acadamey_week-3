{
  "nbformat": 4,
  "nbformat_minor": 5,
  "metadata": {
    "kernelspec": {
      "display_name": "Python 3",
      "language": "python",
      "name": "python3"
    },
    "language_info": {
      "codemirror_mode": {
        "name": "ipython",
        "version": 3
      },
      "file_extension": ".py",
      "mimetype": "text/x-python",
      "name": "python",
      "nbconvert_exporter": "python",
      "pygments_lexer": "ipython3",
      "version": "3.8.3"
    },
    "colab": {
      "name": "week3_sales_pridict_prophet_Task 2.ipynb",
      "provenance": [],
      "include_colab_link": true
    }
  },
  "cells": [
    {
      "cell_type": "markdown",
      "metadata": {
        "id": "view-in-github",
        "colab_type": "text"
      },
      "source": [
        "<a href=\"https://colab.research.google.com/github/sabaagizew/10Acadamey_week-3/blob/main/week3_sales_pridict_prophet_Task_2.ipynb\" target=\"_parent\"><img src=\"https://colab.research.google.com/assets/colab-badge.svg\" alt=\"Open In Colab\"/></a>"
      ]
    },
    {
      "cell_type": "code",
      "metadata": {
        "id": "yqRGI4LpigHE"
      },
      "source": [
        "import warnings\n",
        "warnings.filterwarnings(\"ignore\")\n",
        "\n",
        "import os\n",
        "import logging\n",
        "logging.basicConfig(level=os.environ.get(\"LOGLEVEL\", \"INFO\"))\n",
        "\n",
        "# loading packages\n",
        "# basic + dates \n",
        "import pandas as pd\n",
        "from pandas import datetime\n",
        "\n",
        "# data visualization\n",
        "import matplotlib.pyplot as plt\n",
        "import seaborn as sns # advanced vizs\n",
        "%matplotlib inline\n",
        "import sys, os\n",
        "import json\n",
        "import requests\n",
        "import time\n",
        "import datetime as dt\n",
        "from datetime import date, timedelta, datetime\n",
        "\n",
        "from itertools import repeat\n",
        "import itertools\n",
        "\n",
        "import numpy as np\n",
        "import pandas as pd\n",
        "import statistics as st\n",
        "import scipy.stats as ss\n",
        "from random import randint\n",
        "\n",
        "\n"
      ],
      "id": "yqRGI4LpigHE",
      "execution_count": 97,
      "outputs": []
    },
    {
      "cell_type": "code",
      "metadata": {
        "colab": {
          "base_uri": "https://localhost:8080/"
        },
        "id": "VVZ3t7B3EPU9",
        "outputId": "80f75e93-efd5-4628-cd1e-49a5b3eb045a"
      },
      "source": [
        "pip install mlflow\n"
      ],
      "id": "VVZ3t7B3EPU9",
      "execution_count": 98,
      "outputs": [
        {
          "output_type": "stream",
          "text": [
            "Requirement already satisfied: mlflow in /usr/local/lib/python3.7/dist-packages (1.19.0)\n",
            "Requirement already satisfied: docker>=4.0.0 in /usr/local/lib/python3.7/dist-packages (from mlflow) (5.0.0)\n",
            "Requirement already satisfied: alembic<=1.4.1 in /usr/local/lib/python3.7/dist-packages (from mlflow) (1.4.1)\n",
            "Requirement already satisfied: prometheus-flask-exporter in /usr/local/lib/python3.7/dist-packages (from mlflow) (0.18.2)\n",
            "Requirement already satisfied: pyyaml>=5.1 in /usr/local/lib/python3.7/dist-packages (from mlflow) (5.4.1)\n",
            "Requirement already satisfied: databricks-cli>=0.8.7 in /usr/local/lib/python3.7/dist-packages (from mlflow) (0.14.3)\n",
            "Requirement already satisfied: protobuf>=3.7.0 in /usr/local/lib/python3.7/dist-packages (from mlflow) (3.17.3)\n",
            "Requirement already satisfied: pytz in /usr/local/lib/python3.7/dist-packages (from mlflow) (2018.9)\n",
            "Requirement already satisfied: click>=7.0 in /usr/local/lib/python3.7/dist-packages (from mlflow) (7.1.2)\n",
            "Requirement already satisfied: sqlparse>=0.3.1 in /usr/local/lib/python3.7/dist-packages (from mlflow) (0.4.1)\n",
            "Requirement already satisfied: sqlalchemy in /usr/local/lib/python3.7/dist-packages (from mlflow) (1.4.20)\n",
            "Requirement already satisfied: Flask in /usr/local/lib/python3.7/dist-packages (from mlflow) (1.1.4)\n",
            "Requirement already satisfied: numpy in /usr/local/lib/python3.7/dist-packages (from mlflow) (1.19.5)\n",
            "Requirement already satisfied: cloudpickle in /usr/local/lib/python3.7/dist-packages (from mlflow) (1.3.0)\n",
            "Requirement already satisfied: requests>=2.17.3 in /usr/local/lib/python3.7/dist-packages (from mlflow) (2.23.0)\n",
            "Requirement already satisfied: entrypoints in /usr/local/lib/python3.7/dist-packages (from mlflow) (0.3)\n",
            "Requirement already satisfied: gunicorn in /usr/local/lib/python3.7/dist-packages (from mlflow) (20.1.0)\n",
            "Requirement already satisfied: pandas in /usr/local/lib/python3.7/dist-packages (from mlflow) (1.1.5)\n",
            "Requirement already satisfied: querystring-parser in /usr/local/lib/python3.7/dist-packages (from mlflow) (1.2.4)\n",
            "Requirement already satisfied: packaging in /usr/local/lib/python3.7/dist-packages (from mlflow) (21.0)\n",
            "Requirement already satisfied: gitpython>=2.1.0 in /usr/local/lib/python3.7/dist-packages (from mlflow) (3.1.18)\n",
            "Requirement already satisfied: python-dateutil in /usr/local/lib/python3.7/dist-packages (from alembic<=1.4.1->mlflow) (2.8.1)\n",
            "Requirement already satisfied: python-editor>=0.3 in /usr/local/lib/python3.7/dist-packages (from alembic<=1.4.1->mlflow) (1.0.4)\n",
            "Requirement already satisfied: Mako in /usr/local/lib/python3.7/dist-packages (from alembic<=1.4.1->mlflow) (1.1.4)\n",
            "Requirement already satisfied: tabulate>=0.7.7 in /usr/local/lib/python3.7/dist-packages (from databricks-cli>=0.8.7->mlflow) (0.8.9)\n",
            "Requirement already satisfied: six>=1.10.0 in /usr/local/lib/python3.7/dist-packages (from databricks-cli>=0.8.7->mlflow) (1.15.0)\n",
            "Requirement already satisfied: websocket-client>=0.32.0 in /usr/local/lib/python3.7/dist-packages (from docker>=4.0.0->mlflow) (1.1.0)\n",
            "Requirement already satisfied: typing-extensions>=3.7.4.0 in /usr/local/lib/python3.7/dist-packages (from gitpython>=2.1.0->mlflow) (3.7.4.3)\n",
            "Requirement already satisfied: gitdb<5,>=4.0.1 in /usr/local/lib/python3.7/dist-packages (from gitpython>=2.1.0->mlflow) (4.0.7)\n",
            "Requirement already satisfied: smmap<5,>=3.0.1 in /usr/local/lib/python3.7/dist-packages (from gitdb<5,>=4.0.1->gitpython>=2.1.0->mlflow) (4.0.0)\n",
            "Requirement already satisfied: urllib3!=1.25.0,!=1.25.1,<1.26,>=1.21.1 in /usr/local/lib/python3.7/dist-packages (from requests>=2.17.3->mlflow) (1.24.3)\n",
            "Requirement already satisfied: idna<3,>=2.5 in /usr/local/lib/python3.7/dist-packages (from requests>=2.17.3->mlflow) (2.10)\n",
            "Requirement already satisfied: chardet<4,>=3.0.2 in /usr/local/lib/python3.7/dist-packages (from requests>=2.17.3->mlflow) (3.0.4)\n",
            "Requirement already satisfied: certifi>=2017.4.17 in /usr/local/lib/python3.7/dist-packages (from requests>=2.17.3->mlflow) (2021.5.30)\n",
            "Requirement already satisfied: greenlet!=0.4.17 in /usr/local/lib/python3.7/dist-packages (from sqlalchemy->mlflow) (1.1.0)\n",
            "Requirement already satisfied: importlib-metadata in /usr/local/lib/python3.7/dist-packages (from sqlalchemy->mlflow) (4.6.1)\n",
            "Requirement already satisfied: itsdangerous<2.0,>=0.24 in /usr/local/lib/python3.7/dist-packages (from Flask->mlflow) (1.1.0)\n",
            "Requirement already satisfied: Werkzeug<2.0,>=0.15 in /usr/local/lib/python3.7/dist-packages (from Flask->mlflow) (1.0.1)\n",
            "Requirement already satisfied: Jinja2<3.0,>=2.10.1 in /usr/local/lib/python3.7/dist-packages (from Flask->mlflow) (2.11.3)\n",
            "Requirement already satisfied: MarkupSafe>=0.23 in /usr/local/lib/python3.7/dist-packages (from Jinja2<3.0,>=2.10.1->Flask->mlflow) (2.0.1)\n",
            "Requirement already satisfied: setuptools>=3.0 in /usr/local/lib/python3.7/dist-packages (from gunicorn->mlflow) (57.2.0)\n",
            "Requirement already satisfied: zipp>=0.5 in /usr/local/lib/python3.7/dist-packages (from importlib-metadata->sqlalchemy->mlflow) (3.5.0)\n",
            "Requirement already satisfied: pyparsing>=2.0.2 in /usr/local/lib/python3.7/dist-packages (from packaging->mlflow) (2.4.7)\n",
            "Requirement already satisfied: prometheus-client in /usr/local/lib/python3.7/dist-packages (from prometheus-flask-exporter->mlflow) (0.11.0)\n"
          ],
          "name": "stdout"
        }
      ]
    },
    {
      "cell_type": "code",
      "metadata": {
        "id": "WFu_lWaSDwTq"
      },
      "source": [
        "## import packages\n",
        "\n",
        "import pandas as pd\n",
        "\n",
        "##\n",
        "from sklearn.preprocessing import LabelEncoder\n",
        "from sklearn.preprocessing import MinMaxScaler\n",
        "from sklearn.linear_model import LinearRegression\n",
        "from sklearn.ensemble import RandomForestRegressor\n",
        "from sklearn.tree import DecisionTreeRegressor  \n",
        "\n",
        "from sklearn.model_selection import train_test_split\n",
        "from sklearn.pipeline import Pipeline\n",
        "import mlflow\n",
        "from sklearn.model_selection import KFold\n",
        "from sklearn.metrics import mean_squared_error, mean_absolute_error\n",
        "\n",
        "import pickle # Read and Save model - Serialization\n",
        "\n",
        "import warnings\n",
        "warnings.filterwarnings('ignore')\n",
        "\n",
        "import datetime\n",
        "import math\n",
        "import calendar\n"
      ],
      "id": "WFu_lWaSDwTq",
      "execution_count": 99,
      "outputs": []
    },
    {
      "cell_type": "code",
      "metadata": {
        "colab": {
          "base_uri": "https://localhost:8080/"
        },
        "id": "Bon_Rz1KgjXP",
        "outputId": "8cb5b12c-383e-41b0-9e62-fe8ad25a84b8"
      },
      "source": [
        "from google.colab import drive\n",
        "drive.mount('/content/drive')"
      ],
      "id": "Bon_Rz1KgjXP",
      "execution_count": 100,
      "outputs": [
        {
          "output_type": "stream",
          "text": [
            "Drive already mounted at /content/drive; to attempt to forcibly remount, call drive.mount(\"/content/drive\", force_remount=True).\n"
          ],
          "name": "stdout"
        }
      ]
    },
    {
      "cell_type": "code",
      "metadata": {
        "colab": {
          "base_uri": "https://localhost:8080/"
        },
        "id": "58hS80OCnYvZ",
        "outputId": "95115ccb-d525-4a18-fed2-21e2a851c100"
      },
      "source": [
        "log = logging.getLogger()\n",
        "log.info('check')"
      ],
      "id": "58hS80OCnYvZ",
      "execution_count": 101,
      "outputs": [
        {
          "output_type": "stream",
          "text": [
            "INFO:root:check\n"
          ],
          "name": "stderr"
        }
      ]
    },
    {
      "cell_type": "code",
      "metadata": {
        "id": "B4U6vVEUndU_"
      },
      "source": [
        "# Read Datas\n",
        "\n",
        "store_file = '../data/store.csv'\n",
        "test_file = '../data/test.csv'\n",
        "train_file = '../data/train.csv'"
      ],
      "id": "B4U6vVEUndU_",
      "execution_count": 102,
      "outputs": []
    },
    {
      "cell_type": "code",
      "metadata": {
        "id": "5rThe1T2nnWv"
      },
      "source": [
        "store_file= pd.read_csv('drive/MyDrive/main/store.csv')"
      ],
      "id": "5rThe1T2nnWv",
      "execution_count": 103,
      "outputs": []
    },
    {
      "cell_type": "code",
      "metadata": {
        "id": "H9CzEk_bqOXd"
      },
      "source": [
        "test_file= pd.read_csv('drive/MyDrive/main/test.csv')"
      ],
      "id": "H9CzEk_bqOXd",
      "execution_count": 104,
      "outputs": []
    },
    {
      "cell_type": "code",
      "metadata": {
        "id": "Rw7SEF-sqOa2"
      },
      "source": [
        "train_file=pd.read_csv('drive/MyDrive/main/train.csv')"
      ],
      "id": "Rw7SEF-sqOa2",
      "execution_count": 105,
      "outputs": []
    },
    {
      "cell_type": "code",
      "metadata": {
        "id": "gvFeOm-2EpMa"
      },
      "source": [
        "train_file[\"Date\"]=pd.to_datetime(train_file[\"Date\"], format='%Y/%m/%d', errors='coerce')\n",
        "test_file[\"Date\"]=pd.to_datetime(test_file[\"Date\"], format='%Y/%m/%d', errors='coerce')\n",
        "\n",
        "def holiday(x):\n",
        "    if x in ['a','b','c']:\n",
        "        return 1\n",
        "    return 0\n",
        "    \n",
        "def day_month_year(df, col):\n",
        "    days, months, years = [], [], []\n",
        "    for datetime in df[col]:\n",
        "        year, month, day = str(datetime).split(' ')[0].split('-')\n",
        "        days.append(int(day))\n",
        "        months.append(int(month))\n",
        "        years.append(int(year))\n",
        "    df['Day'] = days\n",
        "    df['Month'] = months\n",
        "    df['Year'] = years\n",
        "    \n",
        "train_file['Holiday'] = train_file['StateHoliday'].apply(holiday)\n",
        "test_file['Holiday'] = test_file['StateHoliday'].apply(holiday)\n",
        "\n",
        "train_file['Holiday'] = train_file['Holiday'] | train_file['SchoolHoliday']\n",
        "test_file['Holiday'] = test_file['Holiday'] | test_file['SchoolHoliday']\n",
        "\n",
        "day_month_year(train_file, 'Date')\n",
        "day_month_year(test_file, 'Date')"
      ],
      "id": "gvFeOm-2EpMa",
      "execution_count": 106,
      "outputs": []
    },
    {
      "cell_type": "code",
      "metadata": {
        "colab": {
          "base_uri": "https://localhost:8080/"
        },
        "id": "gQ-U7hjKq1aV",
        "outputId": "fb9f8b02-44a9-461a-9cd6-41800546069b"
      },
      "source": [
        "test_file.info()"
      ],
      "id": "gQ-U7hjKq1aV",
      "execution_count": 107,
      "outputs": [
        {
          "output_type": "stream",
          "text": [
            "<class 'pandas.core.frame.DataFrame'>\n",
            "RangeIndex: 41088 entries, 0 to 41087\n",
            "Data columns (total 12 columns):\n",
            " #   Column         Non-Null Count  Dtype         \n",
            "---  ------         --------------  -----         \n",
            " 0   Id             41088 non-null  int64         \n",
            " 1   Store          41088 non-null  int64         \n",
            " 2   DayOfWeek      41088 non-null  int64         \n",
            " 3   Date           41088 non-null  datetime64[ns]\n",
            " 4   Open           41077 non-null  float64       \n",
            " 5   Promo          41088 non-null  int64         \n",
            " 6   StateHoliday   41088 non-null  object        \n",
            " 7   SchoolHoliday  41088 non-null  int64         \n",
            " 8   Holiday        41088 non-null  int64         \n",
            " 9   Day            41088 non-null  int64         \n",
            " 10  Month          41088 non-null  int64         \n",
            " 11  Year           41088 non-null  int64         \n",
            "dtypes: datetime64[ns](1), float64(1), int64(9), object(1)\n",
            "memory usage: 3.8+ MB\n"
          ],
          "name": "stdout"
        }
      ]
    },
    {
      "cell_type": "code",
      "metadata": {
        "id": "EiHarxPoQYMF",
        "colab": {
          "base_uri": "https://localhost:8080/"
        },
        "outputId": "47fa02d7-88c5-4c8b-88d9-dd9785ae7435"
      },
      "source": [
        "train_file['Date'] = pd.to_datetime(train_file['Date'])\n",
        "train_file.info()"
      ],
      "id": "EiHarxPoQYMF",
      "execution_count": 108,
      "outputs": [
        {
          "output_type": "stream",
          "text": [
            "<class 'pandas.core.frame.DataFrame'>\n",
            "RangeIndex: 1017209 entries, 0 to 1017208\n",
            "Data columns (total 13 columns):\n",
            " #   Column         Non-Null Count    Dtype         \n",
            "---  ------         --------------    -----         \n",
            " 0   Store          1017209 non-null  int64         \n",
            " 1   DayOfWeek      1017209 non-null  int64         \n",
            " 2   Date           1017209 non-null  datetime64[ns]\n",
            " 3   Sales          1017209 non-null  int64         \n",
            " 4   Customers      1017209 non-null  int64         \n",
            " 5   Open           1017209 non-null  int64         \n",
            " 6   Promo          1017209 non-null  int64         \n",
            " 7   StateHoliday   1017209 non-null  object        \n",
            " 8   SchoolHoliday  1017209 non-null  int64         \n",
            " 9   Holiday        1017209 non-null  int64         \n",
            " 10  Day            1017209 non-null  int64         \n",
            " 11  Month          1017209 non-null  int64         \n",
            " 12  Year           1017209 non-null  int64         \n",
            "dtypes: datetime64[ns](1), int64(11), object(1)\n",
            "memory usage: 100.9+ MB\n"
          ],
          "name": "stdout"
        }
      ]
    },
    {
      "cell_type": "code",
      "metadata": {
        "colab": {
          "base_uri": "https://localhost:8080/",
          "height": 439
        },
        "id": "rdP29NWxq1m2",
        "outputId": "260d84f4-b8fb-44ac-d46f-27918bd80027"
      },
      "source": [
        "store_file"
      ],
      "id": "rdP29NWxq1m2",
      "execution_count": 109,
      "outputs": [
        {
          "output_type": "execute_result",
          "data": {
            "text/html": [
              "<div>\n",
              "<style scoped>\n",
              "    .dataframe tbody tr th:only-of-type {\n",
              "        vertical-align: middle;\n",
              "    }\n",
              "\n",
              "    .dataframe tbody tr th {\n",
              "        vertical-align: top;\n",
              "    }\n",
              "\n",
              "    .dataframe thead th {\n",
              "        text-align: right;\n",
              "    }\n",
              "</style>\n",
              "<table border=\"1\" class=\"dataframe\">\n",
              "  <thead>\n",
              "    <tr style=\"text-align: right;\">\n",
              "      <th></th>\n",
              "      <th>Store</th>\n",
              "      <th>StoreType</th>\n",
              "      <th>Assortment</th>\n",
              "      <th>CompetitionDistance</th>\n",
              "      <th>CompetitionOpenSinceMonth</th>\n",
              "      <th>CompetitionOpenSinceYear</th>\n",
              "      <th>Promo2</th>\n",
              "      <th>Promo2SinceWeek</th>\n",
              "      <th>Promo2SinceYear</th>\n",
              "      <th>PromoInterval</th>\n",
              "    </tr>\n",
              "  </thead>\n",
              "  <tbody>\n",
              "    <tr>\n",
              "      <th>0</th>\n",
              "      <td>1</td>\n",
              "      <td>c</td>\n",
              "      <td>a</td>\n",
              "      <td>1270.0</td>\n",
              "      <td>9.0</td>\n",
              "      <td>2008.0</td>\n",
              "      <td>0</td>\n",
              "      <td>NaN</td>\n",
              "      <td>NaN</td>\n",
              "      <td>NaN</td>\n",
              "    </tr>\n",
              "    <tr>\n",
              "      <th>1</th>\n",
              "      <td>2</td>\n",
              "      <td>a</td>\n",
              "      <td>a</td>\n",
              "      <td>570.0</td>\n",
              "      <td>11.0</td>\n",
              "      <td>2007.0</td>\n",
              "      <td>1</td>\n",
              "      <td>13.0</td>\n",
              "      <td>2010.0</td>\n",
              "      <td>Jan,Apr,Jul,Oct</td>\n",
              "    </tr>\n",
              "    <tr>\n",
              "      <th>2</th>\n",
              "      <td>3</td>\n",
              "      <td>a</td>\n",
              "      <td>a</td>\n",
              "      <td>14130.0</td>\n",
              "      <td>12.0</td>\n",
              "      <td>2006.0</td>\n",
              "      <td>1</td>\n",
              "      <td>14.0</td>\n",
              "      <td>2011.0</td>\n",
              "      <td>Jan,Apr,Jul,Oct</td>\n",
              "    </tr>\n",
              "    <tr>\n",
              "      <th>3</th>\n",
              "      <td>4</td>\n",
              "      <td>c</td>\n",
              "      <td>c</td>\n",
              "      <td>620.0</td>\n",
              "      <td>9.0</td>\n",
              "      <td>2009.0</td>\n",
              "      <td>0</td>\n",
              "      <td>NaN</td>\n",
              "      <td>NaN</td>\n",
              "      <td>NaN</td>\n",
              "    </tr>\n",
              "    <tr>\n",
              "      <th>4</th>\n",
              "      <td>5</td>\n",
              "      <td>a</td>\n",
              "      <td>a</td>\n",
              "      <td>29910.0</td>\n",
              "      <td>4.0</td>\n",
              "      <td>2015.0</td>\n",
              "      <td>0</td>\n",
              "      <td>NaN</td>\n",
              "      <td>NaN</td>\n",
              "      <td>NaN</td>\n",
              "    </tr>\n",
              "    <tr>\n",
              "      <th>...</th>\n",
              "      <td>...</td>\n",
              "      <td>...</td>\n",
              "      <td>...</td>\n",
              "      <td>...</td>\n",
              "      <td>...</td>\n",
              "      <td>...</td>\n",
              "      <td>...</td>\n",
              "      <td>...</td>\n",
              "      <td>...</td>\n",
              "      <td>...</td>\n",
              "    </tr>\n",
              "    <tr>\n",
              "      <th>1110</th>\n",
              "      <td>1111</td>\n",
              "      <td>a</td>\n",
              "      <td>a</td>\n",
              "      <td>1900.0</td>\n",
              "      <td>6.0</td>\n",
              "      <td>2014.0</td>\n",
              "      <td>1</td>\n",
              "      <td>31.0</td>\n",
              "      <td>2013.0</td>\n",
              "      <td>Jan,Apr,Jul,Oct</td>\n",
              "    </tr>\n",
              "    <tr>\n",
              "      <th>1111</th>\n",
              "      <td>1112</td>\n",
              "      <td>c</td>\n",
              "      <td>c</td>\n",
              "      <td>1880.0</td>\n",
              "      <td>4.0</td>\n",
              "      <td>2006.0</td>\n",
              "      <td>0</td>\n",
              "      <td>NaN</td>\n",
              "      <td>NaN</td>\n",
              "      <td>NaN</td>\n",
              "    </tr>\n",
              "    <tr>\n",
              "      <th>1112</th>\n",
              "      <td>1113</td>\n",
              "      <td>a</td>\n",
              "      <td>c</td>\n",
              "      <td>9260.0</td>\n",
              "      <td>NaN</td>\n",
              "      <td>NaN</td>\n",
              "      <td>0</td>\n",
              "      <td>NaN</td>\n",
              "      <td>NaN</td>\n",
              "      <td>NaN</td>\n",
              "    </tr>\n",
              "    <tr>\n",
              "      <th>1113</th>\n",
              "      <td>1114</td>\n",
              "      <td>a</td>\n",
              "      <td>c</td>\n",
              "      <td>870.0</td>\n",
              "      <td>NaN</td>\n",
              "      <td>NaN</td>\n",
              "      <td>0</td>\n",
              "      <td>NaN</td>\n",
              "      <td>NaN</td>\n",
              "      <td>NaN</td>\n",
              "    </tr>\n",
              "    <tr>\n",
              "      <th>1114</th>\n",
              "      <td>1115</td>\n",
              "      <td>d</td>\n",
              "      <td>c</td>\n",
              "      <td>5350.0</td>\n",
              "      <td>NaN</td>\n",
              "      <td>NaN</td>\n",
              "      <td>1</td>\n",
              "      <td>22.0</td>\n",
              "      <td>2012.0</td>\n",
              "      <td>Mar,Jun,Sept,Dec</td>\n",
              "    </tr>\n",
              "  </tbody>\n",
              "</table>\n",
              "<p>1115 rows × 10 columns</p>\n",
              "</div>"
            ],
            "text/plain": [
              "      Store StoreType  ... Promo2SinceYear     PromoInterval\n",
              "0         1         c  ...             NaN               NaN\n",
              "1         2         a  ...          2010.0   Jan,Apr,Jul,Oct\n",
              "2         3         a  ...          2011.0   Jan,Apr,Jul,Oct\n",
              "3         4         c  ...             NaN               NaN\n",
              "4         5         a  ...             NaN               NaN\n",
              "...     ...       ...  ...             ...               ...\n",
              "1110   1111         a  ...          2013.0   Jan,Apr,Jul,Oct\n",
              "1111   1112         c  ...             NaN               NaN\n",
              "1112   1113         a  ...             NaN               NaN\n",
              "1113   1114         a  ...             NaN               NaN\n",
              "1114   1115         d  ...          2012.0  Mar,Jun,Sept,Dec\n",
              "\n",
              "[1115 rows x 10 columns]"
            ]
          },
          "metadata": {
            "tags": []
          },
          "execution_count": 109
        }
      ]
    },
    {
      "cell_type": "code",
      "metadata": {
        "colab": {
          "base_uri": "https://localhost:8080/"
        },
        "id": "ypVPGEYUrnK2",
        "outputId": "c04c26da-9bf7-42ac-938e-1bee98d4fd16"
      },
      "source": [
        "store_file.Promo2.value_counts()"
      ],
      "id": "ypVPGEYUrnK2",
      "execution_count": 110,
      "outputs": [
        {
          "output_type": "execute_result",
          "data": {
            "text/plain": [
              "1    571\n",
              "0    544\n",
              "Name: Promo2, dtype: int64"
            ]
          },
          "metadata": {
            "tags": []
          },
          "execution_count": 110
        }
      ]
    },
    {
      "cell_type": "code",
      "metadata": {
        "colab": {
          "base_uri": "https://localhost:8080/"
        },
        "id": "uo9Srnktrtre",
        "outputId": "b2d4a34d-20bb-4ba2-f9bd-ba86608ff3b4"
      },
      "source": [
        "train_file.head()\n",
        "train_file.Open.value_counts()"
      ],
      "id": "uo9Srnktrtre",
      "execution_count": 111,
      "outputs": [
        {
          "output_type": "execute_result",
          "data": {
            "text/plain": [
              "1    844392\n",
              "0    172817\n",
              "Name: Open, dtype: int64"
            ]
          },
          "metadata": {
            "tags": []
          },
          "execution_count": 111
        }
      ]
    },
    {
      "cell_type": "code",
      "metadata": {
        "colab": {
          "base_uri": "https://localhost:8080/",
          "height": 204
        },
        "id": "DUAlyKaDr4bU",
        "outputId": "c7fe4889-8f5c-4a35-8520-80c22a7ff869"
      },
      "source": [
        "test_file.head()"
      ],
      "id": "DUAlyKaDr4bU",
      "execution_count": 112,
      "outputs": [
        {
          "output_type": "execute_result",
          "data": {
            "text/html": [
              "<div>\n",
              "<style scoped>\n",
              "    .dataframe tbody tr th:only-of-type {\n",
              "        vertical-align: middle;\n",
              "    }\n",
              "\n",
              "    .dataframe tbody tr th {\n",
              "        vertical-align: top;\n",
              "    }\n",
              "\n",
              "    .dataframe thead th {\n",
              "        text-align: right;\n",
              "    }\n",
              "</style>\n",
              "<table border=\"1\" class=\"dataframe\">\n",
              "  <thead>\n",
              "    <tr style=\"text-align: right;\">\n",
              "      <th></th>\n",
              "      <th>Id</th>\n",
              "      <th>Store</th>\n",
              "      <th>DayOfWeek</th>\n",
              "      <th>Date</th>\n",
              "      <th>Open</th>\n",
              "      <th>Promo</th>\n",
              "      <th>StateHoliday</th>\n",
              "      <th>SchoolHoliday</th>\n",
              "      <th>Holiday</th>\n",
              "      <th>Day</th>\n",
              "      <th>Month</th>\n",
              "      <th>Year</th>\n",
              "    </tr>\n",
              "  </thead>\n",
              "  <tbody>\n",
              "    <tr>\n",
              "      <th>0</th>\n",
              "      <td>1</td>\n",
              "      <td>1</td>\n",
              "      <td>4</td>\n",
              "      <td>2015-09-17</td>\n",
              "      <td>1.0</td>\n",
              "      <td>1</td>\n",
              "      <td>0</td>\n",
              "      <td>0</td>\n",
              "      <td>0</td>\n",
              "      <td>17</td>\n",
              "      <td>9</td>\n",
              "      <td>2015</td>\n",
              "    </tr>\n",
              "    <tr>\n",
              "      <th>1</th>\n",
              "      <td>2</td>\n",
              "      <td>3</td>\n",
              "      <td>4</td>\n",
              "      <td>2015-09-17</td>\n",
              "      <td>1.0</td>\n",
              "      <td>1</td>\n",
              "      <td>0</td>\n",
              "      <td>0</td>\n",
              "      <td>0</td>\n",
              "      <td>17</td>\n",
              "      <td>9</td>\n",
              "      <td>2015</td>\n",
              "    </tr>\n",
              "    <tr>\n",
              "      <th>2</th>\n",
              "      <td>3</td>\n",
              "      <td>7</td>\n",
              "      <td>4</td>\n",
              "      <td>2015-09-17</td>\n",
              "      <td>1.0</td>\n",
              "      <td>1</td>\n",
              "      <td>0</td>\n",
              "      <td>0</td>\n",
              "      <td>0</td>\n",
              "      <td>17</td>\n",
              "      <td>9</td>\n",
              "      <td>2015</td>\n",
              "    </tr>\n",
              "    <tr>\n",
              "      <th>3</th>\n",
              "      <td>4</td>\n",
              "      <td>8</td>\n",
              "      <td>4</td>\n",
              "      <td>2015-09-17</td>\n",
              "      <td>1.0</td>\n",
              "      <td>1</td>\n",
              "      <td>0</td>\n",
              "      <td>0</td>\n",
              "      <td>0</td>\n",
              "      <td>17</td>\n",
              "      <td>9</td>\n",
              "      <td>2015</td>\n",
              "    </tr>\n",
              "    <tr>\n",
              "      <th>4</th>\n",
              "      <td>5</td>\n",
              "      <td>9</td>\n",
              "      <td>4</td>\n",
              "      <td>2015-09-17</td>\n",
              "      <td>1.0</td>\n",
              "      <td>1</td>\n",
              "      <td>0</td>\n",
              "      <td>0</td>\n",
              "      <td>0</td>\n",
              "      <td>17</td>\n",
              "      <td>9</td>\n",
              "      <td>2015</td>\n",
              "    </tr>\n",
              "  </tbody>\n",
              "</table>\n",
              "</div>"
            ],
            "text/plain": [
              "   Id  Store  DayOfWeek       Date  ...  Holiday  Day Month  Year\n",
              "0   1      1          4 2015-09-17  ...        0   17     9  2015\n",
              "1   2      3          4 2015-09-17  ...        0   17     9  2015\n",
              "2   3      7          4 2015-09-17  ...        0   17     9  2015\n",
              "3   4      8          4 2015-09-17  ...        0   17     9  2015\n",
              "4   5      9          4 2015-09-17  ...        0   17     9  2015\n",
              "\n",
              "[5 rows x 12 columns]"
            ]
          },
          "metadata": {
            "tags": []
          },
          "execution_count": 112
        }
      ]
    },
    {
      "cell_type": "code",
      "metadata": {
        "id": "Vsv5B0c0Fnul",
        "colab": {
          "base_uri": "https://localhost:8080/",
          "height": 419
        },
        "outputId": "9b5919f9-7c2d-4352-c0dd-5fe89c860540"
      },
      "source": [
        "train_file"
      ],
      "id": "Vsv5B0c0Fnul",
      "execution_count": 113,
      "outputs": [
        {
          "output_type": "execute_result",
          "data": {
            "text/html": [
              "<div>\n",
              "<style scoped>\n",
              "    .dataframe tbody tr th:only-of-type {\n",
              "        vertical-align: middle;\n",
              "    }\n",
              "\n",
              "    .dataframe tbody tr th {\n",
              "        vertical-align: top;\n",
              "    }\n",
              "\n",
              "    .dataframe thead th {\n",
              "        text-align: right;\n",
              "    }\n",
              "</style>\n",
              "<table border=\"1\" class=\"dataframe\">\n",
              "  <thead>\n",
              "    <tr style=\"text-align: right;\">\n",
              "      <th></th>\n",
              "      <th>Store</th>\n",
              "      <th>DayOfWeek</th>\n",
              "      <th>Date</th>\n",
              "      <th>Sales</th>\n",
              "      <th>Customers</th>\n",
              "      <th>Open</th>\n",
              "      <th>Promo</th>\n",
              "      <th>StateHoliday</th>\n",
              "      <th>SchoolHoliday</th>\n",
              "      <th>Holiday</th>\n",
              "      <th>Day</th>\n",
              "      <th>Month</th>\n",
              "      <th>Year</th>\n",
              "    </tr>\n",
              "  </thead>\n",
              "  <tbody>\n",
              "    <tr>\n",
              "      <th>0</th>\n",
              "      <td>1</td>\n",
              "      <td>5</td>\n",
              "      <td>2015-07-31</td>\n",
              "      <td>5263</td>\n",
              "      <td>555</td>\n",
              "      <td>1</td>\n",
              "      <td>1</td>\n",
              "      <td>0</td>\n",
              "      <td>1</td>\n",
              "      <td>1</td>\n",
              "      <td>31</td>\n",
              "      <td>7</td>\n",
              "      <td>2015</td>\n",
              "    </tr>\n",
              "    <tr>\n",
              "      <th>1</th>\n",
              "      <td>2</td>\n",
              "      <td>5</td>\n",
              "      <td>2015-07-31</td>\n",
              "      <td>6064</td>\n",
              "      <td>625</td>\n",
              "      <td>1</td>\n",
              "      <td>1</td>\n",
              "      <td>0</td>\n",
              "      <td>1</td>\n",
              "      <td>1</td>\n",
              "      <td>31</td>\n",
              "      <td>7</td>\n",
              "      <td>2015</td>\n",
              "    </tr>\n",
              "    <tr>\n",
              "      <th>2</th>\n",
              "      <td>3</td>\n",
              "      <td>5</td>\n",
              "      <td>2015-07-31</td>\n",
              "      <td>8314</td>\n",
              "      <td>821</td>\n",
              "      <td>1</td>\n",
              "      <td>1</td>\n",
              "      <td>0</td>\n",
              "      <td>1</td>\n",
              "      <td>1</td>\n",
              "      <td>31</td>\n",
              "      <td>7</td>\n",
              "      <td>2015</td>\n",
              "    </tr>\n",
              "    <tr>\n",
              "      <th>3</th>\n",
              "      <td>4</td>\n",
              "      <td>5</td>\n",
              "      <td>2015-07-31</td>\n",
              "      <td>13995</td>\n",
              "      <td>1498</td>\n",
              "      <td>1</td>\n",
              "      <td>1</td>\n",
              "      <td>0</td>\n",
              "      <td>1</td>\n",
              "      <td>1</td>\n",
              "      <td>31</td>\n",
              "      <td>7</td>\n",
              "      <td>2015</td>\n",
              "    </tr>\n",
              "    <tr>\n",
              "      <th>4</th>\n",
              "      <td>5</td>\n",
              "      <td>5</td>\n",
              "      <td>2015-07-31</td>\n",
              "      <td>4822</td>\n",
              "      <td>559</td>\n",
              "      <td>1</td>\n",
              "      <td>1</td>\n",
              "      <td>0</td>\n",
              "      <td>1</td>\n",
              "      <td>1</td>\n",
              "      <td>31</td>\n",
              "      <td>7</td>\n",
              "      <td>2015</td>\n",
              "    </tr>\n",
              "    <tr>\n",
              "      <th>...</th>\n",
              "      <td>...</td>\n",
              "      <td>...</td>\n",
              "      <td>...</td>\n",
              "      <td>...</td>\n",
              "      <td>...</td>\n",
              "      <td>...</td>\n",
              "      <td>...</td>\n",
              "      <td>...</td>\n",
              "      <td>...</td>\n",
              "      <td>...</td>\n",
              "      <td>...</td>\n",
              "      <td>...</td>\n",
              "      <td>...</td>\n",
              "    </tr>\n",
              "    <tr>\n",
              "      <th>1017204</th>\n",
              "      <td>1111</td>\n",
              "      <td>2</td>\n",
              "      <td>2013-01-01</td>\n",
              "      <td>0</td>\n",
              "      <td>0</td>\n",
              "      <td>0</td>\n",
              "      <td>0</td>\n",
              "      <td>a</td>\n",
              "      <td>1</td>\n",
              "      <td>1</td>\n",
              "      <td>1</td>\n",
              "      <td>1</td>\n",
              "      <td>2013</td>\n",
              "    </tr>\n",
              "    <tr>\n",
              "      <th>1017205</th>\n",
              "      <td>1112</td>\n",
              "      <td>2</td>\n",
              "      <td>2013-01-01</td>\n",
              "      <td>0</td>\n",
              "      <td>0</td>\n",
              "      <td>0</td>\n",
              "      <td>0</td>\n",
              "      <td>a</td>\n",
              "      <td>1</td>\n",
              "      <td>1</td>\n",
              "      <td>1</td>\n",
              "      <td>1</td>\n",
              "      <td>2013</td>\n",
              "    </tr>\n",
              "    <tr>\n",
              "      <th>1017206</th>\n",
              "      <td>1113</td>\n",
              "      <td>2</td>\n",
              "      <td>2013-01-01</td>\n",
              "      <td>0</td>\n",
              "      <td>0</td>\n",
              "      <td>0</td>\n",
              "      <td>0</td>\n",
              "      <td>a</td>\n",
              "      <td>1</td>\n",
              "      <td>1</td>\n",
              "      <td>1</td>\n",
              "      <td>1</td>\n",
              "      <td>2013</td>\n",
              "    </tr>\n",
              "    <tr>\n",
              "      <th>1017207</th>\n",
              "      <td>1114</td>\n",
              "      <td>2</td>\n",
              "      <td>2013-01-01</td>\n",
              "      <td>0</td>\n",
              "      <td>0</td>\n",
              "      <td>0</td>\n",
              "      <td>0</td>\n",
              "      <td>a</td>\n",
              "      <td>1</td>\n",
              "      <td>1</td>\n",
              "      <td>1</td>\n",
              "      <td>1</td>\n",
              "      <td>2013</td>\n",
              "    </tr>\n",
              "    <tr>\n",
              "      <th>1017208</th>\n",
              "      <td>1115</td>\n",
              "      <td>2</td>\n",
              "      <td>2013-01-01</td>\n",
              "      <td>0</td>\n",
              "      <td>0</td>\n",
              "      <td>0</td>\n",
              "      <td>0</td>\n",
              "      <td>a</td>\n",
              "      <td>1</td>\n",
              "      <td>1</td>\n",
              "      <td>1</td>\n",
              "      <td>1</td>\n",
              "      <td>2013</td>\n",
              "    </tr>\n",
              "  </tbody>\n",
              "</table>\n",
              "<p>1017209 rows × 13 columns</p>\n",
              "</div>"
            ],
            "text/plain": [
              "         Store  DayOfWeek       Date  Sales  ...  Holiday  Day  Month  Year\n",
              "0            1          5 2015-07-31   5263  ...        1   31      7  2015\n",
              "1            2          5 2015-07-31   6064  ...        1   31      7  2015\n",
              "2            3          5 2015-07-31   8314  ...        1   31      7  2015\n",
              "3            4          5 2015-07-31  13995  ...        1   31      7  2015\n",
              "4            5          5 2015-07-31   4822  ...        1   31      7  2015\n",
              "...        ...        ...        ...    ...  ...      ...  ...    ...   ...\n",
              "1017204   1111          2 2013-01-01      0  ...        1    1      1  2013\n",
              "1017205   1112          2 2013-01-01      0  ...        1    1      1  2013\n",
              "1017206   1113          2 2013-01-01      0  ...        1    1      1  2013\n",
              "1017207   1114          2 2013-01-01      0  ...        1    1      1  2013\n",
              "1017208   1115          2 2013-01-01      0  ...        1    1      1  2013\n",
              "\n",
              "[1017209 rows x 13 columns]"
            ]
          },
          "metadata": {
            "tags": []
          },
          "execution_count": 113
        }
      ]
    },
    {
      "cell_type": "code",
      "metadata": {
        "id": "mY2JPNvAS8uC",
        "colab": {
          "base_uri": "https://localhost:8080/"
        },
        "outputId": "0310a41c-9e58-464d-bf81-303e58665574"
      },
      "source": [
        "store_file.info()"
      ],
      "id": "mY2JPNvAS8uC",
      "execution_count": 114,
      "outputs": [
        {
          "output_type": "stream",
          "text": [
            "<class 'pandas.core.frame.DataFrame'>\n",
            "RangeIndex: 1115 entries, 0 to 1114\n",
            "Data columns (total 10 columns):\n",
            " #   Column                     Non-Null Count  Dtype  \n",
            "---  ------                     --------------  -----  \n",
            " 0   Store                      1115 non-null   int64  \n",
            " 1   StoreType                  1115 non-null   object \n",
            " 2   Assortment                 1115 non-null   object \n",
            " 3   CompetitionDistance        1112 non-null   float64\n",
            " 4   CompetitionOpenSinceMonth  761 non-null    float64\n",
            " 5   CompetitionOpenSinceYear   761 non-null    float64\n",
            " 6   Promo2                     1115 non-null   int64  \n",
            " 7   Promo2SinceWeek            571 non-null    float64\n",
            " 8   Promo2SinceYear            571 non-null    float64\n",
            " 9   PromoInterval              571 non-null    object \n",
            "dtypes: float64(5), int64(2), object(3)\n",
            "memory usage: 87.2+ KB\n"
          ],
          "name": "stdout"
        }
      ]
    },
    {
      "cell_type": "code",
      "metadata": {
        "id": "VmJsxMQuTTWC",
        "colab": {
          "base_uri": "https://localhost:8080/"
        },
        "outputId": "7a71bda6-7bc1-41e0-c8b8-803961a7f8ca"
      },
      "source": [
        "store_file.isna().any()"
      ],
      "id": "VmJsxMQuTTWC",
      "execution_count": 115,
      "outputs": [
        {
          "output_type": "execute_result",
          "data": {
            "text/plain": [
              "Store                        False\n",
              "StoreType                    False\n",
              "Assortment                   False\n",
              "CompetitionDistance           True\n",
              "CompetitionOpenSinceMonth     True\n",
              "CompetitionOpenSinceYear      True\n",
              "Promo2                       False\n",
              "Promo2SinceWeek               True\n",
              "Promo2SinceYear               True\n",
              "PromoInterval                 True\n",
              "dtype: bool"
            ]
          },
          "metadata": {
            "tags": []
          },
          "execution_count": 115
        }
      ]
    },
    {
      "cell_type": "code",
      "metadata": {
        "id": "bdk0TO3HTtDQ",
        "colab": {
          "base_uri": "https://localhost:8080/"
        },
        "outputId": "9e0bc318-42c3-4b48-cd8d-9facfcf9b595"
      },
      "source": [
        "store_file.isna().any() # is null"
      ],
      "id": "bdk0TO3HTtDQ",
      "execution_count": 116,
      "outputs": [
        {
          "output_type": "execute_result",
          "data": {
            "text/plain": [
              "Store                        False\n",
              "StoreType                    False\n",
              "Assortment                   False\n",
              "CompetitionDistance           True\n",
              "CompetitionOpenSinceMonth     True\n",
              "CompetitionOpenSinceYear      True\n",
              "Promo2                       False\n",
              "Promo2SinceWeek               True\n",
              "Promo2SinceYear               True\n",
              "PromoInterval                 True\n",
              "dtype: bool"
            ]
          },
          "metadata": {
            "tags": []
          },
          "execution_count": 116
        }
      ]
    },
    {
      "cell_type": "code",
      "metadata": {
        "id": "g4V3SlXlT-Dh",
        "colab": {
          "base_uri": "https://localhost:8080/"
        },
        "outputId": "8fb19035-773b-4fcd-9647-e73ac626afb9"
      },
      "source": [
        "store_file.info()"
      ],
      "id": "g4V3SlXlT-Dh",
      "execution_count": 117,
      "outputs": [
        {
          "output_type": "stream",
          "text": [
            "<class 'pandas.core.frame.DataFrame'>\n",
            "RangeIndex: 1115 entries, 0 to 1114\n",
            "Data columns (total 10 columns):\n",
            " #   Column                     Non-Null Count  Dtype  \n",
            "---  ------                     --------------  -----  \n",
            " 0   Store                      1115 non-null   int64  \n",
            " 1   StoreType                  1115 non-null   object \n",
            " 2   Assortment                 1115 non-null   object \n",
            " 3   CompetitionDistance        1112 non-null   float64\n",
            " 4   CompetitionOpenSinceMonth  761 non-null    float64\n",
            " 5   CompetitionOpenSinceYear   761 non-null    float64\n",
            " 6   Promo2                     1115 non-null   int64  \n",
            " 7   Promo2SinceWeek            571 non-null    float64\n",
            " 8   Promo2SinceYear            571 non-null    float64\n",
            " 9   PromoInterval              571 non-null    object \n",
            "dtypes: float64(5), int64(2), object(3)\n",
            "memory usage: 87.2+ KB\n"
          ],
          "name": "stdout"
        }
      ]
    },
    {
      "cell_type": "code",
      "metadata": {
        "colab": {
          "base_uri": "https://localhost:8080/"
        },
        "id": "oaA7TFGN00Is",
        "outputId": "403e8c7b-c3ad-46d6-cd37-4963ba8f2fad"
      },
      "source": [
        "store_file.isnull().sum() / store_file.shape[0] * 100.00"
      ],
      "id": "oaA7TFGN00Is",
      "execution_count": 118,
      "outputs": [
        {
          "output_type": "execute_result",
          "data": {
            "text/plain": [
              "Store                         0.000000\n",
              "StoreType                     0.000000\n",
              "Assortment                    0.000000\n",
              "CompetitionDistance           0.269058\n",
              "CompetitionOpenSinceMonth    31.748879\n",
              "CompetitionOpenSinceYear     31.748879\n",
              "Promo2                        0.000000\n",
              "Promo2SinceWeek              48.789238\n",
              "Promo2SinceYear              48.789238\n",
              "PromoInterval                48.789238\n",
              "dtype: float64"
            ]
          },
          "metadata": {
            "tags": []
          },
          "execution_count": 118
        }
      ]
    },
    {
      "cell_type": "code",
      "metadata": {
        "id": "CfIY4Y_C1Us1"
      },
      "source": [
        "# No particular pattern observed. In this case, it makes a complete sense to replace NaN with the median values\n",
        "store_file['CompetitionDistance'].fillna(store_file['CompetitionDistance'].median(), inplace = True)"
      ],
      "id": "CfIY4Y_C1Us1",
      "execution_count": 119,
      "outputs": []
    },
    {
      "cell_type": "code",
      "metadata": {
        "colab": {
          "base_uri": "https://localhost:8080/"
        },
        "id": "yJ1NQ3oQ2QB7",
        "outputId": "8203ef77-9009-44d7-bb03-acbf4e15bfbc"
      },
      "source": [
        "store_file.fillna(0, inplace = True)\n",
        "store_file.isnull().sum()"
      ],
      "id": "yJ1NQ3oQ2QB7",
      "execution_count": 120,
      "outputs": [
        {
          "output_type": "execute_result",
          "data": {
            "text/plain": [
              "Store                        0\n",
              "StoreType                    0\n",
              "Assortment                   0\n",
              "CompetitionDistance          0\n",
              "CompetitionOpenSinceMonth    0\n",
              "CompetitionOpenSinceYear     0\n",
              "Promo2                       0\n",
              "Promo2SinceWeek              0\n",
              "Promo2SinceYear              0\n",
              "PromoInterval                0\n",
              "dtype: int64"
            ]
          },
          "metadata": {
            "tags": []
          },
          "execution_count": 120
        }
      ]
    },
    {
      "cell_type": "code",
      "metadata": {
        "colab": {
          "base_uri": "https://localhost:8080/"
        },
        "id": "zqKvSPxzT13R",
        "outputId": "4281787e-a662-4b96-c6d2-a3ffbc5c7b7a"
      },
      "source": [
        "# To see the percentage of missing values of every columns\n",
        "def every_column_percent_missing(df):\n",
        "    percent_missing = df.isnull().sum() * 100 / len(df)\n",
        "    missing_value_df = pd.DataFrame({'column_name': df.columns,\n",
        "                                     'percent_missing': percent_missing})\n",
        "\n",
        "    missing_value_df.sort_values('percent_missing', inplace=True)\n",
        "\n",
        "    print(missing_value_df)\n",
        "\n",
        "\n",
        "every_column_percent_missing(store_file)"
      ],
      "id": "zqKvSPxzT13R",
      "execution_count": 121,
      "outputs": [
        {
          "output_type": "stream",
          "text": [
            "                                         column_name  percent_missing\n",
            "Store                                          Store              0.0\n",
            "StoreType                                  StoreType              0.0\n",
            "Assortment                                Assortment              0.0\n",
            "CompetitionDistance              CompetitionDistance              0.0\n",
            "CompetitionOpenSinceMonth  CompetitionOpenSinceMonth              0.0\n",
            "CompetitionOpenSinceYear    CompetitionOpenSinceYear              0.0\n",
            "Promo2                                        Promo2              0.0\n",
            "Promo2SinceWeek                      Promo2SinceWeek              0.0\n",
            "Promo2SinceYear                      Promo2SinceYear              0.0\n",
            "PromoInterval                          PromoInterval              0.0\n"
          ],
          "name": "stdout"
        }
      ]
    },
    {
      "cell_type": "code",
      "metadata": {
        "id": "rJ6CwdoTX1Dd",
        "colab": {
          "base_uri": "https://localhost:8080/",
          "height": 609
        },
        "outputId": "110fd84d-9160-4c73-a57c-60621a44d95c"
      },
      "source": [
        "## Store and Train\n",
        "train_store = pd.merge(train_file, store_file, how='inner', on='Store')\n",
        "train_store['StateHoliday'] = train_store['StateHoliday'].apply(lambda x: str(x))\n",
        "train_store"
      ],
      "id": "rJ6CwdoTX1Dd",
      "execution_count": 122,
      "outputs": [
        {
          "output_type": "execute_result",
          "data": {
            "text/html": [
              "<div>\n",
              "<style scoped>\n",
              "    .dataframe tbody tr th:only-of-type {\n",
              "        vertical-align: middle;\n",
              "    }\n",
              "\n",
              "    .dataframe tbody tr th {\n",
              "        vertical-align: top;\n",
              "    }\n",
              "\n",
              "    .dataframe thead th {\n",
              "        text-align: right;\n",
              "    }\n",
              "</style>\n",
              "<table border=\"1\" class=\"dataframe\">\n",
              "  <thead>\n",
              "    <tr style=\"text-align: right;\">\n",
              "      <th></th>\n",
              "      <th>Store</th>\n",
              "      <th>DayOfWeek</th>\n",
              "      <th>Date</th>\n",
              "      <th>Sales</th>\n",
              "      <th>Customers</th>\n",
              "      <th>Open</th>\n",
              "      <th>Promo</th>\n",
              "      <th>StateHoliday</th>\n",
              "      <th>SchoolHoliday</th>\n",
              "      <th>Holiday</th>\n",
              "      <th>Day</th>\n",
              "      <th>Month</th>\n",
              "      <th>Year</th>\n",
              "      <th>StoreType</th>\n",
              "      <th>Assortment</th>\n",
              "      <th>CompetitionDistance</th>\n",
              "      <th>CompetitionOpenSinceMonth</th>\n",
              "      <th>CompetitionOpenSinceYear</th>\n",
              "      <th>Promo2</th>\n",
              "      <th>Promo2SinceWeek</th>\n",
              "      <th>Promo2SinceYear</th>\n",
              "      <th>PromoInterval</th>\n",
              "    </tr>\n",
              "  </thead>\n",
              "  <tbody>\n",
              "    <tr>\n",
              "      <th>0</th>\n",
              "      <td>1</td>\n",
              "      <td>5</td>\n",
              "      <td>2015-07-31</td>\n",
              "      <td>5263</td>\n",
              "      <td>555</td>\n",
              "      <td>1</td>\n",
              "      <td>1</td>\n",
              "      <td>0</td>\n",
              "      <td>1</td>\n",
              "      <td>1</td>\n",
              "      <td>31</td>\n",
              "      <td>7</td>\n",
              "      <td>2015</td>\n",
              "      <td>c</td>\n",
              "      <td>a</td>\n",
              "      <td>1270.0</td>\n",
              "      <td>9.0</td>\n",
              "      <td>2008.0</td>\n",
              "      <td>0</td>\n",
              "      <td>0.0</td>\n",
              "      <td>0.0</td>\n",
              "      <td>0</td>\n",
              "    </tr>\n",
              "    <tr>\n",
              "      <th>1</th>\n",
              "      <td>1</td>\n",
              "      <td>4</td>\n",
              "      <td>2015-07-30</td>\n",
              "      <td>5020</td>\n",
              "      <td>546</td>\n",
              "      <td>1</td>\n",
              "      <td>1</td>\n",
              "      <td>0</td>\n",
              "      <td>1</td>\n",
              "      <td>1</td>\n",
              "      <td>30</td>\n",
              "      <td>7</td>\n",
              "      <td>2015</td>\n",
              "      <td>c</td>\n",
              "      <td>a</td>\n",
              "      <td>1270.0</td>\n",
              "      <td>9.0</td>\n",
              "      <td>2008.0</td>\n",
              "      <td>0</td>\n",
              "      <td>0.0</td>\n",
              "      <td>0.0</td>\n",
              "      <td>0</td>\n",
              "    </tr>\n",
              "    <tr>\n",
              "      <th>2</th>\n",
              "      <td>1</td>\n",
              "      <td>3</td>\n",
              "      <td>2015-07-29</td>\n",
              "      <td>4782</td>\n",
              "      <td>523</td>\n",
              "      <td>1</td>\n",
              "      <td>1</td>\n",
              "      <td>0</td>\n",
              "      <td>1</td>\n",
              "      <td>1</td>\n",
              "      <td>29</td>\n",
              "      <td>7</td>\n",
              "      <td>2015</td>\n",
              "      <td>c</td>\n",
              "      <td>a</td>\n",
              "      <td>1270.0</td>\n",
              "      <td>9.0</td>\n",
              "      <td>2008.0</td>\n",
              "      <td>0</td>\n",
              "      <td>0.0</td>\n",
              "      <td>0.0</td>\n",
              "      <td>0</td>\n",
              "    </tr>\n",
              "    <tr>\n",
              "      <th>3</th>\n",
              "      <td>1</td>\n",
              "      <td>2</td>\n",
              "      <td>2015-07-28</td>\n",
              "      <td>5011</td>\n",
              "      <td>560</td>\n",
              "      <td>1</td>\n",
              "      <td>1</td>\n",
              "      <td>0</td>\n",
              "      <td>1</td>\n",
              "      <td>1</td>\n",
              "      <td>28</td>\n",
              "      <td>7</td>\n",
              "      <td>2015</td>\n",
              "      <td>c</td>\n",
              "      <td>a</td>\n",
              "      <td>1270.0</td>\n",
              "      <td>9.0</td>\n",
              "      <td>2008.0</td>\n",
              "      <td>0</td>\n",
              "      <td>0.0</td>\n",
              "      <td>0.0</td>\n",
              "      <td>0</td>\n",
              "    </tr>\n",
              "    <tr>\n",
              "      <th>4</th>\n",
              "      <td>1</td>\n",
              "      <td>1</td>\n",
              "      <td>2015-07-27</td>\n",
              "      <td>6102</td>\n",
              "      <td>612</td>\n",
              "      <td>1</td>\n",
              "      <td>1</td>\n",
              "      <td>0</td>\n",
              "      <td>1</td>\n",
              "      <td>1</td>\n",
              "      <td>27</td>\n",
              "      <td>7</td>\n",
              "      <td>2015</td>\n",
              "      <td>c</td>\n",
              "      <td>a</td>\n",
              "      <td>1270.0</td>\n",
              "      <td>9.0</td>\n",
              "      <td>2008.0</td>\n",
              "      <td>0</td>\n",
              "      <td>0.0</td>\n",
              "      <td>0.0</td>\n",
              "      <td>0</td>\n",
              "    </tr>\n",
              "    <tr>\n",
              "      <th>...</th>\n",
              "      <td>...</td>\n",
              "      <td>...</td>\n",
              "      <td>...</td>\n",
              "      <td>...</td>\n",
              "      <td>...</td>\n",
              "      <td>...</td>\n",
              "      <td>...</td>\n",
              "      <td>...</td>\n",
              "      <td>...</td>\n",
              "      <td>...</td>\n",
              "      <td>...</td>\n",
              "      <td>...</td>\n",
              "      <td>...</td>\n",
              "      <td>...</td>\n",
              "      <td>...</td>\n",
              "      <td>...</td>\n",
              "      <td>...</td>\n",
              "      <td>...</td>\n",
              "      <td>...</td>\n",
              "      <td>...</td>\n",
              "      <td>...</td>\n",
              "      <td>...</td>\n",
              "    </tr>\n",
              "    <tr>\n",
              "      <th>1017204</th>\n",
              "      <td>1115</td>\n",
              "      <td>6</td>\n",
              "      <td>2013-01-05</td>\n",
              "      <td>4771</td>\n",
              "      <td>339</td>\n",
              "      <td>1</td>\n",
              "      <td>0</td>\n",
              "      <td>0</td>\n",
              "      <td>1</td>\n",
              "      <td>1</td>\n",
              "      <td>5</td>\n",
              "      <td>1</td>\n",
              "      <td>2013</td>\n",
              "      <td>d</td>\n",
              "      <td>c</td>\n",
              "      <td>5350.0</td>\n",
              "      <td>0.0</td>\n",
              "      <td>0.0</td>\n",
              "      <td>1</td>\n",
              "      <td>22.0</td>\n",
              "      <td>2012.0</td>\n",
              "      <td>Mar,Jun,Sept,Dec</td>\n",
              "    </tr>\n",
              "    <tr>\n",
              "      <th>1017205</th>\n",
              "      <td>1115</td>\n",
              "      <td>5</td>\n",
              "      <td>2013-01-04</td>\n",
              "      <td>4540</td>\n",
              "      <td>326</td>\n",
              "      <td>1</td>\n",
              "      <td>0</td>\n",
              "      <td>0</td>\n",
              "      <td>1</td>\n",
              "      <td>1</td>\n",
              "      <td>4</td>\n",
              "      <td>1</td>\n",
              "      <td>2013</td>\n",
              "      <td>d</td>\n",
              "      <td>c</td>\n",
              "      <td>5350.0</td>\n",
              "      <td>0.0</td>\n",
              "      <td>0.0</td>\n",
              "      <td>1</td>\n",
              "      <td>22.0</td>\n",
              "      <td>2012.0</td>\n",
              "      <td>Mar,Jun,Sept,Dec</td>\n",
              "    </tr>\n",
              "    <tr>\n",
              "      <th>1017206</th>\n",
              "      <td>1115</td>\n",
              "      <td>4</td>\n",
              "      <td>2013-01-03</td>\n",
              "      <td>4297</td>\n",
              "      <td>300</td>\n",
              "      <td>1</td>\n",
              "      <td>0</td>\n",
              "      <td>0</td>\n",
              "      <td>1</td>\n",
              "      <td>1</td>\n",
              "      <td>3</td>\n",
              "      <td>1</td>\n",
              "      <td>2013</td>\n",
              "      <td>d</td>\n",
              "      <td>c</td>\n",
              "      <td>5350.0</td>\n",
              "      <td>0.0</td>\n",
              "      <td>0.0</td>\n",
              "      <td>1</td>\n",
              "      <td>22.0</td>\n",
              "      <td>2012.0</td>\n",
              "      <td>Mar,Jun,Sept,Dec</td>\n",
              "    </tr>\n",
              "    <tr>\n",
              "      <th>1017207</th>\n",
              "      <td>1115</td>\n",
              "      <td>3</td>\n",
              "      <td>2013-01-02</td>\n",
              "      <td>3697</td>\n",
              "      <td>305</td>\n",
              "      <td>1</td>\n",
              "      <td>0</td>\n",
              "      <td>0</td>\n",
              "      <td>1</td>\n",
              "      <td>1</td>\n",
              "      <td>2</td>\n",
              "      <td>1</td>\n",
              "      <td>2013</td>\n",
              "      <td>d</td>\n",
              "      <td>c</td>\n",
              "      <td>5350.0</td>\n",
              "      <td>0.0</td>\n",
              "      <td>0.0</td>\n",
              "      <td>1</td>\n",
              "      <td>22.0</td>\n",
              "      <td>2012.0</td>\n",
              "      <td>Mar,Jun,Sept,Dec</td>\n",
              "    </tr>\n",
              "    <tr>\n",
              "      <th>1017208</th>\n",
              "      <td>1115</td>\n",
              "      <td>2</td>\n",
              "      <td>2013-01-01</td>\n",
              "      <td>0</td>\n",
              "      <td>0</td>\n",
              "      <td>0</td>\n",
              "      <td>0</td>\n",
              "      <td>a</td>\n",
              "      <td>1</td>\n",
              "      <td>1</td>\n",
              "      <td>1</td>\n",
              "      <td>1</td>\n",
              "      <td>2013</td>\n",
              "      <td>d</td>\n",
              "      <td>c</td>\n",
              "      <td>5350.0</td>\n",
              "      <td>0.0</td>\n",
              "      <td>0.0</td>\n",
              "      <td>1</td>\n",
              "      <td>22.0</td>\n",
              "      <td>2012.0</td>\n",
              "      <td>Mar,Jun,Sept,Dec</td>\n",
              "    </tr>\n",
              "  </tbody>\n",
              "</table>\n",
              "<p>1017209 rows × 22 columns</p>\n",
              "</div>"
            ],
            "text/plain": [
              "         Store  DayOfWeek  ... Promo2SinceYear     PromoInterval\n",
              "0            1          5  ...             0.0                 0\n",
              "1            1          4  ...             0.0                 0\n",
              "2            1          3  ...             0.0                 0\n",
              "3            1          2  ...             0.0                 0\n",
              "4            1          1  ...             0.0                 0\n",
              "...        ...        ...  ...             ...               ...\n",
              "1017204   1115          6  ...          2012.0  Mar,Jun,Sept,Dec\n",
              "1017205   1115          5  ...          2012.0  Mar,Jun,Sept,Dec\n",
              "1017206   1115          4  ...          2012.0  Mar,Jun,Sept,Dec\n",
              "1017207   1115          3  ...          2012.0  Mar,Jun,Sept,Dec\n",
              "1017208   1115          2  ...          2012.0  Mar,Jun,Sept,Dec\n",
              "\n",
              "[1017209 rows x 22 columns]"
            ]
          },
          "metadata": {
            "tags": []
          },
          "execution_count": 122
        }
      ]
    },
    {
      "cell_type": "code",
      "metadata": {
        "colab": {
          "base_uri": "https://localhost:8080/"
        },
        "id": "n2WzWOx8-AH3",
        "outputId": "e525158a-2680-47f3-f14f-99a441bb8117"
      },
      "source": [
        "train_store.info()"
      ],
      "id": "n2WzWOx8-AH3",
      "execution_count": 123,
      "outputs": [
        {
          "output_type": "stream",
          "text": [
            "<class 'pandas.core.frame.DataFrame'>\n",
            "Int64Index: 1017209 entries, 0 to 1017208\n",
            "Data columns (total 22 columns):\n",
            " #   Column                     Non-Null Count    Dtype         \n",
            "---  ------                     --------------    -----         \n",
            " 0   Store                      1017209 non-null  int64         \n",
            " 1   DayOfWeek                  1017209 non-null  int64         \n",
            " 2   Date                       1017209 non-null  datetime64[ns]\n",
            " 3   Sales                      1017209 non-null  int64         \n",
            " 4   Customers                  1017209 non-null  int64         \n",
            " 5   Open                       1017209 non-null  int64         \n",
            " 6   Promo                      1017209 non-null  int64         \n",
            " 7   StateHoliday               1017209 non-null  object        \n",
            " 8   SchoolHoliday              1017209 non-null  int64         \n",
            " 9   Holiday                    1017209 non-null  int64         \n",
            " 10  Day                        1017209 non-null  int64         \n",
            " 11  Month                      1017209 non-null  int64         \n",
            " 12  Year                       1017209 non-null  int64         \n",
            " 13  StoreType                  1017209 non-null  object        \n",
            " 14  Assortment                 1017209 non-null  object        \n",
            " 15  CompetitionDistance        1017209 non-null  float64       \n",
            " 16  CompetitionOpenSinceMonth  1017209 non-null  float64       \n",
            " 17  CompetitionOpenSinceYear   1017209 non-null  float64       \n",
            " 18  Promo2                     1017209 non-null  int64         \n",
            " 19  Promo2SinceWeek            1017209 non-null  float64       \n",
            " 20  Promo2SinceYear            1017209 non-null  float64       \n",
            " 21  PromoInterval              1017209 non-null  object        \n",
            "dtypes: datetime64[ns](1), float64(5), int64(12), object(4)\n",
            "memory usage: 178.5+ MB\n"
          ],
          "name": "stdout"
        }
      ]
    },
    {
      "cell_type": "code",
      "metadata": {
        "colab": {
          "base_uri": "https://localhost:8080/"
        },
        "id": "lWbAMDgVFoTq",
        "outputId": "8efe45b8-4818-4a58-881e-b196bdd89cce"
      },
      "source": [
        "print(\"Training data starts from: {}\".format(train_file.Date.min()))\n",
        "print(\"Training data end on: {}\".format(train_file.Date.max()))\n",
        "print()\n",
        "print(\"Testing data starts from: {}\".format(test_file.Date.min()))\n",
        "print(\"Testing data end on: {}\".format(test_file.Date.max()))"
      ],
      "id": "lWbAMDgVFoTq",
      "execution_count": 124,
      "outputs": [
        {
          "output_type": "stream",
          "text": [
            "Training data starts from: 2013-01-01 00:00:00\n",
            "Training data end on: 2015-07-31 00:00:00\n",
            "\n",
            "Testing data starts from: 2015-08-01 00:00:00\n",
            "Testing data end on: 2015-09-17 00:00:00\n"
          ],
          "name": "stdout"
        }
      ]
    },
    {
      "cell_type": "code",
      "metadata": {
        "colab": {
          "base_uri": "https://localhost:8080/",
          "height": 559
        },
        "id": "JDkIpxA8e91N",
        "outputId": "f509bb1b-1fc6-4961-e61d-77195bcd5851"
      },
      "source": [
        "fig, (ax1, ax2) = plt.subplots(nrows=1, ncols=2, figsize=(18,8))\n",
        "cmap = sns.diverging_palette(230, 20, as_cmap=True)\n",
        "corr = train_file.corr()\n",
        "mask = np.triu(np.ones_like(corr, dtype=bool))\n",
        "sns.heatmap(train_file.corr(), mask=mask, cmap=cmap, annot=True, ax=ax1)\n",
        "ax1.set_title('Train')\n",
        "corr = test_file.corr()\n",
        "mask = np.triu(np.ones_like(corr, dtype=bool))\n",
        "sns.heatmap(test_file.corr(), mask=mask, cmap=cmap, annot=True, ax=ax2)\n",
        "ax2.set_title('Test')\n",
        "plt.show()"
      ],
      "id": "JDkIpxA8e91N",
      "execution_count": 125,
      "outputs": [
        {
          "output_type": "display_data",
          "data": {
            "image/png": "[encoded data removed]",
            "text/plain": [
              "<Figure size 1296x576 with 4 Axes>"
            ]
          },
          "metadata": {
            "tags": [],
            "needs_background": "light"
          }
        }
      ]
    },
    {
      "cell_type": "code",
      "metadata": {
        "id": "S6hDRTW6fRP7"
      },
      "source": [
        ""
      ],
      "id": "S6hDRTW6fRP7",
      "execution_count": 125,
      "outputs": []
    },
    {
      "cell_type": "code",
      "metadata": {
        "colab": {
          "base_uri": "https://localhost:8080/",
          "height": 516
        },
        "id": "bIwSN2cmPkia",
        "outputId": "ab65cccf-f8e2-4195-d8de-2f711d6d9113"
      },
      "source": [
        "from statsmodels.tsa.seasonal import seasonal_decompose\n",
        "temp_df = train_file.copy()\n",
        "temp_df.Date = pd.to_datetime(temp_df.Date)\n",
        "temp_df.index = temp_df.Date\n",
        "temp_df.Sales = temp_df.Sales.apply(lambda x: None if x == 0 else x)\n",
        "temp_df.Sales = temp_df.Sales.fillna(method='ffill').fillna(method='bfill')\n",
        "temp_df = temp_df[['Sales']]\n",
        "temp_df = temp_df.groupby(temp_df.index).sum()\n",
        "result = seasonal_decompose(temp_df, model='additive', freq=52)\n",
        "\n",
        "fig, (ax1, ax2) = plt.subplots(nrows=2, ncols=1, figsize=(18,8))\n",
        "ax1.plot(result.trend)\n",
        "ax1.axhline(y = temp_df.Sales.mean(), color = 'r', linestyle = '-', label='Sales Mean')\n",
        "ax1.set_title(\"Trend\")\n",
        "ax2.plot(result.resid)\n",
        "ax2.set_title(\"Error\")\n",
        "ax1.legend()"
      ],
      "id": "bIwSN2cmPkia",
      "execution_count": 126,
      "outputs": [
        {
          "output_type": "execute_result",
          "data": {
            "text/plain": [
              "<matplotlib.legend.Legend at 0x7f71a0eac990>"
            ]
          },
          "metadata": {
            "tags": []
          },
          "execution_count": 126
        },
        {
          "output_type": "display_data",
          "data": {
            "image/png": "[encoded data removed]",
            "text/plain": [
              "<Figure size 1296x576 with 2 Axes>"
            ]
          },
          "metadata": {
            "tags": [],
            "needs_background": "light"
          }
        }
      ]
    },
    {
      "cell_type": "code",
      "metadata": {
        "id": "-o9bRKaFggiT"
      },
      "source": [
        "features_x = ['Store', 'Date', 'DayOfWeek', 'Open', 'Promo', 'SchoolHoliday', 'StateHoliday']\n",
        "features_y = ['SalesLog']"
      ],
      "id": "-o9bRKaFggiT",
      "execution_count": 127,
      "outputs": []
    },
    {
      "cell_type": "code",
      "metadata": {
        "id": "_amlEaDSPz0K"
      },
      "source": [
        "train_file['is_train'] = 1\n",
        "test_file['is_train'] = 0\n",
        "df = pd.concat([train_file, test_file])"
      ],
      "id": "_amlEaDSPz0K",
      "execution_count": 128,
      "outputs": []
    },
    {
      "cell_type": "code",
      "metadata": {
        "id": "jOI489nPPz3n"
      },
      "source": [
        "df.Date = pd.to_datetime(df.Date)"
      ],
      "id": "jOI489nPPz3n",
      "execution_count": 129,
      "outputs": []
    },
    {
      "cell_type": "code",
      "metadata": {
        "id": "4B3CSoqiPz5q"
      },
      "source": [
        "df = df.loc[~((df['Open'] == 1) & (df['Sales'] == 0))]"
      ],
      "id": "4B3CSoqiPz5q",
      "execution_count": 130,
      "outputs": []
    },
    {
      "cell_type": "code",
      "metadata": {
        "id": "RfqCEHiAhIx1"
      },
      "source": [
        "df.StateHoliday = df.StateHoliday.map({0:'0', 'a':'a', 'b':'b', 'c':'c', '0':'0'}) #mixed data types\n",
        "df.StateHoliday = LabelEncoder().fit_transform(df.StateHoliday) #Encoding for XG Boost"
      ],
      "id": "RfqCEHiAhIx1",
      "execution_count": 131,
      "outputs": []
    },
    {
      "cell_type": "code",
      "metadata": {
        "id": "6A8CdjqUhI3G"
      },
      "source": [
        "var_name = 'Date'\n",
        "\n",
        "df[var_name + 'Day'] = df[var_name].dt.day #addding day\n",
        "df[var_name + 'Week'] = df[var_name].dt.week #adding week\n",
        "df[var_name + 'Month'] = df[var_name].dt.month #adding month\n",
        "df[var_name + 'Year'] = df[var_name].dt.year #adding year\n",
        "df[var_name + 'DayOfYear'] = df[var_name].dt.dayofyear #adding dayofyear\n",
        "\n",
        "features_x.remove(var_name) #removing Date\n",
        "features_x.append(var_name + 'Day')\n",
        "features_x.append(var_name + 'Week')\n",
        "features_x.append(var_name + 'Month')\n",
        "features_x.append(var_name + 'Year')\n",
        "features_x.append(var_name + 'DayOfYear')"
      ],
      "id": "6A8CdjqUhI3G",
      "execution_count": 132,
      "outputs": []
    },
    {
      "cell_type": "code",
      "metadata": {
        "id": "a3LxCjw3hI6U"
      },
      "source": [
        "store_file.StoreType = LabelEncoder().fit_transform(store_file.StoreType) #encoding StoreType\n",
        "store_file.Assortment = LabelEncoder().fit_transform(store_file.Assortment)"
      ],
      "id": "a3LxCjw3hI6U",
      "execution_count": 133,
      "outputs": []
    },
    {
      "cell_type": "code",
      "metadata": {
        "id": "WZrkof1phI9X"
      },
      "source": [
        "join_with = store_file['PromoInterval'].str.split(',').apply(pd.Series)\n",
        "join_with.columns = join_with.columns.map(lambda x: str(x) + '_PromoInterval')\n",
        "store = store_file.join(join_with) #joining splits"
      ],
      "id": "WZrkof1phI9X",
      "execution_count": 134,
      "outputs": []
    },
    {
      "cell_type": "code",
      "metadata": {
        "id": "dRw3JhBfiPBR"
      },
      "source": [
        "def monthToNum(value):\n",
        "    if(value=='Sept'):\n",
        "        value='Sep'\n",
        "    return list(calendar.month_abbr).index(value)\n",
        "#mapping month abbr to month number\n",
        "store['0_PromoInterval'] = store['0_PromoInterval'].map(lambda x: monthToNum(x) if str(x) != 'nan' else np.nan)\n",
        "store['1_PromoInterval'] = store['1_PromoInterval'].map(lambda x: monthToNum(x) if str(x) != 'nan' else np.nan)\n",
        "store['2_PromoInterval'] = store['2_PromoInterval'].map(lambda x: monthToNum(x) if str(x) != 'nan' else np.nan)\n",
        "store['3_PromoInterval'] = store['3_PromoInterval'].map(lambda x: monthToNum(x) if str(x) != 'nan' else np.nan)"
      ],
      "id": "dRw3JhBfiPBR",
      "execution_count": 135,
      "outputs": []
    },
    {
      "cell_type": "code",
      "metadata": {
        "colab": {
          "base_uri": "https://localhost:8080/"
        },
        "id": "Iq8e9omanBVp",
        "outputId": "dc633cdd-3394-4ea0-c348-38d07fe82efe"
      },
      "source": [
        "competition_open = []\n",
        "for index, value in store[['CompetitionOpenSinceMonth', 'CompetitionOpenSinceYear']].iterrows():\n",
        "    try:\n",
        "        year, month = int(value['CompetitionOpenSinceYear']), int(value['CompetitionOpenSinceMonth'])\n",
        "        date = pd.to_datetime(\"{}-{}-01\".format(year, month), format='%Y-%m')\n",
        "        competition_open.append(date)\n",
        "    except:\n",
        "        competition_open.append(np.nan)\n",
        "competition_open = pd.Series(competition_open)\n",
        "competition_open.shape"
      ],
      "id": "Iq8e9omanBVp",
      "execution_count": 148,
      "outputs": [
        {
          "output_type": "execute_result",
          "data": {
            "text/plain": [
              "(1115,)"
            ]
          },
          "metadata": {
            "tags": []
          },
          "execution_count": 148
        }
      ]
    },
    {
      "cell_type": "code",
      "metadata": {
        "id": "GfKDGxib23cV"
      },
      "source": [
        "store['CompetitionOpen'] = competition_open #converted int to datetime\n",
        "store['CompetitionOpen'] = store.CompetitionOpen.dt.strftime('%Y%m%d')"
      ],
      "id": "GfKDGxib23cV",
      "execution_count": 149,
      "outputs": []
    },
    {
      "cell_type": "code",
      "metadata": {
        "colab": {
          "base_uri": "https://localhost:8080/"
        },
        "id": "sMi0B6Tpm_hs",
        "outputId": "fac84ec9-1dff-453f-e199-d69f285d130b"
      },
      "source": [
        "promo = []\n",
        "for index, value in store[['Promo2SinceWeek', 'Promo2SinceYear']].iterrows():\n",
        "    try:\n",
        "        year, week = int(value['Promo2SinceYear']), int(value['Promo2SinceWeek'])\n",
        "        date = pd.to_datetime(\"{}-{}-01\".format(year, week), format='%Y%W')\n",
        "        promo.append(date)\n",
        "    except:\n",
        "        promo.append(np.nan)\n",
        "promo = pd.to_datetime(pd.Series(competition_open))\n",
        "promo.shape"
      ],
      "id": "sMi0B6Tpm_hs",
      "execution_count": 150,
      "outputs": [
        {
          "output_type": "execute_result",
          "data": {
            "text/plain": [
              "(1115,)"
            ]
          },
          "metadata": {
            "tags": []
          },
          "execution_count": 150
        }
      ]
    },
    {
      "cell_type": "code",
      "metadata": {
        "id": "t5oCSJymm_oa"
      },
      "source": [
        "store['PromoSince'] = promo #converted int to datetime\n",
        "store['PromoSince'] = store.PromoSince.dt.strftime('%Y%m%d')"
      ],
      "id": "t5oCSJymm_oa",
      "execution_count": 151,
      "outputs": []
    },
    {
      "cell_type": "code",
      "metadata": {
        "id": "MJaCzET9_g_8"
      },
      "source": [
        "store_features = ['Store', 'StoreType', 'Assortment', 'CompetitionDistance', 'CompetitionOpen', \n",
        "                  'PromoSince', '0_PromoInterval']\n",
        "#1_PromoInterval, 2_PromoInterval, 3_PromoInterval irrelevent"
      ],
      "id": "MJaCzET9_g_8",
      "execution_count": 152,
      "outputs": []
    },
    {
      "cell_type": "code",
      "metadata": {
        "id": "eeFUPdSC_hCY"
      },
      "source": [
        "df = pd.merge(df, store[store_features], how='left', on=['Store'])"
      ],
      "id": "eeFUPdSC_hCY",
      "execution_count": 153,
      "outputs": []
    },
    {
      "cell_type": "code",
      "metadata": {
        "id": "KEoQaYCi3csM"
      },
      "source": [
        "features_x = list(set(features_x + store_features))"
      ],
      "id": "KEoQaYCi3csM",
      "execution_count": 154,
      "outputs": []
    },
    {
      "cell_type": "code",
      "metadata": {
        "id": "0cjtfEDJ3c4J"
      },
      "source": [
        "for feature in features_x:\n",
        "    df[feature] = df[feature].fillna(-999) #out of range value for model"
      ],
      "id": "0cjtfEDJ3c4J",
      "execution_count": 155,
      "outputs": []
    },
    {
      "cell_type": "code",
      "metadata": {
        "id": "mQ_lG2xL3c7f"
      },
      "source": [
        "df['DateInt'] = df.Date.dt.strftime('%Y%m%d').map(int) #mapping to Int\n",
        "df['CompetitionOpen'] = df.CompetitionOpen.map(int)\n",
        "df['PromoSince'] = df.PromoSince.map(int)"
      ],
      "id": "mQ_lG2xL3c7f",
      "execution_count": 156,
      "outputs": []
    },
    {
      "cell_type": "code",
      "metadata": {
        "id": "oikGA9iD3dCl"
      },
      "source": [
        "df['Zscore'] = (df.Sales - df.Sales.mean())/df.Sales.std()"
      ],
      "id": "oikGA9iD3dCl",
      "execution_count": 157,
      "outputs": []
    },
    {
      "cell_type": "code",
      "metadata": {
        "id": "R_icxV0K35Zm"
      },
      "source": [
        "thresh=4.0\n",
        "def check_outlier(value):\n",
        "    if(value>=thresh):\n",
        "        return True\n",
        "    else:\n",
        "        return False\n",
        "\n",
        "df['Outlier'] = df.Zscore.apply(check_outlier)"
      ],
      "id": "R_icxV0K35Zm",
      "execution_count": 158,
      "outputs": []
    },
    {
      "cell_type": "code",
      "metadata": {
        "id": "7oiNh07i35cS"
      },
      "source": [
        "store_data_sales = df.groupby([df['Store']])['Sales'].sum()\n",
        "store_data_customers = df.groupby([df['Store']])['Customers'].sum()\n",
        "store_data_open = df.groupby([df['Store']])['Open'].count()\n",
        "\n",
        "store_data_sales_per_day = store_data_sales / store_data_open\n",
        "store_data_customers_per_day = store_data_customers / store_data_open\n",
        "store_data_sales_per_customer_per_day = store_data_sales_per_day / store_data_customers_per_day\n",
        "\n",
        "df_store = pd.merge(store, store_data_sales_per_day.reset_index(name='SalesPerDay'), how='left', on=['Store'])\n",
        "df_store = pd.merge(df_store, store_data_customers_per_day.reset_index(name='CustomersPerDay'), how='left', on=['Store'])\n",
        "df_store = pd.merge(df_store, store_data_sales_per_customer_per_day.reset_index(name='SalesPerCustomersPerDay'), how='left', on=['Store'])\n",
        "store_features = ['Store', 'SalesPerDay', 'CustomersPerDay', 'SalesPerCustomersPerDay']\n",
        "\n",
        "features_x = list(set(features_x + store_features))\n",
        "df = pd.merge(df, df_store[store_features], how='left', on=['Store'])"
      ],
      "id": "7oiNh07i35cS",
      "execution_count": 159,
      "outputs": []
    },
    {
      "cell_type": "code",
      "metadata": {
        "id": "ImxEezMg4JsC"
      },
      "source": [
        "holidays_each_day_of_week = df.groupby(df.DayOfWeek).sum().StateHoliday\n",
        "df = pd.merge(df, holidays_each_day_of_week.reset_index(name='HolidaysPerDayOfWeek'), on=['DayOfWeek'])"
      ],
      "id": "ImxEezMg4JsC",
      "execution_count": 160,
      "outputs": []
    },
    {
      "cell_type": "code",
      "metadata": {
        "id": "_fICtoAc4JvJ"
      },
      "source": [
        "school_holidays_each_day_of_week = df.groupby(df.DayOfWeek).sum().SchoolHoliday\n",
        "df = pd.merge(df, school_holidays_each_day_of_week.reset_index(name='SchoolHolidaysPerDayOfWeek'), on=['DayOfWeek'])"
      ],
      "id": "_fICtoAc4JvJ",
      "execution_count": 161,
      "outputs": []
    },
    {
      "cell_type": "code",
      "metadata": {
        "id": "HIz41t9f4JyJ"
      },
      "source": [
        "promo_each_day_of_week = df.groupby(df.DayOfWeek).sum().Promo\n",
        "df = pd.merge(df, promo_each_day_of_week.reset_index(name='PromoPerDayOfWeek'), on=['DayOfWeek'])"
      ],
      "id": "HIz41t9f4JyJ",
      "execution_count": 162,
      "outputs": []
    },
    {
      "cell_type": "code",
      "metadata": {
        "colab": {
          "base_uri": "https://localhost:8080/"
        },
        "id": "ELP1S4LL4gyU",
        "outputId": "802153e4-16cf-4245-de5e-d415c7555207"
      },
      "source": [
        "holidays_next_week=[]\n",
        "holidays_next_week_index=[]\n",
        "for index, value in df.groupby(df.Date).sum().iterrows():\n",
        "    start_range = index + datetime.timedelta(days=7)\n",
        "    end_range = index + datetime.timedelta(days=15)\n",
        "    school_holidays = sum((df.groupby(df.Date).sum()[start_range:end_range]).SchoolHoliday)\n",
        "    state_holidays = sum((df.groupby(df.Date).sum()[start_range:end_range]).StateHoliday)\n",
        "    holidays_next_week.append(school_holidays+state_holidays)\n",
        "    holidays_next_week_index.append(index)\n",
        "    \n",
        "holidays_next_week = pd.Series(holidays_next_week)\n",
        "holidays_next_week.shape"
      ],
      "id": "ELP1S4LL4gyU",
      "execution_count": 163,
      "outputs": [
        {
          "output_type": "execute_result",
          "data": {
            "text/plain": [
              "(990,)"
            ]
          },
          "metadata": {
            "tags": []
          },
          "execution_count": 163
        }
      ]
    },
    {
      "cell_type": "code",
      "metadata": {
        "colab": {
          "base_uri": "https://localhost:8080/"
        },
        "id": "WOeCogaq4g2C",
        "outputId": "84569d57-807b-4d5d-82d0-6b0c99925be7"
      },
      "source": [
        "holidays_this_week=[]\n",
        "index_list = []\n",
        "for index, value in df.groupby(df.Date).sum().iterrows():\n",
        "    start_range = index \n",
        "    end_range = index + datetime.timedelta(days=7)\n",
        "    school_holidays = sum((df.groupby(df.Date).sum()[start_range:end_range]).SchoolHoliday)\n",
        "    state_holidays = sum((df.groupby(df.Date).sum()[start_range:end_range]).StateHoliday)\n",
        "    holidays_this_week.append(school_holidays+state_holidays)\n",
        "    index_list.append(index)\n",
        "    \n",
        "holidays_this_week = pd.Series(holidays_this_week)\n",
        "holidays_this_week.shape"
      ],
      "id": "WOeCogaq4g2C",
      "execution_count": 164,
      "outputs": [
        {
          "output_type": "execute_result",
          "data": {
            "text/plain": [
              "(990,)"
            ]
          },
          "metadata": {
            "tags": []
          },
          "execution_count": 164
        }
      ]
    },
    {
      "cell_type": "code",
      "metadata": {
        "id": "ITf1z0Sh6Cp0"
      },
      "source": [
        "temp_df = pd.DataFrame({'HolidaysNextWeek':holidays_next_week, 'Date': holidays_next_week_index})\n",
        "df = pd.merge(df, temp_df, on=['Date'])"
      ],
      "id": "ITf1z0Sh6Cp0",
      "execution_count": 165,
      "outputs": []
    },
    {
      "cell_type": "code",
      "metadata": {
        "id": "jns8V0O067fq"
      },
      "source": [
        "temp_df = pd.DataFrame({'HolidaysThisWeek':holidays_this_week, 'Date': index_list})\n",
        "df = pd.merge(df, temp_df, on=['Date'])"
      ],
      "id": "jns8V0O067fq",
      "execution_count": 166,
      "outputs": []
    },
    {
      "cell_type": "code",
      "metadata": {
        "colab": {
          "base_uri": "https://localhost:8080/",
          "height": 180
        },
        "id": "qSMbDFO867nq",
        "outputId": "6a00c2c1-8704-4697-af99-9aabf014e79a"
      },
      "source": [
        "temp_df = pd.DataFrame({'HolidaysLastWeek':holidays_last_week, 'Date': holidays_last_week_index})\n",
        "df = pd.merge(df, temp_df, on=['Date'])"
      ],
      "id": "qSMbDFO867nq",
      "execution_count": 169,
      "outputs": [
        {
          "output_type": "error",
          "ename": "NameError",
          "evalue": "ignored",
          "traceback": [
            "\u001b[0;31m---------------------------------------------------------------------------\u001b[0m",
            "\u001b[0;31mNameError\u001b[0m                                 Traceback (most recent call last)",
            "\u001b[0;32m<ipython-input-169-d917b512b5b5>\u001b[0m in \u001b[0;36m<module>\u001b[0;34m()\u001b[0m\n\u001b[0;32m----> 1\u001b[0;31m \u001b[0mtemp_df\u001b[0m \u001b[0;34m=\u001b[0m \u001b[0mpd\u001b[0m\u001b[0;34m.\u001b[0m\u001b[0mDataFrame\u001b[0m\u001b[0;34m(\u001b[0m\u001b[0;34m{\u001b[0m\u001b[0;34m'HolidaysLastWeek'\u001b[0m\u001b[0;34m:\u001b[0m\u001b[0mholidays_last_week\u001b[0m\u001b[0;34m,\u001b[0m \u001b[0;34m'Date'\u001b[0m\u001b[0;34m:\u001b[0m \u001b[0mholidays_last_week_index\u001b[0m\u001b[0;34m}\u001b[0m\u001b[0;34m)\u001b[0m\u001b[0;34m\u001b[0m\u001b[0;34m\u001b[0m\u001b[0m\n\u001b[0m\u001b[1;32m      2\u001b[0m \u001b[0mdf\u001b[0m \u001b[0;34m=\u001b[0m \u001b[0mpd\u001b[0m\u001b[0;34m.\u001b[0m\u001b[0mmerge\u001b[0m\u001b[0;34m(\u001b[0m\u001b[0mdf\u001b[0m\u001b[0;34m,\u001b[0m \u001b[0mtemp_df\u001b[0m\u001b[0;34m,\u001b[0m \u001b[0mon\u001b[0m\u001b[0;34m=\u001b[0m\u001b[0;34m[\u001b[0m\u001b[0;34m'Date'\u001b[0m\u001b[0;34m]\u001b[0m\u001b[0;34m)\u001b[0m\u001b[0;34m\u001b[0m\u001b[0;34m\u001b[0m\u001b[0m\n",
            "\u001b[0;31mNameError\u001b[0m: name 'holidays_last_week' is not defined"
          ]
        }
      ]
    },
    {
      "cell_type": "code",
      "metadata": {
        "id": "1MwXJLm7-wRr"
      },
      "source": [
        "holidays_features = ['HolidaysPerDayOfWeek', 'SchoolHolidaysPerDayOfWeek', 'PromoPerDayOfWeek', \n",
        "                     'HolidaysNextWeek', 'HolidaysThisWeek', 'HolidaysLastWeek']\n",
        "\n",
        "features_x = list(set(features_x + holidays_features))"
      ],
      "id": "1MwXJLm7-wRr",
      "execution_count": 170,
      "outputs": []
    },
    {
      "cell_type": "code",
      "metadata": {
        "id": "2XyXJEH1-wVf"
      },
      "source": [
        "#Most Promos are done on DayofWeek 4\n",
        "df['DaysTillMaxPromo'] = df.DayOfWeek.apply(lambda x: 4-x)"
      ],
      "id": "2XyXJEH1-wVf",
      "execution_count": 171,
      "outputs": []
    },
    {
      "cell_type": "code",
      "metadata": {
        "id": "n-fnWkNp6Cs3"
      },
      "source": [
        "df['PromoTomorrow'] = df.Promo.shift(-1)\n",
        "df['PromoYesterday'] = df.Promo.shift(1)"
      ],
      "id": "n-fnWkNp6Cs3",
      "execution_count": 172,
      "outputs": []
    },
    {
      "cell_type": "code",
      "metadata": {
        "id": "Gdl9KRd8_pGN"
      },
      "source": [
        "promo_features = ['DaysTillMaxPromo', 'PromoTomorrow', 'PromoYesterday']\n",
        "\n",
        "features_x = list(set(features_x + promo_features))"
      ],
      "id": "Gdl9KRd8_pGN",
      "execution_count": 173,
      "outputs": []
    },
    {
      "cell_type": "code",
      "metadata": {
        "id": "uk4tuoWF_pJb"
      },
      "source": [
        "df.Sales = df.Sales.apply(lambda x: np.nan if x == 0 else x) #Convert 0 to NaNs"
      ],
      "id": "uk4tuoWF_pJb",
      "execution_count": 174,
      "outputs": []
    },
    {
      "cell_type": "code",
      "metadata": {
        "id": "fAeiVosQ_zRZ"
      },
      "source": [
        "df.loc[df['is_train'] == 1, 'SalesLog'] = np.log(1+df.loc[df['is_train'] == 1]['Sales']) #Transforming Sales to 1+log"
      ],
      "id": "fAeiVosQ_zRZ",
      "execution_count": 175,
      "outputs": []
    },
    {
      "cell_type": "code",
      "metadata": {
        "colab": {
          "base_uri": "https://localhost:8080/"
        },
        "id": "I46xakoX_5eV",
        "outputId": "723cc764-c365-49d8-b139-117c7ecc5a0f"
      },
      "source": [
        "len(features_x)"
      ],
      "id": "I46xakoX_5eV",
      "execution_count": 176,
      "outputs": [
        {
          "output_type": "execute_result",
          "data": {
            "text/plain": [
              "29"
            ]
          },
          "metadata": {
            "tags": []
          },
          "execution_count": 176
        }
      ]
    },
    {
      "cell_type": "code",
      "metadata": {
        "colab": {
          "base_uri": "https://localhost:8080/"
        },
        "id": "IegDosTE_zUs",
        "outputId": "dfbe0a4a-317e-4d80-929e-d0112e318b28"
      },
      "source": [
        "df.shape"
      ],
      "id": "IegDosTE_zUs",
      "execution_count": 177,
      "outputs": [
        {
          "output_type": "execute_result",
          "data": {
            "text/plain": [
              "(1058243, 41)"
            ]
          },
          "metadata": {
            "tags": []
          },
          "execution_count": 177
        }
      ]
    },
    {
      "cell_type": "code",
      "metadata": {
        "colab": {
          "base_uri": "https://localhost:8080/"
        },
        "id": "m2hXXCXCALme",
        "outputId": "3504ac48-0b22-4f1d-b639-c99f1a8cfceb"
      },
      "source": [
        "df.isnull().sum().sum()"
      ],
      "id": "m2hXXCXCALme",
      "execution_count": 178,
      "outputs": [
        {
          "output_type": "execute_result",
          "data": {
            "text/plain": [
              "1527143"
            ]
          },
          "metadata": {
            "tags": []
          },
          "execution_count": 178
        }
      ]
    },
    {
      "cell_type": "code",
      "metadata": {
        "id": "gi4nHwVaNV9u"
      },
      "source": [
        "#preprocessing"
      ],
      "id": "gi4nHwVaNV9u",
      "execution_count": null,
      "outputs": []
    },
    {
      "cell_type": "code",
      "metadata": {
        "id": "lOcxvKzVMr4Q"
      },
      "source": [
        ""
      ],
      "id": "lOcxvKzVMr4Q",
      "execution_count": null,
      "outputs": []
    },
    {
      "cell_type": "code",
      "metadata": {
        "colab": {
          "base_uri": "https://localhost:8080/",
          "height": 204
        },
        "id": "VDHJtuo_BeJa",
        "outputId": "1a66c886-19dc-4d94-bd21-822b43f9ee7f"
      },
      "source": [
        "#columns to use\n",
        "# columns = ['DayOfWeek', 'Date', 'Open', 'Promo', 'StateHoliday',\n",
        "#        'SchoolHoliday', 'Year', 'Month', 'Day']\n",
        "\n",
        "\n",
        "## Lable Date and StateHoiday Train\n",
        "columns = ['Sales','Store', 'DayOfWeek', 'Open', 'Promo',  'SchoolHoliday', 'Day', 'Month', 'Year', 'StoreType',\n",
        "              'Assortment','CompetitionDistance', 'Promo2']\n",
        "\n",
        "feature_columns = ['Store', 'DayOfWeek', 'Open', 'Promo',  'SchoolHoliday', 'Day', 'Month', 'Year', 'StoreType',\n",
        "              'Assortment','CompetitionDistance', 'Promo2']\n",
        "\n",
        "sample_size = 1000\n",
        "sampled_df = train_store[columns].sample(sample_size)\n",
        "\n",
        "\n",
        "## Separet Test and train files\n",
        "train_x = sampled_df[feature_columns]\n",
        "train_y = sampled_df[['Sales']]\n",
        "train_x.head()"
      ],
      "id": "VDHJtuo_BeJa",
      "execution_count": 187,
      "outputs": [
        {
          "output_type": "execute_result",
          "data": {
            "text/html": [
              "<div>\n",
              "<style scoped>\n",
              "    .dataframe tbody tr th:only-of-type {\n",
              "        vertical-align: middle;\n",
              "    }\n",
              "\n",
              "    .dataframe tbody tr th {\n",
              "        vertical-align: top;\n",
              "    }\n",
              "\n",
              "    .dataframe thead th {\n",
              "        text-align: right;\n",
              "    }\n",
              "</style>\n",
              "<table border=\"1\" class=\"dataframe\">\n",
              "  <thead>\n",
              "    <tr style=\"text-align: right;\">\n",
              "      <th></th>\n",
              "      <th>Store</th>\n",
              "      <th>DayOfWeek</th>\n",
              "      <th>Open</th>\n",
              "      <th>Promo</th>\n",
              "      <th>SchoolHoliday</th>\n",
              "      <th>Day</th>\n",
              "      <th>Month</th>\n",
              "      <th>Year</th>\n",
              "      <th>StoreType</th>\n",
              "      <th>Assortment</th>\n",
              "      <th>CompetitionDistance</th>\n",
              "      <th>Promo2</th>\n",
              "    </tr>\n",
              "  </thead>\n",
              "  <tbody>\n",
              "    <tr>\n",
              "      <th>392790</th>\n",
              "      <td>431</td>\n",
              "      <td>2</td>\n",
              "      <td>1</td>\n",
              "      <td>1</td>\n",
              "      <td>0</td>\n",
              "      <td>28</td>\n",
              "      <td>5</td>\n",
              "      <td>2013</td>\n",
              "      <td>d</td>\n",
              "      <td>c</td>\n",
              "      <td>4520.0</td>\n",
              "      <td>0</td>\n",
              "    </tr>\n",
              "    <tr>\n",
              "      <th>356898</th>\n",
              "      <td>391</td>\n",
              "      <td>3</td>\n",
              "      <td>1</td>\n",
              "      <td>0</td>\n",
              "      <td>0</td>\n",
              "      <td>16</td>\n",
              "      <td>1</td>\n",
              "      <td>2013</td>\n",
              "      <td>a</td>\n",
              "      <td>a</td>\n",
              "      <td>460.0</td>\n",
              "      <td>1</td>\n",
              "    </tr>\n",
              "    <tr>\n",
              "      <th>993889</th>\n",
              "      <td>1090</td>\n",
              "      <td>7</td>\n",
              "      <td>0</td>\n",
              "      <td>0</td>\n",
              "      <td>0</td>\n",
              "      <td>24</td>\n",
              "      <td>5</td>\n",
              "      <td>2015</td>\n",
              "      <td>a</td>\n",
              "      <td>a</td>\n",
              "      <td>330.0</td>\n",
              "      <td>1</td>\n",
              "    </tr>\n",
              "    <tr>\n",
              "      <th>524969</th>\n",
              "      <td>576</td>\n",
              "      <td>6</td>\n",
              "      <td>1</td>\n",
              "      <td>0</td>\n",
              "      <td>0</td>\n",
              "      <td>23</td>\n",
              "      <td>11</td>\n",
              "      <td>2013</td>\n",
              "      <td>c</td>\n",
              "      <td>a</td>\n",
              "      <td>50.0</td>\n",
              "      <td>0</td>\n",
              "    </tr>\n",
              "    <tr>\n",
              "      <th>558017</th>\n",
              "      <td>612</td>\n",
              "      <td>6</td>\n",
              "      <td>1</td>\n",
              "      <td>0</td>\n",
              "      <td>0</td>\n",
              "      <td>28</td>\n",
              "      <td>9</td>\n",
              "      <td>2013</td>\n",
              "      <td>d</td>\n",
              "      <td>c</td>\n",
              "      <td>2490.0</td>\n",
              "      <td>1</td>\n",
              "    </tr>\n",
              "  </tbody>\n",
              "</table>\n",
              "</div>"
            ],
            "text/plain": [
              "        Store  DayOfWeek  Open  ...  Assortment  CompetitionDistance  Promo2\n",
              "392790    431          2     1  ...           c               4520.0       0\n",
              "356898    391          3     1  ...           a                460.0       1\n",
              "993889   1090          7     0  ...           a                330.0       1\n",
              "524969    576          6     1  ...           a                 50.0       0\n",
              "558017    612          6     1  ...           c               2490.0       1\n",
              "\n",
              "[5 rows x 12 columns]"
            ]
          },
          "metadata": {
            "tags": []
          },
          "execution_count": 187
        }
      ]
    },
    {
      "cell_type": "code",
      "metadata": {
        "colab": {
          "base_uri": "https://localhost:8080/"
        },
        "id": "GuKWrhg0NYn-",
        "outputId": "8ba72b51-d8e5-4843-8f22-fcd1c9916718"
      },
      "source": [
        "### Label encoding\n",
        "lb = LabelEncoder()\n",
        "train_x['StoreType'] = lb.fit_transform(train_x['StoreType'])\n",
        "train_x['Assortment'] = lb.fit_transform(train_x['Assortment'])\n",
        "\n",
        "train_x.info()"
      ],
      "id": "GuKWrhg0NYn-",
      "execution_count": 190,
      "outputs": [
        {
          "output_type": "stream",
          "text": [
            "<class 'pandas.core.frame.DataFrame'>\n",
            "Int64Index: 1000 entries, 392790 to 227807\n",
            "Data columns (total 12 columns):\n",
            " #   Column               Non-Null Count  Dtype  \n",
            "---  ------               --------------  -----  \n",
            " 0   Store                1000 non-null   int64  \n",
            " 1   DayOfWeek            1000 non-null   int64  \n",
            " 2   Open                 1000 non-null   int64  \n",
            " 3   Promo                1000 non-null   int64  \n",
            " 4   SchoolHoliday        1000 non-null   int64  \n",
            " 5   Day                  1000 non-null   int64  \n",
            " 6   Month                1000 non-null   int64  \n",
            " 7   Year                 1000 non-null   int64  \n",
            " 8   StoreType            1000 non-null   int64  \n",
            " 9   Assortment           1000 non-null   int64  \n",
            " 10  CompetitionDistance  1000 non-null   float64\n",
            " 11  Promo2               1000 non-null   int64  \n",
            "dtypes: float64(1), int64(11)\n",
            "memory usage: 101.6 KB\n"
          ],
          "name": "stdout"
        }
      ]
    },
    {
      "cell_type": "code",
      "metadata": {
        "id": "3RC6ihw2Njou"
      },
      "source": [
        "x_scaler = MinMaxScaler()\n",
        "y_scaler = MinMaxScaler()\n",
        "\n",
        "X = x_scaler.fit_transform(train_x)\n",
        "Y = y_scaler.fit_transform(train_y)"
      ],
      "id": "3RC6ihw2Njou",
      "execution_count": 191,
      "outputs": []
    },
    {
      "cell_type": "code",
      "metadata": {
        "id": "fB1abevZNjzE"
      },
      "source": [
        "X_train, X_test, y_train, y_test = train_test_split(X, Y, test_size=0.2)"
      ],
      "id": "fB1abevZNjzE",
      "execution_count": 193,
      "outputs": []
    },
    {
      "cell_type": "code",
      "metadata": {
        "colab": {
          "base_uri": "https://localhost:8080/"
        },
        "id": "f2h5cDxaObmH",
        "outputId": "6b0429e3-ac32-4623-983b-17e881e34d90"
      },
      "source": [
        "rf_reg = RandomForestRegressor(n_estimators = 100, max_depth=5, random_state=0)\n",
        "rf_reg.fit(X_train, y_train)"
      ],
      "id": "f2h5cDxaObmH",
      "execution_count": 194,
      "outputs": [
        {
          "output_type": "execute_result",
          "data": {
            "text/plain": [
              "RandomForestRegressor(bootstrap=True, ccp_alpha=0.0, criterion='mse',\n",
              "                      max_depth=5, max_features='auto', max_leaf_nodes=None,\n",
              "                      max_samples=None, min_impurity_decrease=0.0,\n",
              "                      min_impurity_split=None, min_samples_leaf=1,\n",
              "                      min_samples_split=2, min_weight_fraction_leaf=0.0,\n",
              "                      n_estimators=100, n_jobs=None, oob_score=False,\n",
              "                      random_state=0, verbose=0, warm_start=False)"
            ]
          },
          "metadata": {
            "tags": []
          },
          "execution_count": 194
        }
      ]
    },
    {
      "cell_type": "code",
      "metadata": {
        "id": "zYbZaFzyOboq"
      },
      "source": [
        "def train_model(X, Y, model_type='LinearRegression'):\n",
        "    model = LinearRegression()\n",
        "    \n",
        "    if(model_type == 'RandomForest'):\n",
        "        model = RandomForestRegressor(n_estimators = 100, max_depth=5, random_state=0)\n",
        "    \n",
        "        \n",
        "    kf = KFold(n_splits=5)\n",
        "    for train_index, test_index in kf.split(X):\n",
        "        with mlflow.start_run(run_name=model_type, nested = True):\n",
        "            X_train, X_test = X[train_index], X[test_index]\n",
        "            y_train, y_test = Y[train_index], Y[test_index]\n",
        "\n",
        "            model.fit(X_train, y_train)\n",
        "            score = model.score(X_test, y_test)\n",
        "            print(f\"Prediction Score of the {model_type} is {round(score * 100, 2)}%\")\n",
        "            \n",
        "            if(model_type == 'LinearRegression'):\n",
        "                mlflow.log_param('LR-Score', score)\n",
        "                \n",
        "            if(model_type == 'RandomForest'):\n",
        "                mlflow.log_param('RF-Score', score)\n",
        "                \n",
        "            mlflow.sklearn.log_model(model, model_type +' Model')\n",
        "            mlflow.end_run()\n",
        "            \n",
        "    print()\n",
        "\n",
        "## Running this code will create multiple mflow models \n",
        "## Create a branch before running this file\n",
        "\n",
        "# train_model(X, Y, \"RandomForest\")\n",
        "# train_model(X, Y)"
      ],
      "id": "zYbZaFzyOboq",
      "execution_count": 195,
      "outputs": []
    },
    {
      "cell_type": "code",
      "metadata": {
        "id": "bkEC9-eGObs2"
      },
      "source": [
        "#Building models with sklearn pipelines"
      ],
      "id": "bkEC9-eGObs2",
      "execution_count": null,
      "outputs": []
    },
    {
      "cell_type": "code",
      "metadata": {
        "id": "qHvZy3zGATNQ"
      },
      "source": [
        "## Prepare the training and test features\n",
        "x = train_x\n",
        "y = train_y\n",
        "\n",
        "X_train, X_test, y_train, y_test = train_test_split(x, y,test_size=0.2)"
      ],
      "id": "qHvZy3zGATNQ",
      "execution_count": 192,
      "outputs": []
    },
    {
      "cell_type": "code",
      "metadata": {
        "id": "K4IUBtkIATRV"
      },
      "source": [
        "## Pipe Lines ##\n",
        "\n",
        "rfr = Pipeline(steps=[\n",
        "    ('scaler1', MinMaxScaler()),\n",
        "    ('rfr_regretion', RandomForestRegressor(n_estimators = 100, max_depth=5, random_state=0))\n",
        "])\n",
        "\n",
        "lr = Pipeline(steps=[\n",
        "    ('scaler2', MinMaxScaler()),\n",
        "    ('lr_regretion', LinearRegression())\n",
        "])\n",
        "\n",
        "dt = Pipeline(steps=[\n",
        "    ('scaler3', MinMaxScaler()),\n",
        "    ('dt_regretion', DecisionTreeRegressor(random_state = 0)  )\n",
        "])"
      ],
      "id": "K4IUBtkIATRV",
      "execution_count": null,
      "outputs": []
    },
    {
      "cell_type": "code",
      "metadata": {
        "colab": {
          "base_uri": "https://localhost:8080/"
        },
        "id": "Vw9OYLIDPAiE",
        "outputId": "b85cbb20-2e3f-46cc-f180-544d77c40cb5"
      },
      "source": [
        "rfr.fit(X_train, y_train)\n",
        "lr.fit(X_train, y_train)\n",
        "dt.fit(X_train, y_train)"
      ],
      "id": "Vw9OYLIDPAiE",
      "execution_count": 196,
      "outputs": [
        {
          "output_type": "execute_result",
          "data": {
            "text/plain": [
              "Pipeline(memory=None,\n",
              "         steps=[('scaler3', MinMaxScaler(copy=True, feature_range=(0, 1))),\n",
              "                ('dt_regretion',\n",
              "                 DecisionTreeRegressor(ccp_alpha=0.0, criterion='mse',\n",
              "                                       max_depth=None, max_features=None,\n",
              "                                       max_leaf_nodes=None,\n",
              "                                       min_impurity_decrease=0.0,\n",
              "                                       min_impurity_split=None,\n",
              "                                       min_samples_leaf=1, min_samples_split=2,\n",
              "                                       min_weight_fraction_leaf=0.0,\n",
              "                                       presort='deprecated', random_state=0,\n",
              "                                       splitter='best'))],\n",
              "         verbose=False)"
            ]
          },
          "metadata": {
            "tags": []
          },
          "execution_count": 196
        }
      ]
    },
    {
      "cell_type": "code",
      "metadata": {
        "colab": {
          "base_uri": "https://localhost:8080/"
        },
        "id": "2glcNkbJPA7x",
        "outputId": "5a38c692-07e7-4708-da62-306d2305fb08"
      },
      "source": [
        "rfr_score = rfr.score(X_test, y_test)\n",
        "lr_score = lr.score(X_test, y_test)\n",
        "dt_score = dt.score(X_test, y_test)\n",
        "\n",
        "print(f\"Prediction Score of the RandomForestRegretion is {round(rfr_score * 100, 2)}%\")\n",
        "print(f\"Prediction Score of the LinearRegretion is {round(lr_score * 100, 2)}%\")\n",
        "print(f\"Prediction Score of the DecisionTree is {round(dt_score * 100, 2)}%\")\n",
        "\n",
        "# print(rfr_score)"
      ],
      "id": "2glcNkbJPA7x",
      "execution_count": 197,
      "outputs": [
        {
          "output_type": "stream",
          "text": [
            "Prediction Score of the RandomForestRegretion is 57.36%\n",
            "Prediction Score of the LinearRegretion is 52.87%\n",
            "Prediction Score of the DecisionTree is 0.98%\n"
          ],
          "name": "stdout"
        }
      ]
    },
    {
      "cell_type": "code",
      "metadata": {
        "id": "2Xap8Dv4RBI1"
      },
      "source": [
        "def loss_function(y_test, y_preds):\n",
        "    rmse = np.sqrt(mean_squared_error(y_test, y_preds))\n",
        "    r_sq = r2_score(y_test, y_preds)\n",
        "    mae = mean_absolute_error(y_test, y_preds)\n",
        "    \n",
        "\n",
        "    print('Prediction RMSE Score: {}'.format(rmse))\n",
        "    print('Prediction R2_Squared: {}'.format(r_sq))\n",
        "    print('Prediction MAE Score: {}'.format(mae))"
      ],
      "id": "2Xap8Dv4RBI1",
      "execution_count": 208,
      "outputs": []
    },
    {
      "cell_type": "code",
      "metadata": {
        "id": "219cb528",
        "colab": {
          "base_uri": "https://localhost:8080/",
          "height": 231
        },
        "outputId": "7229d70d-9674-42de-b6a0-0586a4dd7f25"
      },
      "source": [
        "# loss function\n",
        "\n",
        "def loss_function(y_test, y_preds):\n",
        "    rmse = np.sqrt(mean_squared_error(y_test, y_preds))\n",
        "    r_sq = r2_score(y_test, y_preds)\n",
        "    mae = mean_absolute_error(y_test, y_preds)\n",
        "rfr_prediction = rfr.predict(X_test)\n",
        "lr_prediction = lr.predict(X_test)\n",
        "dt_prediction = dt.predict(X_test)\n",
        "\n",
        "\n",
        "\n",
        "# print(f\"Mean Absolute Loss : {round(mae * 100, 2)}%\")\n",
        "print(f\"RandomForest Mean Square Loss : {round(rfr_rmse * 100, 2)}%\")\n",
        "print(f\"Linear Mean Square Loss : {round(lr_rmse * 100, 2)}%\")\n",
        "print(f\"DecisionTree Mean Square Loss : {round(dt_rmse * 100, 2)}%\")"
      ],
      "id": "219cb528",
      "execution_count": 205,
      "outputs": [
        {
          "output_type": "error",
          "ename": "NameError",
          "evalue": "ignored",
          "traceback": [
            "\u001b[0;31m---------------------------------------------------------------------------\u001b[0m",
            "\u001b[0;31mNameError\u001b[0m                                 Traceback (most recent call last)",
            "\u001b[0;32m<ipython-input-205-d1cbabe73c42>\u001b[0m in \u001b[0;36m<module>\u001b[0;34m()\u001b[0m\n\u001b[1;32m     12\u001b[0m \u001b[0;34m\u001b[0m\u001b[0m\n\u001b[1;32m     13\u001b[0m \u001b[0;31m# print(f\"Mean Absolute Loss : {round(mae * 100, 2)}%\")\u001b[0m\u001b[0;34m\u001b[0m\u001b[0;34m\u001b[0m\u001b[0;34m\u001b[0m\u001b[0m\n\u001b[0;32m---> 14\u001b[0;31m \u001b[0mprint\u001b[0m\u001b[0;34m(\u001b[0m\u001b[0;34mf\"RandomForest Mean Square Loss : {round(rfr_rmse * 100, 2)}%\"\u001b[0m\u001b[0;34m)\u001b[0m\u001b[0;34m\u001b[0m\u001b[0;34m\u001b[0m\u001b[0m\n\u001b[0m\u001b[1;32m     15\u001b[0m \u001b[0mprint\u001b[0m\u001b[0;34m(\u001b[0m\u001b[0;34mf\"Linear Mean Square Loss : {round(lr_rmse * 100, 2)}%\"\u001b[0m\u001b[0;34m)\u001b[0m\u001b[0;34m\u001b[0m\u001b[0;34m\u001b[0m\u001b[0m\n\u001b[1;32m     16\u001b[0m \u001b[0mprint\u001b[0m\u001b[0;34m(\u001b[0m\u001b[0;34mf\"DecisionTree Mean Square Loss : {round(dt_rmse * 100, 2)}%\"\u001b[0m\u001b[0;34m)\u001b[0m\u001b[0;34m\u001b[0m\u001b[0;34m\u001b[0m\u001b[0m\n",
            "\u001b[0;31mNameError\u001b[0m: name 'rfr_rmse' is not defined"
          ]
        }
      ]
    },
    {
      "cell_type": "code",
      "metadata": {
        "id": "2QTvGT1_VBc7"
      },
      "source": [
        "# Post Prediction analysis"
      ],
      "id": "2QTvGT1_VBc7",
      "execution_count": null,
      "outputs": []
    },
    {
      "cell_type": "code",
      "metadata": {
        "id": "06351860",
        "colab": {
          "base_uri": "https://localhost:8080/",
          "height": 282
        },
        "outputId": "55a189f4-9761-4ac2-83e8-c9f70615e43e"
      },
      "source": [
        "important_features = rfr[1].feature_importances_\n",
        "plt.bar(feature_columns, important_features)"
      ],
      "id": "06351860",
      "execution_count": 210,
      "outputs": [
        {
          "output_type": "execute_result",
          "data": {
            "text/plain": [
              "<BarContainer object of 12 artists>"
            ]
          },
          "metadata": {
            "tags": []
          },
          "execution_count": 210
        },
        {
          "output_type": "display_data",
          "data": {
            "image/png": "[encoded data removed]",
            "text/plain": [
              "<Figure size 432x288 with 1 Axes>"
            ]
          },
          "metadata": {
            "tags": [],
            "needs_background": "light"
          }
        }
      ]
    },
    {
      "cell_type": "code",
      "metadata": {
        "colab": {
          "base_uri": "https://localhost:8080/",
          "height": 626
        },
        "id": "v0HrwQPGT8t6",
        "outputId": "b4989693-9e6f-47ce-e628-d9de8a06c2a2"
      },
      "source": [
        "important_features = lr[1].coef_[0]\n",
        "from matplotlib import pyplot as plt\n",
        "\n",
        "plt.bar(columns, list(important_features))  "
      ],
      "id": "v0HrwQPGT8t6",
      "execution_count": 218,
      "outputs": [
        {
          "output_type": "error",
          "ename": "ValueError",
          "evalue": "ignored",
          "traceback": [
            "\u001b[0;31m---------------------------------------------------------------------------\u001b[0m",
            "\u001b[0;31mValueError\u001b[0m                                Traceback (most recent call last)",
            "\u001b[0;32m<ipython-input-218-09e6f821d1a7>\u001b[0m in \u001b[0;36m<module>\u001b[0;34m()\u001b[0m\n\u001b[1;32m      2\u001b[0m \u001b[0;32mfrom\u001b[0m \u001b[0mmatplotlib\u001b[0m \u001b[0;32mimport\u001b[0m \u001b[0mpyplot\u001b[0m \u001b[0;32mas\u001b[0m \u001b[0mplt\u001b[0m\u001b[0;34m\u001b[0m\u001b[0;34m\u001b[0m\u001b[0m\n\u001b[1;32m      3\u001b[0m \u001b[0;34m\u001b[0m\u001b[0m\n\u001b[0;32m----> 4\u001b[0;31m \u001b[0mplt\u001b[0m\u001b[0;34m.\u001b[0m\u001b[0mbar\u001b[0m\u001b[0;34m(\u001b[0m\u001b[0mcolumns\u001b[0m\u001b[0;34m,\u001b[0m \u001b[0mlist\u001b[0m\u001b[0;34m(\u001b[0m\u001b[0mimportant_features\u001b[0m\u001b[0;34m)\u001b[0m\u001b[0;34m)\u001b[0m\u001b[0;34m\u001b[0m\u001b[0;34m\u001b[0m\u001b[0m\n\u001b[0m",
            "\u001b[0;32m/usr/local/lib/python3.7/dist-packages/matplotlib/pyplot.py\u001b[0m in \u001b[0;36mbar\u001b[0;34m(x, height, width, bottom, align, data, **kwargs)\u001b[0m\n\u001b[1;32m   2407\u001b[0m     return gca().bar(\n\u001b[1;32m   2408\u001b[0m         \u001b[0mx\u001b[0m\u001b[0;34m,\u001b[0m \u001b[0mheight\u001b[0m\u001b[0;34m,\u001b[0m \u001b[0mwidth\u001b[0m\u001b[0;34m=\u001b[0m\u001b[0mwidth\u001b[0m\u001b[0;34m,\u001b[0m \u001b[0mbottom\u001b[0m\u001b[0;34m=\u001b[0m\u001b[0mbottom\u001b[0m\u001b[0;34m,\u001b[0m \u001b[0malign\u001b[0m\u001b[0;34m=\u001b[0m\u001b[0malign\u001b[0m\u001b[0;34m,\u001b[0m\u001b[0;34m\u001b[0m\u001b[0;34m\u001b[0m\u001b[0m\n\u001b[0;32m-> 2409\u001b[0;31m         **({\"data\": data} if data is not None else {}), **kwargs)\n\u001b[0m\u001b[1;32m   2410\u001b[0m \u001b[0;34m\u001b[0m\u001b[0m\n\u001b[1;32m   2411\u001b[0m \u001b[0;34m\u001b[0m\u001b[0m\n",
            "\u001b[0;32m/usr/local/lib/python3.7/dist-packages/matplotlib/__init__.py\u001b[0m in \u001b[0;36minner\u001b[0;34m(ax, data, *args, **kwargs)\u001b[0m\n\u001b[1;32m   1563\u001b[0m     \u001b[0;32mdef\u001b[0m \u001b[0minner\u001b[0m\u001b[0;34m(\u001b[0m\u001b[0max\u001b[0m\u001b[0;34m,\u001b[0m \u001b[0;34m*\u001b[0m\u001b[0margs\u001b[0m\u001b[0;34m,\u001b[0m \u001b[0mdata\u001b[0m\u001b[0;34m=\u001b[0m\u001b[0;32mNone\u001b[0m\u001b[0;34m,\u001b[0m \u001b[0;34m**\u001b[0m\u001b[0mkwargs\u001b[0m\u001b[0;34m)\u001b[0m\u001b[0;34m:\u001b[0m\u001b[0;34m\u001b[0m\u001b[0;34m\u001b[0m\u001b[0m\n\u001b[1;32m   1564\u001b[0m         \u001b[0;32mif\u001b[0m \u001b[0mdata\u001b[0m \u001b[0;32mis\u001b[0m \u001b[0;32mNone\u001b[0m\u001b[0;34m:\u001b[0m\u001b[0;34m\u001b[0m\u001b[0;34m\u001b[0m\u001b[0m\n\u001b[0;32m-> 1565\u001b[0;31m             \u001b[0;32mreturn\u001b[0m \u001b[0mfunc\u001b[0m\u001b[0;34m(\u001b[0m\u001b[0max\u001b[0m\u001b[0;34m,\u001b[0m \u001b[0;34m*\u001b[0m\u001b[0mmap\u001b[0m\u001b[0;34m(\u001b[0m\u001b[0msanitize_sequence\u001b[0m\u001b[0;34m,\u001b[0m \u001b[0margs\u001b[0m\u001b[0;34m)\u001b[0m\u001b[0;34m,\u001b[0m \u001b[0;34m**\u001b[0m\u001b[0mkwargs\u001b[0m\u001b[0;34m)\u001b[0m\u001b[0;34m\u001b[0m\u001b[0;34m\u001b[0m\u001b[0m\n\u001b[0m\u001b[1;32m   1566\u001b[0m \u001b[0;34m\u001b[0m\u001b[0m\n\u001b[1;32m   1567\u001b[0m         \u001b[0mbound\u001b[0m \u001b[0;34m=\u001b[0m \u001b[0mnew_sig\u001b[0m\u001b[0;34m.\u001b[0m\u001b[0mbind\u001b[0m\u001b[0;34m(\u001b[0m\u001b[0max\u001b[0m\u001b[0;34m,\u001b[0m \u001b[0;34m*\u001b[0m\u001b[0margs\u001b[0m\u001b[0;34m,\u001b[0m \u001b[0;34m**\u001b[0m\u001b[0mkwargs\u001b[0m\u001b[0;34m)\u001b[0m\u001b[0;34m\u001b[0m\u001b[0;34m\u001b[0m\u001b[0m\n",
            "\u001b[0;32m/usr/local/lib/python3.7/dist-packages/matplotlib/axes/_axes.py\u001b[0m in \u001b[0;36mbar\u001b[0;34m(self, x, height, width, bottom, align, **kwargs)\u001b[0m\n\u001b[1;32m   2340\u001b[0m         x, height, width, y, linewidth = np.broadcast_arrays(\n\u001b[1;32m   2341\u001b[0m             \u001b[0;31m# Make args iterable too.\u001b[0m\u001b[0;34m\u001b[0m\u001b[0;34m\u001b[0m\u001b[0;34m\u001b[0m\u001b[0m\n\u001b[0;32m-> 2342\u001b[0;31m             np.atleast_1d(x), height, width, y, linewidth)\n\u001b[0m\u001b[1;32m   2343\u001b[0m \u001b[0;34m\u001b[0m\u001b[0m\n\u001b[1;32m   2344\u001b[0m         \u001b[0;31m# Now that units have been converted, set the tick locations.\u001b[0m\u001b[0;34m\u001b[0m\u001b[0;34m\u001b[0m\u001b[0;34m\u001b[0m\u001b[0m\n",
            "\u001b[0;32m<__array_function__ internals>\u001b[0m in \u001b[0;36mbroadcast_arrays\u001b[0;34m(*args, **kwargs)\u001b[0m\n",
            "\u001b[0;32m/usr/local/lib/python3.7/dist-packages/numpy/lib/stride_tricks.py\u001b[0m in \u001b[0;36mbroadcast_arrays\u001b[0;34m(subok, *args)\u001b[0m\n\u001b[1;32m    256\u001b[0m     \u001b[0margs\u001b[0m \u001b[0;34m=\u001b[0m \u001b[0;34m[\u001b[0m\u001b[0mnp\u001b[0m\u001b[0;34m.\u001b[0m\u001b[0marray\u001b[0m\u001b[0;34m(\u001b[0m\u001b[0m_m\u001b[0m\u001b[0;34m,\u001b[0m \u001b[0mcopy\u001b[0m\u001b[0;34m=\u001b[0m\u001b[0;32mFalse\u001b[0m\u001b[0;34m,\u001b[0m \u001b[0msubok\u001b[0m\u001b[0;34m=\u001b[0m\u001b[0msubok\u001b[0m\u001b[0;34m)\u001b[0m \u001b[0;32mfor\u001b[0m \u001b[0m_m\u001b[0m \u001b[0;32min\u001b[0m \u001b[0margs\u001b[0m\u001b[0;34m]\u001b[0m\u001b[0;34m\u001b[0m\u001b[0;34m\u001b[0m\u001b[0m\n\u001b[1;32m    257\u001b[0m \u001b[0;34m\u001b[0m\u001b[0m\n\u001b[0;32m--> 258\u001b[0;31m     \u001b[0mshape\u001b[0m \u001b[0;34m=\u001b[0m \u001b[0m_broadcast_shape\u001b[0m\u001b[0;34m(\u001b[0m\u001b[0;34m*\u001b[0m\u001b[0margs\u001b[0m\u001b[0;34m)\u001b[0m\u001b[0;34m\u001b[0m\u001b[0;34m\u001b[0m\u001b[0m\n\u001b[0m\u001b[1;32m    259\u001b[0m \u001b[0;34m\u001b[0m\u001b[0m\n\u001b[1;32m    260\u001b[0m     \u001b[0;32mif\u001b[0m \u001b[0mall\u001b[0m\u001b[0;34m(\u001b[0m\u001b[0marray\u001b[0m\u001b[0;34m.\u001b[0m\u001b[0mshape\u001b[0m \u001b[0;34m==\u001b[0m \u001b[0mshape\u001b[0m \u001b[0;32mfor\u001b[0m \u001b[0marray\u001b[0m \u001b[0;32min\u001b[0m \u001b[0margs\u001b[0m\u001b[0;34m)\u001b[0m\u001b[0;34m:\u001b[0m\u001b[0;34m\u001b[0m\u001b[0;34m\u001b[0m\u001b[0m\n",
            "\u001b[0;32m/usr/local/lib/python3.7/dist-packages/numpy/lib/stride_tricks.py\u001b[0m in \u001b[0;36m_broadcast_shape\u001b[0;34m(*args)\u001b[0m\n\u001b[1;32m    187\u001b[0m     \u001b[0;31m# use the old-iterator because np.nditer does not handle size 0 arrays\u001b[0m\u001b[0;34m\u001b[0m\u001b[0;34m\u001b[0m\u001b[0;34m\u001b[0m\u001b[0m\n\u001b[1;32m    188\u001b[0m     \u001b[0;31m# consistently\u001b[0m\u001b[0;34m\u001b[0m\u001b[0;34m\u001b[0m\u001b[0;34m\u001b[0m\u001b[0m\n\u001b[0;32m--> 189\u001b[0;31m     \u001b[0mb\u001b[0m \u001b[0;34m=\u001b[0m \u001b[0mnp\u001b[0m\u001b[0;34m.\u001b[0m\u001b[0mbroadcast\u001b[0m\u001b[0;34m(\u001b[0m\u001b[0;34m*\u001b[0m\u001b[0margs\u001b[0m\u001b[0;34m[\u001b[0m\u001b[0;34m:\u001b[0m\u001b[0;36m32\u001b[0m\u001b[0;34m]\u001b[0m\u001b[0;34m)\u001b[0m\u001b[0;34m\u001b[0m\u001b[0;34m\u001b[0m\u001b[0m\n\u001b[0m\u001b[1;32m    190\u001b[0m     \u001b[0;31m# unfortunately, it cannot handle 32 or more arguments directly\u001b[0m\u001b[0;34m\u001b[0m\u001b[0;34m\u001b[0m\u001b[0;34m\u001b[0m\u001b[0m\n\u001b[1;32m    191\u001b[0m     \u001b[0;32mfor\u001b[0m \u001b[0mpos\u001b[0m \u001b[0;32min\u001b[0m \u001b[0mrange\u001b[0m\u001b[0;34m(\u001b[0m\u001b[0;36m32\u001b[0m\u001b[0;34m,\u001b[0m \u001b[0mlen\u001b[0m\u001b[0;34m(\u001b[0m\u001b[0margs\u001b[0m\u001b[0;34m)\u001b[0m\u001b[0;34m,\u001b[0m \u001b[0;36m31\u001b[0m\u001b[0;34m)\u001b[0m\u001b[0;34m:\u001b[0m\u001b[0;34m\u001b[0m\u001b[0;34m\u001b[0m\u001b[0m\n",
            "\u001b[0;31mValueError\u001b[0m: shape mismatch: objects cannot be broadcast to a single shape"
          ]
        },
        {
          "output_type": "display_data",
          "data": {
            "image/png": "[encoded data removed]",
            "text/plain": [
              "<Figure size 432x288 with 1 Axes>"
            ]
          },
          "metadata": {
            "tags": [],
            "needs_background": "light"
          }
        }
      ]
    },
    {
      "cell_type": "code",
      "metadata": {
        "colab": {
          "base_uri": "https://localhost:8080/",
          "height": 609
        },
        "id": "0QcvlxxnW6z7",
        "outputId": "0992502a-401b-454d-cd04-93ec41474bcc"
      },
      "source": [
        "important_features = dt[1].feature_importances_\n",
        "plt.bar(columns, important_features)"
      ],
      "id": "0QcvlxxnW6z7",
      "execution_count": 220,
      "outputs": [
        {
          "output_type": "error",
          "ename": "ValueError",
          "evalue": "ignored",
          "traceback": [
            "\u001b[0;31m---------------------------------------------------------------------------\u001b[0m",
            "\u001b[0;31mValueError\u001b[0m                                Traceback (most recent call last)",
            "\u001b[0;32m<ipython-input-220-12148002eda0>\u001b[0m in \u001b[0;36m<module>\u001b[0;34m()\u001b[0m\n\u001b[1;32m      1\u001b[0m \u001b[0mimportant_features\u001b[0m \u001b[0;34m=\u001b[0m \u001b[0mdt\u001b[0m\u001b[0;34m[\u001b[0m\u001b[0;36m1\u001b[0m\u001b[0;34m]\u001b[0m\u001b[0;34m.\u001b[0m\u001b[0mfeature_importances_\u001b[0m\u001b[0;34m\u001b[0m\u001b[0;34m\u001b[0m\u001b[0m\n\u001b[0;32m----> 2\u001b[0;31m \u001b[0mplt\u001b[0m\u001b[0;34m.\u001b[0m\u001b[0mbar\u001b[0m\u001b[0;34m(\u001b[0m\u001b[0mcolumns\u001b[0m\u001b[0;34m,\u001b[0m \u001b[0mimportant_features\u001b[0m\u001b[0;34m)\u001b[0m\u001b[0;34m\u001b[0m\u001b[0;34m\u001b[0m\u001b[0m\n\u001b[0m",
            "\u001b[0;32m/usr/local/lib/python3.7/dist-packages/matplotlib/pyplot.py\u001b[0m in \u001b[0;36mbar\u001b[0;34m(x, height, width, bottom, align, data, **kwargs)\u001b[0m\n\u001b[1;32m   2407\u001b[0m     return gca().bar(\n\u001b[1;32m   2408\u001b[0m         \u001b[0mx\u001b[0m\u001b[0;34m,\u001b[0m \u001b[0mheight\u001b[0m\u001b[0;34m,\u001b[0m \u001b[0mwidth\u001b[0m\u001b[0;34m=\u001b[0m\u001b[0mwidth\u001b[0m\u001b[0;34m,\u001b[0m \u001b[0mbottom\u001b[0m\u001b[0;34m=\u001b[0m\u001b[0mbottom\u001b[0m\u001b[0;34m,\u001b[0m \u001b[0malign\u001b[0m\u001b[0;34m=\u001b[0m\u001b[0malign\u001b[0m\u001b[0;34m,\u001b[0m\u001b[0;34m\u001b[0m\u001b[0;34m\u001b[0m\u001b[0m\n\u001b[0;32m-> 2409\u001b[0;31m         **({\"data\": data} if data is not None else {}), **kwargs)\n\u001b[0m\u001b[1;32m   2410\u001b[0m \u001b[0;34m\u001b[0m\u001b[0m\n\u001b[1;32m   2411\u001b[0m \u001b[0;34m\u001b[0m\u001b[0m\n",
            "\u001b[0;32m/usr/local/lib/python3.7/dist-packages/matplotlib/__init__.py\u001b[0m in \u001b[0;36minner\u001b[0;34m(ax, data, *args, **kwargs)\u001b[0m\n\u001b[1;32m   1563\u001b[0m     \u001b[0;32mdef\u001b[0m \u001b[0minner\u001b[0m\u001b[0;34m(\u001b[0m\u001b[0max\u001b[0m\u001b[0;34m,\u001b[0m \u001b[0;34m*\u001b[0m\u001b[0margs\u001b[0m\u001b[0;34m,\u001b[0m \u001b[0mdata\u001b[0m\u001b[0;34m=\u001b[0m\u001b[0;32mNone\u001b[0m\u001b[0;34m,\u001b[0m \u001b[0;34m**\u001b[0m\u001b[0mkwargs\u001b[0m\u001b[0;34m)\u001b[0m\u001b[0;34m:\u001b[0m\u001b[0;34m\u001b[0m\u001b[0;34m\u001b[0m\u001b[0m\n\u001b[1;32m   1564\u001b[0m         \u001b[0;32mif\u001b[0m \u001b[0mdata\u001b[0m \u001b[0;32mis\u001b[0m \u001b[0;32mNone\u001b[0m\u001b[0;34m:\u001b[0m\u001b[0;34m\u001b[0m\u001b[0;34m\u001b[0m\u001b[0m\n\u001b[0;32m-> 1565\u001b[0;31m             \u001b[0;32mreturn\u001b[0m \u001b[0mfunc\u001b[0m\u001b[0;34m(\u001b[0m\u001b[0max\u001b[0m\u001b[0;34m,\u001b[0m \u001b[0;34m*\u001b[0m\u001b[0mmap\u001b[0m\u001b[0;34m(\u001b[0m\u001b[0msanitize_sequence\u001b[0m\u001b[0;34m,\u001b[0m \u001b[0margs\u001b[0m\u001b[0;34m)\u001b[0m\u001b[0;34m,\u001b[0m \u001b[0;34m**\u001b[0m\u001b[0mkwargs\u001b[0m\u001b[0;34m)\u001b[0m\u001b[0;34m\u001b[0m\u001b[0;34m\u001b[0m\u001b[0m\n\u001b[0m\u001b[1;32m   1566\u001b[0m \u001b[0;34m\u001b[0m\u001b[0m\n\u001b[1;32m   1567\u001b[0m         \u001b[0mbound\u001b[0m \u001b[0;34m=\u001b[0m \u001b[0mnew_sig\u001b[0m\u001b[0;34m.\u001b[0m\u001b[0mbind\u001b[0m\u001b[0;34m(\u001b[0m\u001b[0max\u001b[0m\u001b[0;34m,\u001b[0m \u001b[0;34m*\u001b[0m\u001b[0margs\u001b[0m\u001b[0;34m,\u001b[0m \u001b[0;34m**\u001b[0m\u001b[0mkwargs\u001b[0m\u001b[0;34m)\u001b[0m\u001b[0;34m\u001b[0m\u001b[0;34m\u001b[0m\u001b[0m\n",
            "\u001b[0;32m/usr/local/lib/python3.7/dist-packages/matplotlib/axes/_axes.py\u001b[0m in \u001b[0;36mbar\u001b[0;34m(self, x, height, width, bottom, align, **kwargs)\u001b[0m\n\u001b[1;32m   2340\u001b[0m         x, height, width, y, linewidth = np.broadcast_arrays(\n\u001b[1;32m   2341\u001b[0m             \u001b[0;31m# Make args iterable too.\u001b[0m\u001b[0;34m\u001b[0m\u001b[0;34m\u001b[0m\u001b[0;34m\u001b[0m\u001b[0m\n\u001b[0;32m-> 2342\u001b[0;31m             np.atleast_1d(x), height, width, y, linewidth)\n\u001b[0m\u001b[1;32m   2343\u001b[0m \u001b[0;34m\u001b[0m\u001b[0m\n\u001b[1;32m   2344\u001b[0m         \u001b[0;31m# Now that units have been converted, set the tick locations.\u001b[0m\u001b[0;34m\u001b[0m\u001b[0;34m\u001b[0m\u001b[0;34m\u001b[0m\u001b[0m\n",
            "\u001b[0;32m<__array_function__ internals>\u001b[0m in \u001b[0;36mbroadcast_arrays\u001b[0;34m(*args, **kwargs)\u001b[0m\n",
            "\u001b[0;32m/usr/local/lib/python3.7/dist-packages/numpy/lib/stride_tricks.py\u001b[0m in \u001b[0;36mbroadcast_arrays\u001b[0;34m(subok, *args)\u001b[0m\n\u001b[1;32m    256\u001b[0m     \u001b[0margs\u001b[0m \u001b[0;34m=\u001b[0m \u001b[0;34m[\u001b[0m\u001b[0mnp\u001b[0m\u001b[0;34m.\u001b[0m\u001b[0marray\u001b[0m\u001b[0;34m(\u001b[0m\u001b[0m_m\u001b[0m\u001b[0;34m,\u001b[0m \u001b[0mcopy\u001b[0m\u001b[0;34m=\u001b[0m\u001b[0;32mFalse\u001b[0m\u001b[0;34m,\u001b[0m \u001b[0msubok\u001b[0m\u001b[0;34m=\u001b[0m\u001b[0msubok\u001b[0m\u001b[0;34m)\u001b[0m \u001b[0;32mfor\u001b[0m \u001b[0m_m\u001b[0m \u001b[0;32min\u001b[0m \u001b[0margs\u001b[0m\u001b[0;34m]\u001b[0m\u001b[0;34m\u001b[0m\u001b[0;34m\u001b[0m\u001b[0m\n\u001b[1;32m    257\u001b[0m \u001b[0;34m\u001b[0m\u001b[0m\n\u001b[0;32m--> 258\u001b[0;31m     \u001b[0mshape\u001b[0m \u001b[0;34m=\u001b[0m \u001b[0m_broadcast_shape\u001b[0m\u001b[0;34m(\u001b[0m\u001b[0;34m*\u001b[0m\u001b[0margs\u001b[0m\u001b[0;34m)\u001b[0m\u001b[0;34m\u001b[0m\u001b[0;34m\u001b[0m\u001b[0m\n\u001b[0m\u001b[1;32m    259\u001b[0m \u001b[0;34m\u001b[0m\u001b[0m\n\u001b[1;32m    260\u001b[0m     \u001b[0;32mif\u001b[0m \u001b[0mall\u001b[0m\u001b[0;34m(\u001b[0m\u001b[0marray\u001b[0m\u001b[0;34m.\u001b[0m\u001b[0mshape\u001b[0m \u001b[0;34m==\u001b[0m \u001b[0mshape\u001b[0m \u001b[0;32mfor\u001b[0m \u001b[0marray\u001b[0m \u001b[0;32min\u001b[0m \u001b[0margs\u001b[0m\u001b[0;34m)\u001b[0m\u001b[0;34m:\u001b[0m\u001b[0;34m\u001b[0m\u001b[0;34m\u001b[0m\u001b[0m\n",
            "\u001b[0;32m/usr/local/lib/python3.7/dist-packages/numpy/lib/stride_tricks.py\u001b[0m in \u001b[0;36m_broadcast_shape\u001b[0;34m(*args)\u001b[0m\n\u001b[1;32m    187\u001b[0m     \u001b[0;31m# use the old-iterator because np.nditer does not handle size 0 arrays\u001b[0m\u001b[0;34m\u001b[0m\u001b[0;34m\u001b[0m\u001b[0;34m\u001b[0m\u001b[0m\n\u001b[1;32m    188\u001b[0m     \u001b[0;31m# consistently\u001b[0m\u001b[0;34m\u001b[0m\u001b[0;34m\u001b[0m\u001b[0;34m\u001b[0m\u001b[0m\n\u001b[0;32m--> 189\u001b[0;31m     \u001b[0mb\u001b[0m \u001b[0;34m=\u001b[0m \u001b[0mnp\u001b[0m\u001b[0;34m.\u001b[0m\u001b[0mbroadcast\u001b[0m\u001b[0;34m(\u001b[0m\u001b[0;34m*\u001b[0m\u001b[0margs\u001b[0m\u001b[0;34m[\u001b[0m\u001b[0;34m:\u001b[0m\u001b[0;36m32\u001b[0m\u001b[0;34m]\u001b[0m\u001b[0;34m)\u001b[0m\u001b[0;34m\u001b[0m\u001b[0;34m\u001b[0m\u001b[0m\n\u001b[0m\u001b[1;32m    190\u001b[0m     \u001b[0;31m# unfortunately, it cannot handle 32 or more arguments directly\u001b[0m\u001b[0;34m\u001b[0m\u001b[0;34m\u001b[0m\u001b[0;34m\u001b[0m\u001b[0m\n\u001b[1;32m    191\u001b[0m     \u001b[0;32mfor\u001b[0m \u001b[0mpos\u001b[0m \u001b[0;32min\u001b[0m \u001b[0mrange\u001b[0m\u001b[0;34m(\u001b[0m\u001b[0;36m32\u001b[0m\u001b[0;34m,\u001b[0m \u001b[0mlen\u001b[0m\u001b[0;34m(\u001b[0m\u001b[0margs\u001b[0m\u001b[0;34m)\u001b[0m\u001b[0;34m,\u001b[0m \u001b[0;36m31\u001b[0m\u001b[0;34m)\u001b[0m\u001b[0;34m:\u001b[0m\u001b[0;34m\u001b[0m\u001b[0;34m\u001b[0m\u001b[0m\n",
            "\u001b[0;31mValueError\u001b[0m: shape mismatch: objects cannot be broadcast to a single shape"
          ]
        },
        {
          "output_type": "display_data",
          "data": {
            "image/png": "[encoded data removed]",
            "text/plain": [
              "<Figure size 432x288 with 1 Axes>"
            ]
          },
          "metadata": {
            "tags": [],
            "needs_background": "light"
          }
        }
      ]
    },
    {
      "cell_type": "code",
      "metadata": {
        "id": "SSUAwSOIT8w7"
      },
      "source": [
        "# Serialize models"
      ],
      "id": "SSUAwSOIT8w7",
      "execution_count": null,
      "outputs": []
    },
    {
      "cell_type": "code",
      "metadata": {
        "colab": {
          "base_uri": "https://localhost:8080/",
          "height": 231
        },
        "id": "iTDXBEJpU4L4",
        "outputId": "0939968e-9d15-4d63-f846-5b413defc999"
      },
      "source": [
        "# use picke to dump mode\n",
        "## decomment picke to save the model\n",
        "\n",
        "reg_model_file_name = f'../models/reg-{datetime.now()}.pkl'\n",
        "lr_model_file_name = f'../models/lt-{datetime.now()}.pkl'\n",
        "dt_model_file_name = f'../models/dt-{datetime.now()}.pkl'\n",
        "\n",
        "files = [reg_model_file_name, lr_model_file_name, dt_model_file_name]\n",
        "models = [rfr, lr, dt]\n",
        "\n",
        "print(reg_model_file_name)\n",
        "\n",
        "\n",
        "# for i in range(len(files)):\n",
        "#         pickle.dump(models[i], open(files[i], 'wb'))"
      ],
      "id": "iTDXBEJpU4L4",
      "execution_count": 216,
      "outputs": [
        {
          "output_type": "error",
          "ename": "AttributeError",
          "evalue": "ignored",
          "traceback": [
            "\u001b[0;31m---------------------------------------------------------------------------\u001b[0m",
            "\u001b[0;31mAttributeError\u001b[0m                            Traceback (most recent call last)",
            "\u001b[0;32m<ipython-input-216-9bb7497a602d>\u001b[0m in \u001b[0;36m<module>\u001b[0;34m()\u001b[0m\n\u001b[1;32m      2\u001b[0m \u001b[0;31m## decomment picke to save the model\u001b[0m\u001b[0;34m\u001b[0m\u001b[0;34m\u001b[0m\u001b[0;34m\u001b[0m\u001b[0m\n\u001b[1;32m      3\u001b[0m \u001b[0;34m\u001b[0m\u001b[0m\n\u001b[0;32m----> 4\u001b[0;31m \u001b[0mreg_model_file_name\u001b[0m \u001b[0;34m=\u001b[0m \u001b[0;34mf'../models/reg-{datetime.now()}.pkl'\u001b[0m\u001b[0;34m\u001b[0m\u001b[0;34m\u001b[0m\u001b[0m\n\u001b[0m\u001b[1;32m      5\u001b[0m \u001b[0mlr_model_file_name\u001b[0m \u001b[0;34m=\u001b[0m \u001b[0;34mf'../models/lt-{datetime.now()}.pkl'\u001b[0m\u001b[0;34m\u001b[0m\u001b[0;34m\u001b[0m\u001b[0m\n\u001b[1;32m      6\u001b[0m \u001b[0mdt_model_file_name\u001b[0m \u001b[0;34m=\u001b[0m \u001b[0;34mf'../models/dt-{datetime.now()}.pkl'\u001b[0m\u001b[0;34m\u001b[0m\u001b[0;34m\u001b[0m\u001b[0m\n",
            "\u001b[0;31mAttributeError\u001b[0m: module 'datetime' has no attribute 'now'"
          ]
        }
      ]
    },
    {
      "cell_type": "code",
      "metadata": {
        "id": "AL9es-FRT8z7"
      },
      "source": [
        ""
      ],
      "id": "AL9es-FRT8z7",
      "execution_count": null,
      "outputs": []
    }
  ]
}